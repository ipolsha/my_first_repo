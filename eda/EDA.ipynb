{
 "cells": [
  {
   "cell_type": "code",
   "execution_count": 3,
   "id": "d13c40af",
   "metadata": {},
   "outputs": [
    {
     "data": {
      "application/vnd.microsoft.datawrangler.viewer.v0+json": {
       "columns": [
        {
         "name": "index",
         "rawType": "int64",
         "type": "integer"
        },
        {
         "name": "Efficacy",
         "rawType": "object",
         "type": "string"
        },
        {
         "name": "Experiment used to check activity",
         "rawType": "object",
         "type": "string"
        },
        {
         "name": "Target gene",
         "rawType": "object",
         "type": "string"
        },
        {
         "name": "Cell or Organism used",
         "rawType": "object",
         "type": "string"
        },
        {
         "name": "Transfection method",
         "rawType": "object",
         "type": "string"
        },
        {
         "name": "siRNA sense",
         "rawType": "object",
         "type": "string"
        },
        {
         "name": "siRNA antisense",
         "rawType": "object",
         "type": "string"
        },
        {
         "name": "Modification sense",
         "rawType": "object",
         "type": "string"
        },
        {
         "name": "Modification antisense",
         "rawType": "object",
         "type": "string"
        },
        {
         "name": "Position sense",
         "rawType": "object",
         "type": "string"
        },
        {
         "name": "Position antisense",
         "rawType": "object",
         "type": "string"
        },
        {
         "name": "Concentration new",
         "rawType": "float64",
         "type": "float"
        },
        {
         "name": "id_",
         "rawType": "int64",
         "type": "integer"
        },
        {
         "name": "Duration after transfection new",
         "rawType": "int64",
         "type": "integer"
        }
       ],
       "ref": "19c90265-cd2d-4e7c-98c0-102d91e05ef5",
       "rows": [
        [
         "0",
         "EC-50 = 0.02 nM for target mRNA",
         "Real-time quantitative PCR",
         "SSB gene",
         "Hepa1-6 cells",
         "Lipofectamine RNAiMax",
         "AAAUCAUGGUGAAAUAAAAUU",
         "UUUUAUUUCACCAUGAUUUUU",
         "Inverted abasic* 2-Methoxy",
         "5-phosphate ribose* 2-Methoxy",
         "1,21 * 20,21",
         "1 * 20,21",
         "0.02",
         "5329",
         "24"
        ],
        [
         "1",
         "EC-50 = 0.02 nM for target mRNA",
         "Real-time quantitative PCR",
         "SSB gene",
         "Hepa1-6 cells",
         "Lipofectamine RNAiMax",
         "AAAUCAUGGUGAAAUAAAAUU",
         "UUUUAUUUCACCAUGAUUUUU",
         "Inverted abasic* 2-Methoxy",
         "5-phosphate ribose* 2-Methoxy",
         "1,21 * 20,21",
         "1 * 20,21",
         "0.02",
         "5329",
         "24"
        ],
        [
         "2",
         "EC-50 = 0.6 nM for target mRNA",
         "Real-time quantitative PCR",
         "Luciferase gene",
         "Hepa1-6 cells",
         "Lipofectamine RNAiMax",
         "AUAAGGCUAUGAAGAGAUATT",
         "UAUCUCUUCAUAGCCUUAUTT",
         "Inverted abasic* 2-Deoxy",
         "5-phosphate ribose* 2-Deoxy",
         "1,21 * 20,21",
         "1 * 20,21",
         "0.6",
         "5328",
         "24"
        ],
        [
         "3",
         "EC-50 = 0.6 nM for target mRNA",
         "Real-time quantitative PCR",
         "Luciferase gene",
         "Hepa1-6 cells",
         "Lipofectamine RNAiMax",
         "AUAAGGCUAUGAAGAGAUATT",
         "UAUCUCUUCAUAGCCUUAUTT",
         "Inverted abasic* 2-Deoxy",
         "5-phosphate ribose* 2-Deoxy",
         "1,21 * 20,21",
         "1 * 20,21",
         "0.6",
         "5328",
         "24"
        ],
        [
         "4",
         "EC-50 = 0.14 nM for target mRNA",
         "Real-time quantitative PCR",
         "PHD3 gene",
         "Hepa1-6 cells",
         "Lipofectamine RNAiMax",
         "CAGUCAGCAAAGACGUCUAUU",
         "UAGACGUCUUUGCUGACUGUU",
         "Inverted abasic* 2-Methoxy",
         "5-phosphate ribose* 2-Methoxy",
         "1,21 * 20,21",
         "1 * 20,21",
         "0.14",
         "5327",
         "24"
        ]
       ],
       "shape": {
        "columns": 14,
        "rows": 5
       }
      },
      "text/html": [
       "<div>\n",
       "<style scoped>\n",
       "    .dataframe tbody tr th:only-of-type {\n",
       "        vertical-align: middle;\n",
       "    }\n",
       "\n",
       "    .dataframe tbody tr th {\n",
       "        vertical-align: top;\n",
       "    }\n",
       "\n",
       "    .dataframe thead th {\n",
       "        text-align: right;\n",
       "    }\n",
       "</style>\n",
       "<table border=\"1\" class=\"dataframe\">\n",
       "  <thead>\n",
       "    <tr style=\"text-align: right;\">\n",
       "      <th></th>\n",
       "      <th>Efficacy</th>\n",
       "      <th>Experiment used to check activity</th>\n",
       "      <th>Target gene</th>\n",
       "      <th>Cell or Organism used</th>\n",
       "      <th>Transfection method</th>\n",
       "      <th>siRNA sense</th>\n",
       "      <th>siRNA antisense</th>\n",
       "      <th>Modification sense</th>\n",
       "      <th>Modification antisense</th>\n",
       "      <th>Position sense</th>\n",
       "      <th>Position antisense</th>\n",
       "      <th>Concentration new</th>\n",
       "      <th>id_</th>\n",
       "      <th>Duration after transfection new</th>\n",
       "    </tr>\n",
       "  </thead>\n",
       "  <tbody>\n",
       "    <tr>\n",
       "      <th>0</th>\n",
       "      <td>EC-50 = 0.02 nM for target mRNA</td>\n",
       "      <td>Real-time quantitative PCR</td>\n",
       "      <td>SSB gene</td>\n",
       "      <td>Hepa1-6 cells</td>\n",
       "      <td>Lipofectamine RNAiMax</td>\n",
       "      <td>AAAUCAUGGUGAAAUAAAAUU</td>\n",
       "      <td>UUUUAUUUCACCAUGAUUUUU</td>\n",
       "      <td>Inverted abasic* 2-Methoxy</td>\n",
       "      <td>5-phosphate ribose* 2-Methoxy</td>\n",
       "      <td>1,21 * 20,21</td>\n",
       "      <td>1 * 20,21</td>\n",
       "      <td>0.02</td>\n",
       "      <td>5329</td>\n",
       "      <td>24</td>\n",
       "    </tr>\n",
       "    <tr>\n",
       "      <th>1</th>\n",
       "      <td>EC-50 = 0.02 nM for target mRNA</td>\n",
       "      <td>Real-time quantitative PCR</td>\n",
       "      <td>SSB gene</td>\n",
       "      <td>Hepa1-6 cells</td>\n",
       "      <td>Lipofectamine RNAiMax</td>\n",
       "      <td>AAAUCAUGGUGAAAUAAAAUU</td>\n",
       "      <td>UUUUAUUUCACCAUGAUUUUU</td>\n",
       "      <td>Inverted abasic* 2-Methoxy</td>\n",
       "      <td>5-phosphate ribose* 2-Methoxy</td>\n",
       "      <td>1,21 * 20,21</td>\n",
       "      <td>1 * 20,21</td>\n",
       "      <td>0.02</td>\n",
       "      <td>5329</td>\n",
       "      <td>24</td>\n",
       "    </tr>\n",
       "    <tr>\n",
       "      <th>2</th>\n",
       "      <td>EC-50 = 0.6 nM for target mRNA</td>\n",
       "      <td>Real-time quantitative PCR</td>\n",
       "      <td>Luciferase gene</td>\n",
       "      <td>Hepa1-6 cells</td>\n",
       "      <td>Lipofectamine RNAiMax</td>\n",
       "      <td>AUAAGGCUAUGAAGAGAUATT</td>\n",
       "      <td>UAUCUCUUCAUAGCCUUAUTT</td>\n",
       "      <td>Inverted abasic* 2-Deoxy</td>\n",
       "      <td>5-phosphate ribose* 2-Deoxy</td>\n",
       "      <td>1,21 * 20,21</td>\n",
       "      <td>1 * 20,21</td>\n",
       "      <td>0.60</td>\n",
       "      <td>5328</td>\n",
       "      <td>24</td>\n",
       "    </tr>\n",
       "    <tr>\n",
       "      <th>3</th>\n",
       "      <td>EC-50 = 0.6 nM for target mRNA</td>\n",
       "      <td>Real-time quantitative PCR</td>\n",
       "      <td>Luciferase gene</td>\n",
       "      <td>Hepa1-6 cells</td>\n",
       "      <td>Lipofectamine RNAiMax</td>\n",
       "      <td>AUAAGGCUAUGAAGAGAUATT</td>\n",
       "      <td>UAUCUCUUCAUAGCCUUAUTT</td>\n",
       "      <td>Inverted abasic* 2-Deoxy</td>\n",
       "      <td>5-phosphate ribose* 2-Deoxy</td>\n",
       "      <td>1,21 * 20,21</td>\n",
       "      <td>1 * 20,21</td>\n",
       "      <td>0.60</td>\n",
       "      <td>5328</td>\n",
       "      <td>24</td>\n",
       "    </tr>\n",
       "    <tr>\n",
       "      <th>4</th>\n",
       "      <td>EC-50 = 0.14 nM for target mRNA</td>\n",
       "      <td>Real-time quantitative PCR</td>\n",
       "      <td>PHD3 gene</td>\n",
       "      <td>Hepa1-6 cells</td>\n",
       "      <td>Lipofectamine RNAiMax</td>\n",
       "      <td>CAGUCAGCAAAGACGUCUAUU</td>\n",
       "      <td>UAGACGUCUUUGCUGACUGUU</td>\n",
       "      <td>Inverted abasic* 2-Methoxy</td>\n",
       "      <td>5-phosphate ribose* 2-Methoxy</td>\n",
       "      <td>1,21 * 20,21</td>\n",
       "      <td>1 * 20,21</td>\n",
       "      <td>0.14</td>\n",
       "      <td>5327</td>\n",
       "      <td>24</td>\n",
       "    </tr>\n",
       "  </tbody>\n",
       "</table>\n",
       "</div>"
      ],
      "text/plain": [
       "                          Efficacy Experiment used to check activity  \\\n",
       "0  EC-50 = 0.02 nM for target mRNA        Real-time quantitative PCR   \n",
       "1  EC-50 = 0.02 nM for target mRNA        Real-time quantitative PCR   \n",
       "2   EC-50 = 0.6 nM for target mRNA        Real-time quantitative PCR   \n",
       "3   EC-50 = 0.6 nM for target mRNA        Real-time quantitative PCR   \n",
       "4  EC-50 = 0.14 nM for target mRNA        Real-time quantitative PCR   \n",
       "\n",
       "       Target gene Cell or Organism used    Transfection method  \\\n",
       "0         SSB gene         Hepa1-6 cells  Lipofectamine RNAiMax   \n",
       "1         SSB gene         Hepa1-6 cells  Lipofectamine RNAiMax   \n",
       "2  Luciferase gene         Hepa1-6 cells  Lipofectamine RNAiMax   \n",
       "3  Luciferase gene         Hepa1-6 cells  Lipofectamine RNAiMax   \n",
       "4        PHD3 gene         Hepa1-6 cells  Lipofectamine RNAiMax   \n",
       "\n",
       "             siRNA sense        siRNA antisense          Modification sense  \\\n",
       "0  AAAUCAUGGUGAAAUAAAAUU  UUUUAUUUCACCAUGAUUUUU  Inverted abasic* 2-Methoxy   \n",
       "1  AAAUCAUGGUGAAAUAAAAUU  UUUUAUUUCACCAUGAUUUUU  Inverted abasic* 2-Methoxy   \n",
       "2  AUAAGGCUAUGAAGAGAUATT  UAUCUCUUCAUAGCCUUAUTT    Inverted abasic* 2-Deoxy   \n",
       "3  AUAAGGCUAUGAAGAGAUATT  UAUCUCUUCAUAGCCUUAUTT    Inverted abasic* 2-Deoxy   \n",
       "4  CAGUCAGCAAAGACGUCUAUU  UAGACGUCUUUGCUGACUGUU  Inverted abasic* 2-Methoxy   \n",
       "\n",
       "          Modification antisense Position sense Position antisense  \\\n",
       "0  5-phosphate ribose* 2-Methoxy   1,21 * 20,21          1 * 20,21   \n",
       "1  5-phosphate ribose* 2-Methoxy   1,21 * 20,21          1 * 20,21   \n",
       "2    5-phosphate ribose* 2-Deoxy   1,21 * 20,21          1 * 20,21   \n",
       "3    5-phosphate ribose* 2-Deoxy   1,21 * 20,21          1 * 20,21   \n",
       "4  5-phosphate ribose* 2-Methoxy   1,21 * 20,21          1 * 20,21   \n",
       "\n",
       "   Concentration new   id_  Duration after transfection new  \n",
       "0               0.02  5329                               24  \n",
       "1               0.02  5329                               24  \n",
       "2               0.60  5328                               24  \n",
       "3               0.60  5328                               24  \n",
       "4               0.14  5327                               24  "
      ]
     },
     "execution_count": 3,
     "metadata": {},
     "output_type": "execute_result"
    }
   ],
   "source": [
    "import pandas as pd\n",
    "df = pd.read_csv('new_data.csv').drop(columns=['siRNA concentration']).rename(columns={'Efficacy_x':'Efficacy'}) #duplicate\n",
    "df.head()\n"
   ]
  },
  {
   "cell_type": "code",
   "execution_count": 4,
   "id": "34b9d8f9",
   "metadata": {},
   "outputs": [
    {
     "data": {
      "text/plain": [
       "Index(['Efficacy', 'Experiment used to check activity', 'Target gene',\n",
       "       'Cell or Organism used', 'Transfection method', 'siRNA sense',\n",
       "       'siRNA antisense', 'Modification sense', 'Modification antisense',\n",
       "       'Position sense', 'Position antisense', 'Concentration new', 'id_',\n",
       "       'Duration after transfection new'],\n",
       "      dtype='object')"
      ]
     },
     "execution_count": 4,
     "metadata": {},
     "output_type": "execute_result"
    }
   ],
   "source": [
    "df.columns"
   ]
  },
  {
   "cell_type": "markdown",
   "id": "f95a6692",
   "metadata": {},
   "source": [
    "## Обработка столбцов значений столбцов"
   ]
  },
  {
   "cell_type": "markdown",
   "id": "dd0b8a52",
   "metadata": {},
   "source": [
    "Нужно обработать колонку с эффективностью. Большинство случаев содержат в себе (value percent) или EC-50/IC-50 - эквивалентно 50"
   ]
  },
  {
   "cell_type": "code",
   "execution_count": 5,
   "id": "4c06805c",
   "metadata": {},
   "outputs": [
    {
     "data": {
      "text/plain": [
       "(4513, 15)"
      ]
     },
     "execution_count": 5,
     "metadata": {},
     "output_type": "execute_result"
    }
   ],
   "source": [
    "import re\n",
    "def extract_value(text):\n",
    "    \"\"\"\n",
    "    Извлекает значение из текста по правилам:\n",
    "    - Для EC-50 или IC-50 оставляет \"50\"\n",
    "    - Для процентов извлекает цифру перед словом percent\n",
    "    \"\"\"\n",
    "    if pd.isna(text) or text is None:\n",
    "        return None\n",
    "    \n",
    "    text = str(text).strip()\n",
    "    \n",
    "    # Случай 1: EC-50 или IC-50\n",
    "    ec_ic_pattern = r'\\b(EC|IC)-50\\b'\n",
    "    if re.search(ec_ic_pattern, text, re.IGNORECASE):\n",
    "        return \"50\"\n",
    "    \n",
    "    # Случай 2: Проценты (цифра перед словом percent)\n",
    "    percent_pattern = r'(\\d+(?:\\.\\d+)?)\\s*percent'\n",
    "    percent_match = re.search(percent_pattern, text, re.IGNORECASE)\n",
    "    if percent_match:\n",
    "        return percent_match.group(1)\n",
    "    \n",
    "    return None\n",
    "\n",
    "df['Efficacy_correct'] = df['Efficacy'].apply(extract_value).drop(columns=['Efficacy'])\n",
    "df.shape\n"
   ]
  },
  {
   "cell_type": "code",
   "execution_count": 6,
   "id": "9a3bee66",
   "metadata": {},
   "outputs": [
    {
     "data": {
      "application/vnd.microsoft.datawrangler.viewer.v0+json": {
       "columns": [
        {
         "name": "index",
         "rawType": "object",
         "type": "string"
        },
        {
         "name": "0",
         "rawType": "int64",
         "type": "integer"
        }
       ],
       "ref": "8d95a427-f11b-4514-b217-831063856983",
       "rows": [
        [
         "Efficacy",
         "0"
        ],
        [
         "Experiment used to check activity",
         "0"
        ],
        [
         "Target gene",
         "0"
        ],
        [
         "Cell or Organism used",
         "0"
        ],
        [
         "Transfection method",
         "0"
        ],
        [
         "siRNA sense",
         "0"
        ],
        [
         "siRNA antisense",
         "0"
        ],
        [
         "Modification sense",
         "0"
        ],
        [
         "Modification antisense",
         "0"
        ],
        [
         "Position sense",
         "0"
        ],
        [
         "Position antisense",
         "0"
        ],
        [
         "Concentration new",
         "0"
        ],
        [
         "id_",
         "0"
        ],
        [
         "Duration after transfection new",
         "0"
        ],
        [
         "Efficacy_correct",
         "72"
        ]
       ],
       "shape": {
        "columns": 1,
        "rows": 15
       }
      },
      "text/plain": [
       "Efficacy                              0\n",
       "Experiment used to check activity     0\n",
       "Target gene                           0\n",
       "Cell or Organism used                 0\n",
       "Transfection method                   0\n",
       "siRNA sense                           0\n",
       "siRNA antisense                       0\n",
       "Modification sense                    0\n",
       "Modification antisense                0\n",
       "Position sense                        0\n",
       "Position antisense                    0\n",
       "Concentration new                     0\n",
       "id_                                   0\n",
       "Duration after transfection new       0\n",
       "Efficacy_correct                     72\n",
       "dtype: int64"
      ]
     },
     "execution_count": 6,
     "metadata": {},
     "output_type": "execute_result"
    }
   ],
   "source": [
    "df.isna().sum()"
   ]
  },
  {
   "cell_type": "markdown",
   "id": "80a85f5f",
   "metadata": {},
   "source": [
    "Датасет не содержит нанов - нет необходимости заниматьс заполнением пропущенных значений. Необходим анализ выбросов и аномалий\n",
    "\n",
    "Нужно проверить эффективность и другие численные столбцы на то, все ли случаи были обработаны корректно и не осталось ли там строковых значений"
   ]
  },
  {
   "cell_type": "code",
   "execution_count": 7,
   "id": "406de918",
   "metadata": {},
   "outputs": [],
   "source": [
    "def remove_non_numeric_multiple(df, columns):\n",
    "    \"\"\"\n",
    "    Удаляет строки, где любой из указанных столбцов содержит нечисловые значения\n",
    "    \n",
    "    Parameters:\n",
    "    df - исходный DataFrame\n",
    "    columns - список столбцов для проверки\n",
    "    \"\"\"\n",
    "    df_clean = df.copy()\n",
    "    \n",
    "    for column in columns:\n",
    "        # Преобразуем в числовой формат\n",
    "        numeric_series = pd.to_numeric(df_clean[column], errors='coerce')\n",
    "        # Оставляем только числовые значения\n",
    "        df_clean = df_clean[numeric_series.notna()]\n",
    "        # Преобразуем столбец к числовому типу\n",
    "        df_clean[column] = pd.to_numeric(df_clean[column])\n",
    "    \n",
    "    return df_clean\n",
    "\n",
    "columns = ['Efficacy_correct', 'Concentration new', 'id_', 'Duration after transfection new']"
   ]
  },
  {
   "cell_type": "code",
   "execution_count": 8,
   "id": "af2550e1",
   "metadata": {},
   "outputs": [
    {
     "name": "stdout",
     "output_type": "stream",
     "text": [
      "\n",
      "Очищенный DataFrame:\n"
     ]
    },
    {
     "data": {
      "application/vnd.microsoft.datawrangler.viewer.v0+json": {
       "columns": [
        {
         "name": "index",
         "rawType": "int64",
         "type": "integer"
        },
        {
         "name": "Efficacy",
         "rawType": "object",
         "type": "string"
        },
        {
         "name": "Experiment used to check activity",
         "rawType": "object",
         "type": "string"
        },
        {
         "name": "Target gene",
         "rawType": "object",
         "type": "string"
        },
        {
         "name": "Cell or Organism used",
         "rawType": "object",
         "type": "string"
        },
        {
         "name": "Transfection method",
         "rawType": "object",
         "type": "string"
        },
        {
         "name": "siRNA sense",
         "rawType": "object",
         "type": "string"
        },
        {
         "name": "siRNA antisense",
         "rawType": "object",
         "type": "string"
        },
        {
         "name": "Modification sense",
         "rawType": "object",
         "type": "string"
        },
        {
         "name": "Modification antisense",
         "rawType": "object",
         "type": "string"
        },
        {
         "name": "Position sense",
         "rawType": "object",
         "type": "string"
        },
        {
         "name": "Position antisense",
         "rawType": "object",
         "type": "string"
        },
        {
         "name": "Concentration new",
         "rawType": "float64",
         "type": "float"
        },
        {
         "name": "id_",
         "rawType": "int64",
         "type": "integer"
        },
        {
         "name": "Duration after transfection new",
         "rawType": "int64",
         "type": "integer"
        },
        {
         "name": "Efficacy_correct",
         "rawType": "float64",
         "type": "float"
        }
       ],
       "ref": "7c3cc1da-94b7-464a-a462-d3a5bf0da61d",
       "rows": [
        [
         "0",
         "EC-50 = 0.02 nM for target mRNA",
         "Real-time quantitative PCR",
         "SSB gene",
         "Hepa1-6 cells",
         "Lipofectamine RNAiMax",
         "AAAUCAUGGUGAAAUAAAAUU",
         "UUUUAUUUCACCAUGAUUUUU",
         "Inverted abasic* 2-Methoxy",
         "5-phosphate ribose* 2-Methoxy",
         "1,21 * 20,21",
         "1 * 20,21",
         "0.02",
         "5329",
         "24",
         "50.0"
        ],
        [
         "1",
         "EC-50 = 0.02 nM for target mRNA",
         "Real-time quantitative PCR",
         "SSB gene",
         "Hepa1-6 cells",
         "Lipofectamine RNAiMax",
         "AAAUCAUGGUGAAAUAAAAUU",
         "UUUUAUUUCACCAUGAUUUUU",
         "Inverted abasic* 2-Methoxy",
         "5-phosphate ribose* 2-Methoxy",
         "1,21 * 20,21",
         "1 * 20,21",
         "0.02",
         "5329",
         "24",
         "50.0"
        ],
        [
         "2",
         "EC-50 = 0.6 nM for target mRNA",
         "Real-time quantitative PCR",
         "Luciferase gene",
         "Hepa1-6 cells",
         "Lipofectamine RNAiMax",
         "AUAAGGCUAUGAAGAGAUATT",
         "UAUCUCUUCAUAGCCUUAUTT",
         "Inverted abasic* 2-Deoxy",
         "5-phosphate ribose* 2-Deoxy",
         "1,21 * 20,21",
         "1 * 20,21",
         "0.6",
         "5328",
         "24",
         "50.0"
        ],
        [
         "3",
         "EC-50 = 0.6 nM for target mRNA",
         "Real-time quantitative PCR",
         "Luciferase gene",
         "Hepa1-6 cells",
         "Lipofectamine RNAiMax",
         "AUAAGGCUAUGAAGAGAUATT",
         "UAUCUCUUCAUAGCCUUAUTT",
         "Inverted abasic* 2-Deoxy",
         "5-phosphate ribose* 2-Deoxy",
         "1,21 * 20,21",
         "1 * 20,21",
         "0.6",
         "5328",
         "24",
         "50.0"
        ],
        [
         "4",
         "EC-50 = 0.14 nM for target mRNA",
         "Real-time quantitative PCR",
         "PHD3 gene",
         "Hepa1-6 cells",
         "Lipofectamine RNAiMax",
         "CAGUCAGCAAAGACGUCUAUU",
         "UAGACGUCUUUGCUGACUGUU",
         "Inverted abasic* 2-Methoxy",
         "5-phosphate ribose* 2-Methoxy",
         "1,21 * 20,21",
         "1 * 20,21",
         "0.14",
         "5327",
         "24",
         "50.0"
        ],
        [
         "5",
         "EC-50 = 0.14 nM for target mRNA",
         "Real-time quantitative PCR",
         "PHD3 gene",
         "Hepa1-6 cells",
         "Lipofectamine RNAiMax",
         "CAGUCAGCAAAGACGUCUAUU",
         "UAGACGUCUUUGCUGACUGUU",
         "Inverted abasic* 2-Methoxy",
         "5-phosphate ribose* 2-Methoxy",
         "1,21 * 20,21",
         "1 * 20,21",
         "0.14",
         "5327",
         "24",
         "50.0"
        ],
        [
         "6",
         "EC-50 = 0.05 nM for target mRNA",
         "Real-time quantitative PCR",
         "PHD2 gene",
         "Hepa1-6 cells",
         "Lipofectamine RNAiMax",
         "CAUUGAACCCAAAUUUGAUUU",
         "AUCAAAUUUGGGUUCAAUGUU",
         "Inverted abasic* 2-Methoxy",
         "5-phosphate ribose* 2-Methoxy",
         "1,21 * 20,21",
         "1 * 20,21",
         "0.05",
         "5326",
         "24",
         "50.0"
        ],
        [
         "7",
         "EC-50 = 0.05 nM for target mRNA",
         "Real-time quantitative PCR",
         "PHD2 gene",
         "Hepa1-6 cells",
         "Lipofectamine RNAiMax",
         "CAUUGAACCCAAAUUUGAUUU",
         "AUCAAAUUUGGGUUCAAUGUU",
         "Inverted abasic* 2-Methoxy",
         "5-phosphate ribose* 2-Methoxy",
         "1,21 * 20,21",
         "1 * 20,21",
         "0.05",
         "5326",
         "24",
         "50.0"
        ],
        [
         "8",
         "EC-50 = 0.51 nM for target mRNA",
         "Real-time quantitative PCR",
         "ApoB gene",
         "Hepa1-6 cells",
         "Lipofectamine RNAiMax",
         "CAAGUGUCAUCACACUGAAUU",
         "UUCAGUGUGAUGACACUUGUU",
         "Inverted abasic* 2-Methoxy",
         "5-phosphate ribose* 2-Methoxy",
         "1,21 * 20,21",
         "1 * 20,21",
         "0.51",
         "5325",
         "24",
         "50.0"
        ],
        [
         "9",
         "EC-50 = 0.51 nM for target mRNA",
         "Real-time quantitative PCR",
         "ApoB gene",
         "Hepa1-6 cells",
         "Lipofectamine RNAiMax",
         "CAAGUGUCAUCACACUGAAUU",
         "UUCAGUGUGAUGACACUUGUU",
         "Inverted abasic* 2-Methoxy",
         "5-phosphate ribose* 2-Methoxy",
         "1,21 * 20,21",
         "1 * 20,21",
         "0.51",
         "5325",
         "24",
         "50.0"
        ],
        [
         "10",
         "EC-50 = 0.44 nM for target mRNA",
         "Real-time quantitative PCR",
         "ApoB gene",
         "Hepa1-6 cells",
         "Lipofectamine RNAiMax",
         "CUUUAACAAUUCCUGAAAUUU",
         "AUUUCAGGAAUUGUUAAAGUU",
         "Inverted abasic* 2-Methoxy",
         "5-phosphate ribose* 2-Methoxy",
         "1,21 * 20,21",
         "1 * 20,21",
         "0.44",
         "5324",
         "24",
         "50.0"
        ],
        [
         "11",
         "EC-50 = 0.44 nM for target mRNA",
         "Real-time quantitative PCR",
         "ApoB gene",
         "Hepa1-6 cells",
         "Lipofectamine RNAiMax",
         "CUUUAACAAUUCCUGAAAUUU",
         "AUUUCAGGAAUUGUUAAAGUU",
         "Inverted abasic* 2-Methoxy",
         "5-phosphate ribose* 2-Methoxy",
         "1,21 * 20,21",
         "1 * 20,21",
         "0.44",
         "5324",
         "24",
         "50.0"
        ],
        [
         "12",
         "EC-50 = 0.02 nM for target mRNA",
         "Real-time quantitative PCR",
         "SSB gene",
         "Hepa1-6 cells",
         "Lipofectamine RNAiMax",
         "AAAUCAUGGUGAAAUAAAAUU",
         "UUUUAUUUCACCAUGAUUUUU",
         "Inverted abasic* 2-Methoxy",
         "5-hydroxy ribose* 2-Methoxy",
         "1,21 * 20,21",
         "1 * 20,21",
         "0.02",
         "5323",
         "24",
         "50.0"
        ],
        [
         "13",
         "EC-50 = 0.02 nM for target mRNA",
         "Real-time quantitative PCR",
         "SSB gene",
         "Hepa1-6 cells",
         "Lipofectamine RNAiMax",
         "AAAUCAUGGUGAAAUAAAAUU",
         "UUUUAUUUCACCAUGAUUUUU",
         "Inverted abasic* 2-Methoxy",
         "5-hydroxy ribose* 2-Methoxy",
         "1,21 * 20,21",
         "1 * 20,21",
         "0.02",
         "5323",
         "24",
         "50.0"
        ],
        [
         "14",
         "EC-50 = 0.19 nM for target mRNA",
         "Real-time quantitative PCR",
         "Luciferase gene",
         "Hepa1-6 cells",
         "Lipofectamine RNAiMax",
         "AUAAGGCUAUGAAGAGAUATT",
         "UAUCUCUUCAUAGCCUUAUTT",
         "Inverted abasic* 2-Deoxy",
         "5-hydroxy ribose* 2-Deoxy",
         "1,21 * 20,21",
         "1 * 20,21",
         "0.19",
         "5322",
         "24",
         "50.0"
        ],
        [
         "15",
         "EC-50 = 0.19 nM for target mRNA",
         "Real-time quantitative PCR",
         "Luciferase gene",
         "Hepa1-6 cells",
         "Lipofectamine RNAiMax",
         "AUAAGGCUAUGAAGAGAUATT",
         "UAUCUCUUCAUAGCCUUAUTT",
         "Inverted abasic* 2-Deoxy",
         "5-hydroxy ribose* 2-Deoxy",
         "1,21 * 20,21",
         "1 * 20,21",
         "0.19",
         "5322",
         "24",
         "50.0"
        ],
        [
         "16",
         "EC-50 = 0.13 nM for target mRNA",
         "Real-time quantitative PCR",
         "PHD3 gene",
         "Hepa1-6 cells",
         "Lipofectamine RNAiMax",
         "CAGUCAGCAAAGACGUCUAUU",
         "UAGACGUCUUUGCUGACUGUU",
         "Inverted abasic* 2-Methoxy",
         "5-hydroxy ribose* 2-Methoxy",
         "1,21 * 20,21",
         "1 * 20,21",
         "0.13",
         "5321",
         "24",
         "50.0"
        ],
        [
         "17",
         "EC-50 = 0.13 nM for target mRNA",
         "Real-time quantitative PCR",
         "PHD3 gene",
         "Hepa1-6 cells",
         "Lipofectamine RNAiMax",
         "CAGUCAGCAAAGACGUCUAUU",
         "UAGACGUCUUUGCUGACUGUU",
         "Inverted abasic* 2-Methoxy",
         "5-hydroxy ribose* 2-Methoxy",
         "1,21 * 20,21",
         "1 * 20,21",
         "0.13",
         "5321",
         "24",
         "50.0"
        ],
        [
         "18",
         "EC-50 = 0.05 nM for target mRNA",
         "Real-time quantitative PCR",
         "PHD2 gene",
         "Hepa1-6 cells",
         "Lipofectamine RNAiMax",
         "CAUUGAACCCAAAUUUGAUUU",
         "AUCAAAUUUGGGUUCAAUGUU",
         "Inverted abasic* 2-Methoxy",
         "5-hydroxy ribose* 2-Methoxy",
         "1,21 * 20,21",
         "1 * 20,21",
         "0.05",
         "5320",
         "24",
         "50.0"
        ],
        [
         "19",
         "EC-50 = 0.05 nM for target mRNA",
         "Real-time quantitative PCR",
         "PHD2 gene",
         "Hepa1-6 cells",
         "Lipofectamine RNAiMax",
         "CAUUGAACCCAAAUUUGAUUU",
         "AUCAAAUUUGGGUUCAAUGUU",
         "Inverted abasic* 2-Methoxy",
         "5-hydroxy ribose* 2-Methoxy",
         "1,21 * 20,21",
         "1 * 20,21",
         "0.05",
         "5320",
         "24",
         "50.0"
        ],
        [
         "20",
         "EC-50 = 0.5 nM for target mRNA",
         "Real-time quantitative PCR",
         "ApoB gene",
         "Hepa1-6 cells",
         "Lipofectamine RNAiMax",
         "CAAGUGUCAUCACACUGAAUU",
         "UUCAGUGUGAUGACACUUGUU",
         "Inverted abasic* 2-Methoxy",
         "5-hydroxy ribose* 2-Methoxy",
         "1,21 * 20,21",
         "1 * 20,21",
         "0.5",
         "5319",
         "24",
         "50.0"
        ],
        [
         "21",
         "EC-50 = 0.5 nM for target mRNA",
         "Real-time quantitative PCR",
         "ApoB gene",
         "Hepa1-6 cells",
         "Lipofectamine RNAiMax",
         "CAAGUGUCAUCACACUGAAUU",
         "UUCAGUGUGAUGACACUUGUU",
         "Inverted abasic* 2-Methoxy",
         "5-hydroxy ribose* 2-Methoxy",
         "1,21 * 20,21",
         "1 * 20,21",
         "0.5",
         "5319",
         "24",
         "50.0"
        ],
        [
         "22",
         "EC-50 = 0.3 nM for target mRNA",
         "Real-time quantitative PCR",
         "ApoB gene",
         "Hepa1-6 cells",
         "Lipofectamine RNAiMax",
         "CUUUAACAAUUCCUGAAAUUU",
         "AUUUCAGGAAUUGUUAAAGUU",
         "Inverted abasic* 2-Methoxy",
         "5-hydroxy ribose* 2-Methoxy",
         "1,21 * 20,21",
         "1 * 20,21",
         "0.3",
         "5318",
         "24",
         "50.0"
        ],
        [
         "23",
         "EC-50 = 0.3 nM for target mRNA",
         "Real-time quantitative PCR",
         "ApoB gene",
         "Hepa1-6 cells",
         "Lipofectamine RNAiMax",
         "CUUUAACAAUUCCUGAAAUUU",
         "AUUUCAGGAAUUGUUAAAGUU",
         "Inverted abasic* 2-Methoxy",
         "5-hydroxy ribose* 2-Methoxy",
         "1,21 * 20,21",
         "1 * 20,21",
         "0.3",
         "5318",
         "24",
         "50.0"
        ],
        [
         "24",
         "40.77 percent target mRNA inhibition",
         "Real-time PCR",
         "SSB gene",
         "Hepa1-6 cells",
         "Lipofectamine RNAiMAX",
         "AAAUCAUGGUGAAAUAAAAUU",
         "UAUUUCACCAUGAUUUUU",
         "Inverted abasic* 2-Deoxy* 2-Methoxy",
         "5-phosphate ribose* Inverted abasic* 2-Methoxy* 2-Fluoro* 2-Hydroxy",
         "1,21 * 1,2,3,4,5,6,7,8,9,10,11,12,13,14,15,16,17,18,19 * 20,21",
         "1 * 1 * 1,3,4,5,6,8,9,14,15,16,17,18 * 2,7,10,12,13 * 11",
         "10.0",
         "5317",
         "24",
         "40.77"
        ],
        [
         "25",
         "40.77 percent target mRNA inhibition",
         "Real-time PCR",
         "SSB gene",
         "Hepa1-6 cells",
         "Lipofectamine RNAiMAX",
         "AAAUCAUGGUGAAAUAAAAUU",
         "UAUUUCACCAUGAUUUUU",
         "Inverted abasic* 2-Deoxy* 2-Methoxy",
         "5-phosphate ribose* Inverted abasic* 2-Methoxy* 2-Fluoro* 2-Hydroxy",
         "1,21 * 1,2,3,4,5,6,7,8,9,10,11,12,13,14,15,16,17,18,19 * 20,21",
         "2 * 1 * 1,3,4,5,6,8,9,14,15,16,17,18 * 2,7,10,12,13 * 11",
         "10.0",
         "5317",
         "24",
         "40.77"
        ],
        [
         "26",
         "42.17 percent target mRNA inhibition",
         "Real-time PCR",
         "SSB gene",
         "Hepa1-6 cells",
         "Lipofectamine RNAiMAX",
         "AAAUCAUGGUGAAAUAAAAUU",
         "TATTTCACCATGATTTUU",
         "Inverted abasic* 2-Deoxy* 2-Methoxy",
         "5-phosphate ribose* Inverted abasic* 2-Deoxy* 2-Fluoro* 2-Methoxy",
         "1,21 * 1,2,3,4,5,6,7,8,9,10,11,12,13,14,15,16,17,18,19 * 20,21",
         "1 * 1 * 1,3,4,5,6,8,9,11,14,15,16 * 2,7,10,12,13 * 17,18",
         "10.0",
         "5316",
         "24",
         "42.17"
        ],
        [
         "27",
         "42.17 percent target mRNA inhibition",
         "Real-time PCR",
         "SSB gene",
         "Hepa1-6 cells",
         "Lipofectamine RNAiMAX",
         "AAAUCAUGGUGAAAUAAAAUU",
         "TATTTCACCATGATTTUU",
         "Inverted abasic* 2-Deoxy* 2-Methoxy",
         "5-phosphate ribose* Inverted abasic* 2-Deoxy* 2-Fluoro* 2-Methoxy",
         "1,21 * 1,2,3,4,5,6,7,8,9,10,11,12,13,14,15,16,17,18,19 * 20,21",
         "1 * 1 * 1,3,4,5,6,8,9,11,14,15,16 * 2,7,10,12,13 * 17,18",
         "10.0",
         "5316",
         "24",
         "42.17"
        ],
        [
         "28",
         "44.11 percent target mRNA inhibition",
         "Real-time PCR",
         "SSB gene",
         "Hepa1-6 cells",
         "Lipofectamine RNAiMAX",
         "AAAUCAUGGUGAAAUAAAAUU",
         "UAUUUCACCAUGAUUUUU",
         "Inverted abasic* 2-Deoxy* 2-Methoxy",
         "5-phosphate ribose* Inverted abasic* 2-Hydroxy* 2-Fluoro* 2-Methoxy",
         "1,21 * 1,2,3,4,5,6,7,8,9,10,11,12,13,14,15,16,17,18,19 * 20,21",
         "1 * 1 * 1,3,4,5,6,8,9,11,14,15,16 * 2,7,10,12,13 * 17,18",
         "10.0",
         "5315",
         "24",
         "44.11"
        ],
        [
         "29",
         "44.11 percent target mRNA inhibition",
         "Real-time PCR",
         "SSB gene",
         "Hepa1-6 cells",
         "Lipofectamine RNAiMAX",
         "AAAUCAUGGUGAAAUAAAAUU",
         "UAUUUCACCAUGAUUUUU",
         "Inverted abasic* 2-Deoxy* 2-Methoxy",
         "5-phosphate ribose* Inverted abasic* 2-Hydroxy* 2-Fluoro* 2-Methoxy",
         "1,21 * 1,2,3,4,5,6,7,8,9,10,11,12,13,14,15,16,17,18,19 * 20,21",
         "1 * 1 * 1,3,4,5,6,8,9,11,14,15,16 * 2,7,10,12,13 * 17,18",
         "10.0",
         "5315",
         "24",
         "44.11"
        ],
        [
         "30",
         "65.16 percent target mRNA inhibition",
         "Real-time PCR",
         "SSB gene",
         "Hepa1-6 cells",
         "Lipofectamine RNAiMAX",
         "AAAUCAUGGUGAAAUAAAAUU",
         "UAUUUCACCAUGAUUUUU",
         "Inverted abasic* 2-Deoxy* 2-Methoxy",
         "5-phosphate ribose* Inverted abasic* 2-Fluoro* 2-Methoxy",
         "1,21 * 1,2,3,4,5,6,7,8,9,10,11,12,13,14,15,16,17,18,19 * 20,21",
         "1 * 1 * 1,3,4,5,6,8,9,11,14,15,16 * 2,7,10,12,13,17,18",
         "10.0",
         "5314",
         "24",
         "65.16"
        ],
        [
         "31",
         "65.16 percent target mRNA inhibition",
         "Real-time PCR",
         "SSB gene",
         "Hepa1-6 cells",
         "Lipofectamine RNAiMAX",
         "AAAUCAUGGUGAAAUAAAAUU",
         "UAUUUCACCAUGAUUUUU",
         "Inverted abasic* 2-Deoxy* 2-Methoxy",
         "5-phosphate ribose* Inverted abasic* 2-Fluoro* 2-Methoxy",
         "1,21 * 1,2,3,4,5,6,7,8,9,10,11,12,13,14,15,16,17,18,19 * 20,21",
         "2 * 1 * 1,3,4,5,6,8,9,11,14,15,16 * 2,7,10,12,13,17,18",
         "10.0",
         "5314",
         "24",
         "65.16"
        ],
        [
         "32",
         "60.4 percent target mRNA inhibition",
         "Real-time PCR",
         "SSB gene",
         "Hepa1-6 cells",
         "Lipofectamine RNAiMAX",
         "AAAUCAUGGUGAAAUAAAAUU",
         "UAUUUCACCAUGAUUUUU",
         "Inverted abasic* 2-Deoxy* 2-Methoxy",
         "5-phosphate ribose* Inverted abasic* 2-Fluoro* 2-Deoxy* 2-Methoxy",
         "1,21 * 1,2,3,4,5,6,7,8,9,10,11,12,13,14,15,16,17,18,19 * 20,21",
         "1 * 1 * 1,3,4,5,6,8,9,11,14,15,16 * 2,7,10,12,13 * 17,18",
         "10.0",
         "5313",
         "24",
         "60.4"
        ],
        [
         "33",
         "60.4 percent target mRNA inhibition",
         "Real-time PCR",
         "SSB gene",
         "Hepa1-6 cells",
         "Lipofectamine RNAiMAX",
         "AAAUCAUGGUGAAAUAAAAUU",
         "UAUUUCACCAUGAUUUUU",
         "Inverted abasic* 2-Deoxy* 2-Methoxy",
         "5-phosphate ribose* Inverted abasic* 2-Fluoro* 2-Deoxy* 2-Methoxy",
         "1,21 * 1,2,3,4,5,6,7,8,9,10,11,12,13,14,15,16,17,18,19 * 20,21",
         "1 * 1 * 1,3,4,5,6,8,9,11,14,15,16 * 2,7,10,12,13 * 17,18",
         "10.0",
         "5313",
         "24",
         "60.4"
        ],
        [
         "34",
         "5.72 percent target mRNA inhibition",
         "Real-time PCR",
         "SSB gene",
         "Hepa1-6 cells",
         "Lipofectamine RNAiMAX",
         "AAAUCAUGGUGAAAUAAAAUU",
         "UAUUUCACCAUGAUUUUU",
         "Inverted abasic* 2-Deoxy* 2-Methoxy",
         "5-phosphate ribose* Inverted abasic* 2-Fluoro* 2-Hydroxy* 2-Methoxy",
         "1,21 * 1,2,3,4,5,6,7,8,9,10,11,12,13,14,15,16,17,18,19 * 20,21",
         "1 * 1 * 1,3,4,5,6,8,9,11,14,15,16 * 2,7,10,12,13 * 17,18",
         "10.0",
         "5312",
         "24",
         "5.72"
        ],
        [
         "35",
         "5.72 percent target mRNA inhibition",
         "Real-time PCR",
         "SSB gene",
         "Hepa1-6 cells",
         "Lipofectamine RNAiMAX",
         "AAAUCAUGGUGAAAUAAAAUU",
         "UAUUUCACCAUGAUUUUU",
         "Inverted abasic* 2-Deoxy* 2-Methoxy",
         "5-phosphate ribose* Inverted abasic* 2-Fluoro* 2-Hydroxy* 2-Methoxy",
         "1,21 * 1,2,3,4,5,6,7,8,9,10,11,12,13,14,15,16,17,18,19 * 20,21",
         "1 * 1 * 1,3,4,5,6,8,9,11,14,15,16 * 2,7,10,12,13 * 17,18",
         "10.0",
         "5312",
         "24",
         "5.72"
        ],
        [
         "36",
         "32.24 percent target mRNA inhibition",
         "Real-time PCR",
         "SSB gene",
         "Hepa1-6 cells",
         "Lipofectamine RNAiMAX",
         "AAAUCAUGGUGAAAUAAAAUU",
         "UAUUUCACCAUGAUUUUU",
         "Inverted abasic* 2-Deoxy* 2-Methoxy",
         "5-phosphate ribose* Inverted abasic* 2-Methoxy* 2-Hydroxy",
         "1,21 * 1,2,3,4,5,6,7,8,9,10,11,12,13,14,15,16,17,18,19 * 20,21",
         "1 * 1 * 1,2,3,4,5,6,7,8,9,10,12,13,14,15,16,17,18 * 11",
         "10.0",
         "5311",
         "24",
         "32.24"
        ],
        [
         "37",
         "32.24 percent target mRNA inhibition",
         "Real-time PCR",
         "SSB gene",
         "Hepa1-6 cells",
         "Lipofectamine RNAiMAX",
         "AAAUCAUGGUGAAAUAAAAUU",
         "UAUUUCACCAUGAUUUUU",
         "Inverted abasic* 2-Deoxy* 2-Methoxy",
         "5-phosphate ribose* Inverted abasic* 2-Methoxy* 2-Hydroxy",
         "1,21 * 1,2,3,4,5,6,7,8,9,10,11,12,13,14,15,16,17,18,19 * 20,21",
         "2 * 1 * 1,2,3,4,5,6,7,8,9,10,12,13,14,15,16,17,18 * 11",
         "10.0",
         "5311",
         "24",
         "32.24"
        ],
        [
         "38",
         "64.71 percent target mRNA inhibition",
         "Real-time PCR",
         "SSB gene",
         "Hepa1-6 cells",
         "Lipofectamine RNAiMAX",
         "AAAUCAUGGUGAAAUAAAAUU",
         "UAUUUCACCAUGAUUUUU",
         "Inverted abasic* 2-Deoxy* 2-Methoxy",
         "5-phosphate ribose* Inverted abasic* 2-Fluoro* 2-Methoxy",
         "1,21 * 1,2,3,4,5,6,7,8,9,10,11,12,13,14,15,16,17,18,19 * 20,21",
         "1 * 1 * 1,2,3,4,5,6,7,8,9,10,11,12,13,14,15,16 * 17,18",
         "10.0",
         "5310",
         "24",
         "64.71"
        ],
        [
         "39",
         "64.71 percent target mRNA inhibition",
         "Real-time PCR",
         "SSB gene",
         "Hepa1-6 cells",
         "Lipofectamine RNAiMAX",
         "AAAUCAUGGUGAAAUAAAAUU",
         "UAUUUCACCAUGAUUUUU",
         "Inverted abasic* 2-Deoxy* 2-Methoxy",
         "5-phosphate ribose* Inverted abasic* 2-Fluoro* 2-Methoxy",
         "1,21 * 1,2,3,4,5,6,7,8,9,10,11,12,13,14,15,16,17,18,19 * 20,21",
         "1 * 1 * 1,2,3,4,5,6,7,8,9,10,11,12,13,14,15,16 * 17,18",
         "10.0",
         "5310",
         "24",
         "64.71"
        ],
        [
         "40",
         "26.16 percent target mRNA inhibition",
         "Real-time PCR",
         "SSB gene",
         "Hepa1-6 cells",
         "Lipofectamine RNAiMAX",
         "AAAUCAUGGUGAAAUAAAAUU",
         "TATTTCACCATGATTTUU",
         "Inverted abasic* 2-Deoxy* 2-Methoxy",
         "5-phosphate ribose* Inverted abasic* 2-Deoxy* 2-Methoxy",
         "1,21 * 1,2,3,4,5,6,7,8,9,10,11,12,13,14,15,16,17,18,19 * 20,21",
         "1 * 1 * 1,2,3,4,5,6,7,8,9,10,11,12,13,14,15,16 * 17,18",
         "10.0",
         "5309",
         "24",
         "26.16"
        ],
        [
         "41",
         "26.16 percent target mRNA inhibition",
         "Real-time PCR",
         "SSB gene",
         "Hepa1-6 cells",
         "Lipofectamine RNAiMAX",
         "AAAUCAUGGUGAAAUAAAAUU",
         "TATTTCACCATGATTTUU",
         "Inverted abasic* 2-Deoxy* 2-Methoxy",
         "5-phosphate ribose* Inverted abasic* 2-Deoxy* 2-Methoxy",
         "1,21 * 1,2,3,4,5,6,7,8,9,10,11,12,13,14,15,16,17,18,19 * 20,21",
         "1 * 1 * 1,2,3,4,5,6,7,8,9,10,11,12,13,14,15,16 * 17,18",
         "10.0",
         "5309",
         "24",
         "26.16"
        ],
        [
         "42",
         "39.8 percent target mRNA inhibition",
         "Real-time PCR",
         "SSB gene",
         "Hepa1-6 cells",
         "Lipofectamine RNAiMAX",
         "AAAUCAUGGUGAAAUAAAAUU",
         "UAUUUCACCAUGAUUUUU",
         "Inverted abasic* 2-Deoxy* 2-Methoxy",
         "5-phosphate ribose* Inverted abasic* 2-Hydroxy* 2-Methoxy",
         "1,21 * 1,2,3,4,5,6,7,8,9,10,11,12,13,14,15,16,17,18,19 * 20,21",
         "1 * 1 * 1,2,3,4,5,6,7,8,9,10,11,12,13,14,15,16 * 17,18",
         "10.0",
         "5308",
         "24",
         "39.8"
        ],
        [
         "43",
         "39.8 percent target mRNA inhibition",
         "Real-time PCR",
         "SSB gene",
         "Hepa1-6 cells",
         "Lipofectamine RNAiMAX",
         "AAAUCAUGGUGAAAUAAAAUU",
         "UAUUUCACCAUGAUUUUU",
         "Inverted abasic* 2-Deoxy* 2-Methoxy",
         "5-phosphate ribose* Inverted abasic* 2-Hydroxy* 2-Methoxy",
         "1,21 * 1,2,3,4,5,6,7,8,9,10,11,12,13,14,15,16,17,18,19 * 20,21",
         "1 * 1 * 1,2,3,4,5,6,7,8,9,10,11,12,13,14,15,16 * 17,18",
         "10.0",
         "5308",
         "24",
         "39.8"
        ],
        [
         "44",
         "87.07 percent target mRNA inhibition",
         "Real-time PCR",
         "SSB gene",
         "Hepa1-6 cells",
         "Lipofectamine RNAiMAX",
         "AAAUCAUGGUGAAAUAAAAUU",
         "UUUUAUUUCACCAUGAUUUUU",
         "Inverted abasic* 2-Deoxy* 2-Methoxy",
         "2-Methoxy* 2-Fluoro* 2-Hydroxy",
         "1,21 * 1,2,3,4,5,6,7,8,9,10,11,12,13,14,15,16,17,18,19 * 20,21",
         "1,2,3,4,6,7,8,9,11,12,17,18,19,20,21 * 5,10,13,15,16 * 14",
         "10.0",
         "5307",
         "24",
         "87.07"
        ],
        [
         "45",
         "87.07 percent target mRNA inhibition",
         "Real-time PCR",
         "SSB gene",
         "Hepa1-6 cells",
         "Lipofectamine RNAiMAX",
         "AAAUCAUGGUGAAAUAAAAUU",
         "UUUUAUUUCACCAUGAUUUUU",
         "Inverted abasic* 2-Deoxy* 2-Methoxy",
         "2-Methoxy* 2-Fluoro* 2-Hydroxy",
         "1,21 * 1,2,3,4,5,6,7,8,9,10,11,12,13,14,15,16,17,18,19 * 20,21",
         "1,2,3,4,6,7,8,9,11,12,17,18,19,20,21 * 5,10,13,15,16 * 15",
         "10.0",
         "5307",
         "24",
         "87.07"
        ],
        [
         "46",
         "74.7 percent target mRNA inhibition",
         "Real-time PCR",
         "SSB gene",
         "Hepa1-6 cells",
         "Lipofectamine RNAiMAX",
         "AAAUCAUGGUGAAAUAAAAUU",
         "TTTTATTTCACCATGATTTUU",
         "Inverted abasic* 2-Deoxy* 2-Methoxy",
         "2-Deoxy* 2-Fluoro* 2-Methoxy",
         "1,21 * 1,2,3,4,5,6,7,8,9,10,11,12,13,14,15,16,17,18,19 * 20,21",
         "1,2,3,4,6,7,8,9,11,12,14,17,18,19 * 5,10,13,15,16 * 20,21",
         "10.0",
         "5306",
         "24",
         "74.7"
        ],
        [
         "47",
         "74.7 percent target mRNA inhibition",
         "Real-time PCR",
         "SSB gene",
         "Hepa1-6 cells",
         "Lipofectamine RNAiMAX",
         "AAAUCAUGGUGAAAUAAAAUU",
         "TTTTATTTCACCATGATTTUU",
         "Inverted abasic* 2-Deoxy* 2-Methoxy",
         "2-Deoxy* 2-Fluoro* 2-Methoxy",
         "1,21 * 1,2,3,4,5,6,7,8,9,10,11,12,13,14,15,16,17,18,19 * 20,21",
         "1,2,3,4,6,7,8,9,11,12,14,17,18,19 * 5,10,13,15,16 * 20,21",
         "10.0",
         "5306",
         "24",
         "74.7"
        ],
        [
         "48",
         "93.72 percent target mRNA inhibition",
         "Real-time PCR",
         "SSB gene",
         "Hepa1-6 cells",
         "Lipofectamine RNAiMAX",
         "AAAUCAUGGUGAAAUAAAAUU",
         "UUUUAUUUCACCAUGAUUUUU",
         "Inverted abasic* 2-Deoxy* 2-Methoxy",
         "2-Hydroxy* 2-Fluoro* 2-Methoxy",
         "1,21 * 1,2,3,4,5,6,7,8,9,10,11,12,13,14,15,16,17,18,19 * 20,21",
         "1,2,3,4,6,7,8,9,11,12,14,17,18,19 * 5,10,13,15,16 * 20,21",
         "10.0",
         "5305",
         "24",
         "93.72"
        ],
        [
         "49",
         "93.72 percent target mRNA inhibition",
         "Real-time PCR",
         "SSB gene",
         "Hepa1-6 cells",
         "Lipofectamine RNAiMAX",
         "AAAUCAUGGUGAAAUAAAAUU",
         "UUUUAUUUCACCAUGAUUUUU",
         "Inverted abasic* 2-Deoxy* 2-Methoxy",
         "2-Hydroxy* 2-Fluoro* 2-Methoxy",
         "1,21 * 1,2,3,4,5,6,7,8,9,10,11,12,13,14,15,16,17,18,19 * 20,21",
         "1,2,3,4,6,7,8,9,11,12,14,17,18,19 * 5,10,13,15,16 * 20,21",
         "10.0",
         "5305",
         "24",
         "93.72"
        ]
       ],
       "shape": {
        "columns": 15,
        "rows": 4441
       }
      },
      "text/html": [
       "<div>\n",
       "<style scoped>\n",
       "    .dataframe tbody tr th:only-of-type {\n",
       "        vertical-align: middle;\n",
       "    }\n",
       "\n",
       "    .dataframe tbody tr th {\n",
       "        vertical-align: top;\n",
       "    }\n",
       "\n",
       "    .dataframe thead th {\n",
       "        text-align: right;\n",
       "    }\n",
       "</style>\n",
       "<table border=\"1\" class=\"dataframe\">\n",
       "  <thead>\n",
       "    <tr style=\"text-align: right;\">\n",
       "      <th></th>\n",
       "      <th>Efficacy</th>\n",
       "      <th>Experiment used to check activity</th>\n",
       "      <th>Target gene</th>\n",
       "      <th>Cell or Organism used</th>\n",
       "      <th>Transfection method</th>\n",
       "      <th>siRNA sense</th>\n",
       "      <th>siRNA antisense</th>\n",
       "      <th>Modification sense</th>\n",
       "      <th>Modification antisense</th>\n",
       "      <th>Position sense</th>\n",
       "      <th>Position antisense</th>\n",
       "      <th>Concentration new</th>\n",
       "      <th>id_</th>\n",
       "      <th>Duration after transfection new</th>\n",
       "      <th>Efficacy_correct</th>\n",
       "    </tr>\n",
       "  </thead>\n",
       "  <tbody>\n",
       "    <tr>\n",
       "      <th>0</th>\n",
       "      <td>EC-50 = 0.02 nM for target mRNA</td>\n",
       "      <td>Real-time quantitative PCR</td>\n",
       "      <td>SSB gene</td>\n",
       "      <td>Hepa1-6 cells</td>\n",
       "      <td>Lipofectamine RNAiMax</td>\n",
       "      <td>AAAUCAUGGUGAAAUAAAAUU</td>\n",
       "      <td>UUUUAUUUCACCAUGAUUUUU</td>\n",
       "      <td>Inverted abasic* 2-Methoxy</td>\n",
       "      <td>5-phosphate ribose* 2-Methoxy</td>\n",
       "      <td>1,21 * 20,21</td>\n",
       "      <td>1 * 20,21</td>\n",
       "      <td>0.02</td>\n",
       "      <td>5329</td>\n",
       "      <td>24</td>\n",
       "      <td>50.0</td>\n",
       "    </tr>\n",
       "    <tr>\n",
       "      <th>1</th>\n",
       "      <td>EC-50 = 0.02 nM for target mRNA</td>\n",
       "      <td>Real-time quantitative PCR</td>\n",
       "      <td>SSB gene</td>\n",
       "      <td>Hepa1-6 cells</td>\n",
       "      <td>Lipofectamine RNAiMax</td>\n",
       "      <td>AAAUCAUGGUGAAAUAAAAUU</td>\n",
       "      <td>UUUUAUUUCACCAUGAUUUUU</td>\n",
       "      <td>Inverted abasic* 2-Methoxy</td>\n",
       "      <td>5-phosphate ribose* 2-Methoxy</td>\n",
       "      <td>1,21 * 20,21</td>\n",
       "      <td>1 * 20,21</td>\n",
       "      <td>0.02</td>\n",
       "      <td>5329</td>\n",
       "      <td>24</td>\n",
       "      <td>50.0</td>\n",
       "    </tr>\n",
       "    <tr>\n",
       "      <th>2</th>\n",
       "      <td>EC-50 = 0.6 nM for target mRNA</td>\n",
       "      <td>Real-time quantitative PCR</td>\n",
       "      <td>Luciferase gene</td>\n",
       "      <td>Hepa1-6 cells</td>\n",
       "      <td>Lipofectamine RNAiMax</td>\n",
       "      <td>AUAAGGCUAUGAAGAGAUATT</td>\n",
       "      <td>UAUCUCUUCAUAGCCUUAUTT</td>\n",
       "      <td>Inverted abasic* 2-Deoxy</td>\n",
       "      <td>5-phosphate ribose* 2-Deoxy</td>\n",
       "      <td>1,21 * 20,21</td>\n",
       "      <td>1 * 20,21</td>\n",
       "      <td>0.60</td>\n",
       "      <td>5328</td>\n",
       "      <td>24</td>\n",
       "      <td>50.0</td>\n",
       "    </tr>\n",
       "    <tr>\n",
       "      <th>3</th>\n",
       "      <td>EC-50 = 0.6 nM for target mRNA</td>\n",
       "      <td>Real-time quantitative PCR</td>\n",
       "      <td>Luciferase gene</td>\n",
       "      <td>Hepa1-6 cells</td>\n",
       "      <td>Lipofectamine RNAiMax</td>\n",
       "      <td>AUAAGGCUAUGAAGAGAUATT</td>\n",
       "      <td>UAUCUCUUCAUAGCCUUAUTT</td>\n",
       "      <td>Inverted abasic* 2-Deoxy</td>\n",
       "      <td>5-phosphate ribose* 2-Deoxy</td>\n",
       "      <td>1,21 * 20,21</td>\n",
       "      <td>1 * 20,21</td>\n",
       "      <td>0.60</td>\n",
       "      <td>5328</td>\n",
       "      <td>24</td>\n",
       "      <td>50.0</td>\n",
       "    </tr>\n",
       "    <tr>\n",
       "      <th>4</th>\n",
       "      <td>EC-50 = 0.14 nM for target mRNA</td>\n",
       "      <td>Real-time quantitative PCR</td>\n",
       "      <td>PHD3 gene</td>\n",
       "      <td>Hepa1-6 cells</td>\n",
       "      <td>Lipofectamine RNAiMax</td>\n",
       "      <td>CAGUCAGCAAAGACGUCUAUU</td>\n",
       "      <td>UAGACGUCUUUGCUGACUGUU</td>\n",
       "      <td>Inverted abasic* 2-Methoxy</td>\n",
       "      <td>5-phosphate ribose* 2-Methoxy</td>\n",
       "      <td>1,21 * 20,21</td>\n",
       "      <td>1 * 20,21</td>\n",
       "      <td>0.14</td>\n",
       "      <td>5327</td>\n",
       "      <td>24</td>\n",
       "      <td>50.0</td>\n",
       "    </tr>\n",
       "    <tr>\n",
       "      <th>...</th>\n",
       "      <td>...</td>\n",
       "      <td>...</td>\n",
       "      <td>...</td>\n",
       "      <td>...</td>\n",
       "      <td>...</td>\n",
       "      <td>...</td>\n",
       "      <td>...</td>\n",
       "      <td>...</td>\n",
       "      <td>...</td>\n",
       "      <td>...</td>\n",
       "      <td>...</td>\n",
       "      <td>...</td>\n",
       "      <td>...</td>\n",
       "      <td>...</td>\n",
       "      <td>...</td>\n",
       "    </tr>\n",
       "    <tr>\n",
       "      <th>4508</th>\n",
       "      <td>81.4 percent target mRNA inhibition</td>\n",
       "      <td>Luciferase reporter assay</td>\n",
       "      <td>EGFP gene</td>\n",
       "      <td>HeLa cells</td>\n",
       "      <td>Interfer (Polypus -Transfection)</td>\n",
       "      <td>GACGUAAACGGCCACAAGUUCT</td>\n",
       "      <td>ACUUGUGGCCGUUUACGUCGC</td>\n",
       "      <td>Altritol nucleic acid* 2-Deoxy</td>\n",
       "      <td>2-O-Methyl</td>\n",
       "      <td>1,2 * 22</td>\n",
       "      <td>2</td>\n",
       "      <td>10.00</td>\n",
       "      <td>5</td>\n",
       "      <td>72</td>\n",
       "      <td>81.4</td>\n",
       "    </tr>\n",
       "    <tr>\n",
       "      <th>4509</th>\n",
       "      <td>35.4 percent target mRNA inhibition</td>\n",
       "      <td>Luciferase reporter assay</td>\n",
       "      <td>EGFP gene</td>\n",
       "      <td>HeLa cells</td>\n",
       "      <td>Interfer (Polypus -Transfection)</td>\n",
       "      <td>GACGUAAACGGCCACAAGUUCT</td>\n",
       "      <td>ACUUGUGGCCGUUUACGUCGC</td>\n",
       "      <td>Hexitol nucleic acid</td>\n",
       "      <td>2-O-Methyl</td>\n",
       "      <td>5,8,14,17,22</td>\n",
       "      <td>2</td>\n",
       "      <td>10.00</td>\n",
       "      <td>4</td>\n",
       "      <td>72</td>\n",
       "      <td>35.4</td>\n",
       "    </tr>\n",
       "    <tr>\n",
       "      <th>4510</th>\n",
       "      <td>54.2 percent target mRNA inhibition</td>\n",
       "      <td>Luciferase reporter assay</td>\n",
       "      <td>EGFP gene</td>\n",
       "      <td>HeLa cells</td>\n",
       "      <td>Interfer (Polypus -Transfection)</td>\n",
       "      <td>GACGUAAACGGCCACAAGUUC</td>\n",
       "      <td>ACUUGUGGCCGUUUACGUCGC</td>\n",
       "      <td>Hexitol nucleic acid</td>\n",
       "      <td>2-O-Methyl</td>\n",
       "      <td>2,8,14,17</td>\n",
       "      <td>2</td>\n",
       "      <td>10.00</td>\n",
       "      <td>3</td>\n",
       "      <td>72</td>\n",
       "      <td>54.2</td>\n",
       "    </tr>\n",
       "    <tr>\n",
       "      <th>4511</th>\n",
       "      <td>76.8 percent target mRNA inhibition</td>\n",
       "      <td>Luciferase reporter assay</td>\n",
       "      <td>EGFP gene</td>\n",
       "      <td>HeLa cells</td>\n",
       "      <td>Interfer (Polypus -Transfection)</td>\n",
       "      <td>GACGUAAACGGCCACAAGUUC</td>\n",
       "      <td>ACUUGUGGCCGUUUACGUCGC</td>\n",
       "      <td>2-Guanidinoethyl</td>\n",
       "      <td>2-O-Methyl</td>\n",
       "      <td>18</td>\n",
       "      <td>2</td>\n",
       "      <td>10.00</td>\n",
       "      <td>2</td>\n",
       "      <td>72</td>\n",
       "      <td>76.8</td>\n",
       "    </tr>\n",
       "    <tr>\n",
       "      <th>4512</th>\n",
       "      <td>69.5 percent target mRNA inhibition</td>\n",
       "      <td>Luciferase reporter assay</td>\n",
       "      <td>EGFP gene</td>\n",
       "      <td>HeLa cells</td>\n",
       "      <td>Interfer (Polypus -Transfection)</td>\n",
       "      <td>GACGUAAACGGCCACAAGUUC</td>\n",
       "      <td>ACUUGUGGCCGUUUACGUCGC</td>\n",
       "      <td>2-Aminoethyl</td>\n",
       "      <td>2-O-Methyl</td>\n",
       "      <td>18</td>\n",
       "      <td>2</td>\n",
       "      <td>10.00</td>\n",
       "      <td>1</td>\n",
       "      <td>72</td>\n",
       "      <td>69.5</td>\n",
       "    </tr>\n",
       "  </tbody>\n",
       "</table>\n",
       "<p>4441 rows × 15 columns</p>\n",
       "</div>"
      ],
      "text/plain": [
       "                                 Efficacy Experiment used to check activity  \\\n",
       "0         EC-50 = 0.02 nM for target mRNA        Real-time quantitative PCR   \n",
       "1         EC-50 = 0.02 nM for target mRNA        Real-time quantitative PCR   \n",
       "2          EC-50 = 0.6 nM for target mRNA        Real-time quantitative PCR   \n",
       "3          EC-50 = 0.6 nM for target mRNA        Real-time quantitative PCR   \n",
       "4         EC-50 = 0.14 nM for target mRNA        Real-time quantitative PCR   \n",
       "...                                   ...                               ...   \n",
       "4508  81.4 percent target mRNA inhibition         Luciferase reporter assay   \n",
       "4509  35.4 percent target mRNA inhibition         Luciferase reporter assay   \n",
       "4510  54.2 percent target mRNA inhibition         Luciferase reporter assay   \n",
       "4511  76.8 percent target mRNA inhibition         Luciferase reporter assay   \n",
       "4512  69.5 percent target mRNA inhibition         Luciferase reporter assay   \n",
       "\n",
       "          Target gene Cell or Organism used               Transfection method  \\\n",
       "0            SSB gene         Hepa1-6 cells             Lipofectamine RNAiMax   \n",
       "1            SSB gene         Hepa1-6 cells             Lipofectamine RNAiMax   \n",
       "2     Luciferase gene         Hepa1-6 cells             Lipofectamine RNAiMax   \n",
       "3     Luciferase gene         Hepa1-6 cells             Lipofectamine RNAiMax   \n",
       "4           PHD3 gene         Hepa1-6 cells             Lipofectamine RNAiMax   \n",
       "...               ...                   ...                               ...   \n",
       "4508        EGFP gene            HeLa cells  Interfer (Polypus -Transfection)   \n",
       "4509        EGFP gene            HeLa cells  Interfer (Polypus -Transfection)   \n",
       "4510        EGFP gene            HeLa cells  Interfer (Polypus -Transfection)   \n",
       "4511        EGFP gene            HeLa cells  Interfer (Polypus -Transfection)   \n",
       "4512        EGFP gene            HeLa cells  Interfer (Polypus -Transfection)   \n",
       "\n",
       "                 siRNA sense        siRNA antisense  \\\n",
       "0      AAAUCAUGGUGAAAUAAAAUU  UUUUAUUUCACCAUGAUUUUU   \n",
       "1      AAAUCAUGGUGAAAUAAAAUU  UUUUAUUUCACCAUGAUUUUU   \n",
       "2      AUAAGGCUAUGAAGAGAUATT  UAUCUCUUCAUAGCCUUAUTT   \n",
       "3      AUAAGGCUAUGAAGAGAUATT  UAUCUCUUCAUAGCCUUAUTT   \n",
       "4      CAGUCAGCAAAGACGUCUAUU  UAGACGUCUUUGCUGACUGUU   \n",
       "...                      ...                    ...   \n",
       "4508  GACGUAAACGGCCACAAGUUCT  ACUUGUGGCCGUUUACGUCGC   \n",
       "4509  GACGUAAACGGCCACAAGUUCT  ACUUGUGGCCGUUUACGUCGC   \n",
       "4510   GACGUAAACGGCCACAAGUUC  ACUUGUGGCCGUUUACGUCGC   \n",
       "4511   GACGUAAACGGCCACAAGUUC  ACUUGUGGCCGUUUACGUCGC   \n",
       "4512   GACGUAAACGGCCACAAGUUC  ACUUGUGGCCGUUUACGUCGC   \n",
       "\n",
       "                  Modification sense         Modification antisense  \\\n",
       "0         Inverted abasic* 2-Methoxy  5-phosphate ribose* 2-Methoxy   \n",
       "1         Inverted abasic* 2-Methoxy  5-phosphate ribose* 2-Methoxy   \n",
       "2           Inverted abasic* 2-Deoxy    5-phosphate ribose* 2-Deoxy   \n",
       "3           Inverted abasic* 2-Deoxy    5-phosphate ribose* 2-Deoxy   \n",
       "4         Inverted abasic* 2-Methoxy  5-phosphate ribose* 2-Methoxy   \n",
       "...                              ...                            ...   \n",
       "4508  Altritol nucleic acid* 2-Deoxy                     2-O-Methyl   \n",
       "4509            Hexitol nucleic acid                     2-O-Methyl   \n",
       "4510            Hexitol nucleic acid                     2-O-Methyl   \n",
       "4511                2-Guanidinoethyl                     2-O-Methyl   \n",
       "4512                    2-Aminoethyl                     2-O-Methyl   \n",
       "\n",
       "     Position sense Position antisense  Concentration new   id_  \\\n",
       "0      1,21 * 20,21          1 * 20,21               0.02  5329   \n",
       "1      1,21 * 20,21          1 * 20,21               0.02  5329   \n",
       "2      1,21 * 20,21          1 * 20,21               0.60  5328   \n",
       "3      1,21 * 20,21          1 * 20,21               0.60  5328   \n",
       "4      1,21 * 20,21          1 * 20,21               0.14  5327   \n",
       "...             ...                ...                ...   ...   \n",
       "4508       1,2 * 22                  2              10.00     5   \n",
       "4509   5,8,14,17,22                  2              10.00     4   \n",
       "4510      2,8,14,17                  2              10.00     3   \n",
       "4511             18                  2              10.00     2   \n",
       "4512             18                  2              10.00     1   \n",
       "\n",
       "      Duration after transfection new  Efficacy_correct  \n",
       "0                                  24              50.0  \n",
       "1                                  24              50.0  \n",
       "2                                  24              50.0  \n",
       "3                                  24              50.0  \n",
       "4                                  24              50.0  \n",
       "...                               ...               ...  \n",
       "4508                               72              81.4  \n",
       "4509                               72              35.4  \n",
       "4510                               72              54.2  \n",
       "4511                               72              76.8  \n",
       "4512                               72              69.5  \n",
       "\n",
       "[4441 rows x 15 columns]"
      ]
     },
     "execution_count": 8,
     "metadata": {},
     "output_type": "execute_result"
    }
   ],
   "source": [
    "df_clean= remove_non_numeric_multiple(df, columns)\n",
    "print(\"\\nОчищенный DataFrame:\")\n",
    "df_clean"
   ]
  },
  {
   "cell_type": "code",
   "execution_count": 9,
   "id": "a19cdafe",
   "metadata": {},
   "outputs": [
    {
     "data": {
      "text/plain": [
       "(4441, 15)"
      ]
     },
     "execution_count": 9,
     "metadata": {},
     "output_type": "execute_result"
    }
   ],
   "source": [
    "df_clean.shape"
   ]
  },
  {
   "cell_type": "markdown",
   "id": "bcc7b514",
   "metadata": {},
   "source": [
    "Избавились от нескольких десятков невалидных строчек, которые можно поправить лишь отсмотрев вручную"
   ]
  },
  {
   "cell_type": "markdown",
   "id": "d3b460ad",
   "metadata": {},
   "source": [
    "Вывод: численные столбцы не имеют значений, записанных текстом. Целевая переменная обработана. Пропущенных значений в наборе данных нет."
   ]
  },
  {
   "cell_type": "markdown",
   "id": "b046b857",
   "metadata": {},
   "source": [
    "## Анализ численных параметров (аномалии, выбросы, распределения)"
   ]
  },
  {
   "cell_type": "code",
   "execution_count": 10,
   "id": "eaa75de6",
   "metadata": {},
   "outputs": [
    {
     "data": {
      "image/png": "[encoded data removed]",
      "text/plain": [
       "<Figure size 800x500 with 1 Axes>"
      ]
     },
     "metadata": {},
     "output_type": "display_data"
    },
    {
     "name": "stdout",
     "output_type": "stream",
     "text": [
      "Статистика для 'Efficacy_correct':\n",
      "  Количество значений: 4441\n",
      "  Среднее: 57.21\n",
      "  Медиана: 64.30\n",
      "  Стандартное отклонение: 29.41\n"
     ]
    },
    {
     "data": {
      "image/png": "[encoded data removed]",
      "text/plain": [
       "<Figure size 800x500 with 1 Axes>"
      ]
     },
     "metadata": {},
     "output_type": "display_data"
    },
    {
     "name": "stdout",
     "output_type": "stream",
     "text": [
      "Статистика для 'Concentration new':\n",
      "  Количество значений: 4441\n",
      "  Среднее: 22.45\n",
      "  Медиана: 10.00\n",
      "  Стандартное отклонение: 131.33\n"
     ]
    }
   ],
   "source": [
    "import numpy as np\n",
    "import matplotlib.pyplot as plt\n",
    "\n",
    "def plot_numeric_histogram(df, numeric_column):\n",
    "    \"\"\"\n",
    "    Строит гистограмму для числовой переменной \n",
    "    \"\"\"\n",
    "    \n",
    "    light_blue ='#87CEEB'  # Светло-голубой цвет\n",
    "    numeric_data = df[numeric_column].dropna()\n",
    "    \n",
    "    plt.figure(figsize=(8, 5))\n",
    "    plt.hist(numeric_data, bins=20, color=light_blue, alpha=0.7, edgecolor='white')\n",
    "    plt.title(f'Гистограмма: {numeric_column}')\n",
    "    plt.xlabel(numeric_column)\n",
    "    plt.ylabel('Частота')\n",
    "    plt.grid(True, alpha=0.3)\n",
    "    plt.tight_layout()\n",
    "    plt.show()\n",
    "    \n",
    "    # Простая статистика\n",
    "    print(f\"Статистика для '{numeric_column}':\")\n",
    "    print(f\"  Количество значений: {len(numeric_data)}\")\n",
    "    print(f\"  Среднее: {numeric_data.mean():.2f}\")\n",
    "    print(f\"  Медиана: {numeric_data.median():.2f}\")\n",
    "    print(f\"  Стандартное отклонение: {numeric_data.std():.2f}\")\n",
    "\n",
    "plot_numeric_histogram(df_clean, 'Efficacy_correct')\n",
    "plot_numeric_histogram(df_clean, 'Concentration new')\n"
   ]
  },
  {
   "cell_type": "markdown",
   "id": "82674837",
   "metadata": {},
   "source": [
    "Отрцательных значений и значений больше 100 не наблюдается - все в рамках разумного. Эффективность снималась эксперементально, не вижу смысла брать 5-95 по квантилям\n",
    "В концентрации очевдиные выбросы - будем брать 0-95 по квантилю"
   ]
  },
  {
   "cell_type": "code",
   "execution_count": 11,
   "id": "ff3f1047",
   "metadata": {},
   "outputs": [
    {
     "data": {
      "image/png": "[encoded data removed]",
      "text/plain": [
       "<Figure size 800x500 with 1 Axes>"
      ]
     },
     "metadata": {},
     "output_type": "display_data"
    },
    {
     "name": "stdout",
     "output_type": "stream",
     "text": [
      "Статистика для 'Target gene':\n",
      "  Всего значений: 4441\n",
      "  Уникальных категорий: 58\n",
      "  Показано категорий: 6\n",
      "  EGFP gene: 2299 (51.8%)\n",
      "  Luciferase gene: 256 (5.8%)\n",
      "  ApoB gene: 248 (5.6%)\n",
      "  SSB gene: 162 (3.6%)\n",
      "  0: 105 (2.4%)\n",
      "  Остальные (53 кат.): 1371 (30.9%)\n"
     ]
    },
    {
     "data": {
      "image/png": "[encoded data removed]",
      "text/plain": [
       "<Figure size 800x500 with 1 Axes>"
      ]
     },
     "metadata": {},
     "output_type": "display_data"
    },
    {
     "name": "stdout",
     "output_type": "stream",
     "text": [
      "Статистика для 'Experiment used to check activity':\n",
      "  Всего значений: 4441\n",
      "  Уникальных категорий: 30\n",
      "  Показано категорий: 6\n",
      "  Luciferase reporter assay: 2262 (50.9%)\n",
      "  Real-time PCR: 769 (17.3%)\n",
      "  Dual luciferase reporter assay: 716 (16.1%)\n",
      "  Dual luciferase assay: 160 (3.6%)\n",
      "  Dual fluorescence assay: 67 (1.5%)\n",
      "  Остальные (25 кат.): 467 (10.5%)\n"
     ]
    },
    {
     "data": {
      "image/png": "[encoded data removed]",
      "text/plain": [
       "<Figure size 800x500 with 1 Axes>"
      ]
     },
     "metadata": {},
     "output_type": "display_data"
    },
    {
     "name": "stdout",
     "output_type": "stream",
     "text": [
      "Статистика для 'Cell or Organism used':\n",
      "  Всего значений: 4441\n",
      "  Уникальных категорий: 29\n",
      "  Показано категорий: 6\n",
      "  HeLa cells: 2908 (65.5%)\n",
      "  HEK293 cells: 606 (13.6%)\n",
      "  Hepa1-6 cells: 502 (11.3%)\n",
      "  NIH/3T3 cells: 78 (1.8%)\n",
      "  293FT cells: 64 (1.4%)\n",
      "  Остальные (24 кат.): 283 (6.4%)\n"
     ]
    },
    {
     "data": {
      "image/png": "[encoded data removed]",
      "text/plain": [
       "<Figure size 800x500 with 1 Axes>"
      ]
     },
     "metadata": {},
     "output_type": "display_data"
    },
    {
     "name": "stdout",
     "output_type": "stream",
     "text": [
      "Статистика для 'Transfection method':\n",
      "  Всего значений: 4441\n",
      "  Уникальных категорий: 32\n",
      "  Показано категорий: 6\n",
      "  Interfer (Polypus -Transfection): 2159 (48.6%)\n",
      "  Lipofectamine 2000: 1178 (26.5%)\n",
      "  Lipofectamine RNAiMAX: 398 (9.0%)\n",
      "  Lipofectamine RNAiMAX (Invitrogen): 80 (1.8%)\n",
      "  Lipofectin: 73 (1.6%)\n",
      "  Остальные (27 кат.): 553 (12.5%)\n"
     ]
    }
   ],
   "source": [
    "import pandas as pd\n",
    "import numpy as np\n",
    "import matplotlib.pyplot as plt\n",
    "\n",
    "def plot_categorical_barchart(df, categorical_column, top_n=5):\n",
    "    \"\"\"\n",
    "    Строит простой барплот для категориальной переменной с топ-N категориями\n",
    "    Остальные категории объединяются в 'Остальные'\n",
    "    \"\"\"\n",
    "    \n",
    "    light_blue = '#87CEEB'  # Светло-голубой цвет\n",
    "    \n",
    "    # Получаем все значения и их частоты\n",
    "    value_counts = df[categorical_column].value_counts()\n",
    "    total_categories = len(value_counts)\n",
    "    \n",
    "    # Если категорий больше чем top_n, объединяем остальные\n",
    "    if total_categories > top_n:\n",
    "        top_categories = value_counts.head(top_n)\n",
    "        others_count = value_counts[top_n:].sum()\n",
    "        \n",
    "        # Создаем новый Series с топ-N и \"Остальные\"\n",
    "        plot_data = top_categories.copy()\n",
    "        plot_data['Остальные'] = others_count\n",
    "    else:\n",
    "        plot_data = value_counts\n",
    "    \n",
    "    plt.figure(figsize=(8, 5))\n",
    "    bars = plt.bar(plot_data.index.astype(str), plot_data.values, \n",
    "                   color=light_blue, alpha=0.7, edgecolor='white')\n",
    "    plt.title(f'Барплот: {categorical_column} (топ-{min(top_n, total_categories)})')\n",
    "    plt.xlabel(categorical_column)\n",
    "    plt.ylabel('Количество')\n",
    "    plt.grid(True, alpha=0.3)\n",
    "    \n",
    "    # Добавляем значения на столбцы\n",
    "    for bar, count in zip(bars, plot_data.values):\n",
    "        height = bar.get_height()\n",
    "        plt.text(bar.get_x() + bar.get_width()/2., height + 0.01 * max(plot_data.values),\n",
    "                f'{count}', ha='center', va='bottom')\n",
    "    \n",
    "    # Поворачиваем подписи если они длинные\n",
    "    if max(len(str(x)) for x in plot_data.index) > 5:\n",
    "        plt.xticks(rotation=45, ha='right')\n",
    "    \n",
    "    plt.tight_layout()\n",
    "    plt.show()\n",
    "    \n",
    "    # Статистика по категориям\n",
    "    total = len(df[categorical_column].dropna())\n",
    "    print(f\"Статистика для '{categorical_column}':\")\n",
    "    print(f\"  Всего значений: {total}\")\n",
    "    print(f\"  Уникальных категорий: {total_categories}\")\n",
    "    print(f\"  Показано категорий: {len(plot_data)}\")\n",
    "    \n",
    "    for i, (category, count) in enumerate(plot_data.items()):\n",
    "        percentage = (count / total) * 100\n",
    "        if category == 'Остальные':\n",
    "            remaining_categories = total_categories - top_n\n",
    "            print(f\"  {category} ({remaining_categories} кат.): {count} ({percentage:.1f}%)\")\n",
    "        else:\n",
    "            print(f\"  {category}: {count} ({percentage:.1f}%)\")\n",
    "\n",
    "\n",
    "plot_categorical_barchart(df_clean, 'Target gene', top_n=5)\n",
    "plot_categorical_barchart(df_clean, 'Experiment used to check activity', top_n=5)\n",
    "plot_categorical_barchart(df_clean, 'Cell or Organism used', top_n=5)\n",
    "plot_categorical_barchart(df_clean, 'Transfection method', top_n=5)\n",
    "\n"
   ]
  },
  {
   "cell_type": "markdown",
   "id": "af1b4caa",
   "metadata": {},
   "source": [
    "В каждом столбце много одинаковых значений, записанных по-разному. Вероятно, бд собирали разные люди. В идеале необходима унификация"
   ]
  },
  {
   "cell_type": "markdown",
   "id": "5889d3b9",
   "metadata": {},
   "source": [
    "Вывод: в категориальных переменных необходима унификация, в столбце концентрации необходимо удалить выбросы больше 95 квантиля"
   ]
  },
  {
   "cell_type": "markdown",
   "id": "dd43ee97",
   "metadata": {},
   "source": [
    "## Фичеинжиниринг и корреляции"
   ]
  },
  {
   "cell_type": "markdown",
   "id": "f9e91351",
   "metadata": {},
   "source": [
    "Посчитаем длину сиквенсов"
   ]
  },
  {
   "cell_type": "code",
   "execution_count": 12,
   "id": "590af54e",
   "metadata": {},
   "outputs": [
    {
     "data": {
      "application/vnd.microsoft.datawrangler.viewer.v0+json": {
       "columns": [
        {
         "name": "index",
         "rawType": "int64",
         "type": "integer"
        },
        {
         "name": "Efficacy",
         "rawType": "object",
         "type": "string"
        },
        {
         "name": "Experiment used to check activity",
         "rawType": "object",
         "type": "string"
        },
        {
         "name": "Target gene",
         "rawType": "object",
         "type": "string"
        },
        {
         "name": "Cell or Organism used",
         "rawType": "object",
         "type": "string"
        },
        {
         "name": "Transfection method",
         "rawType": "object",
         "type": "string"
        },
        {
         "name": "siRNA sense",
         "rawType": "object",
         "type": "string"
        },
        {
         "name": "siRNA antisense",
         "rawType": "object",
         "type": "string"
        },
        {
         "name": "Modification sense",
         "rawType": "object",
         "type": "string"
        },
        {
         "name": "Modification antisense",
         "rawType": "object",
         "type": "string"
        },
        {
         "name": "Position sense",
         "rawType": "object",
         "type": "string"
        },
        {
         "name": "Position antisense",
         "rawType": "object",
         "type": "string"
        },
        {
         "name": "Concentration new",
         "rawType": "float64",
         "type": "float"
        },
        {
         "name": "id_",
         "rawType": "int64",
         "type": "integer"
        },
        {
         "name": "Duration after transfection new",
         "rawType": "int64",
         "type": "integer"
        },
        {
         "name": "Efficacy_correct",
         "rawType": "float64",
         "type": "float"
        },
        {
         "name": "siRNA sense_length",
         "rawType": "int64",
         "type": "integer"
        },
        {
         "name": "siRNA antisense_length",
         "rawType": "int64",
         "type": "integer"
        }
       ],
       "ref": "ff5e9ff7-b5f4-43cb-8d14-bd95d5933632",
       "rows": [
        [
         "0",
         "EC-50 = 0.02 nM for target mRNA",
         "Real-time quantitative PCR",
         "SSB gene",
         "Hepa1-6 cells",
         "Lipofectamine RNAiMax",
         "AAAUCAUGGUGAAAUAAAAUU",
         "UUUUAUUUCACCAUGAUUUUU",
         "Inverted abasic* 2-Methoxy",
         "5-phosphate ribose* 2-Methoxy",
         "1,21 * 20,21",
         "1 * 20,21",
         "0.02",
         "5329",
         "24",
         "50.0",
         "21",
         "21"
        ],
        [
         "1",
         "EC-50 = 0.02 nM for target mRNA",
         "Real-time quantitative PCR",
         "SSB gene",
         "Hepa1-6 cells",
         "Lipofectamine RNAiMax",
         "AAAUCAUGGUGAAAUAAAAUU",
         "UUUUAUUUCACCAUGAUUUUU",
         "Inverted abasic* 2-Methoxy",
         "5-phosphate ribose* 2-Methoxy",
         "1,21 * 20,21",
         "1 * 20,21",
         "0.02",
         "5329",
         "24",
         "50.0",
         "21",
         "21"
        ],
        [
         "2",
         "EC-50 = 0.6 nM for target mRNA",
         "Real-time quantitative PCR",
         "Luciferase gene",
         "Hepa1-6 cells",
         "Lipofectamine RNAiMax",
         "AUAAGGCUAUGAAGAGAUATT",
         "UAUCUCUUCAUAGCCUUAUTT",
         "Inverted abasic* 2-Deoxy",
         "5-phosphate ribose* 2-Deoxy",
         "1,21 * 20,21",
         "1 * 20,21",
         "0.6",
         "5328",
         "24",
         "50.0",
         "21",
         "21"
        ],
        [
         "3",
         "EC-50 = 0.6 nM for target mRNA",
         "Real-time quantitative PCR",
         "Luciferase gene",
         "Hepa1-6 cells",
         "Lipofectamine RNAiMax",
         "AUAAGGCUAUGAAGAGAUATT",
         "UAUCUCUUCAUAGCCUUAUTT",
         "Inverted abasic* 2-Deoxy",
         "5-phosphate ribose* 2-Deoxy",
         "1,21 * 20,21",
         "1 * 20,21",
         "0.6",
         "5328",
         "24",
         "50.0",
         "21",
         "21"
        ],
        [
         "4",
         "EC-50 = 0.14 nM for target mRNA",
         "Real-time quantitative PCR",
         "PHD3 gene",
         "Hepa1-6 cells",
         "Lipofectamine RNAiMax",
         "CAGUCAGCAAAGACGUCUAUU",
         "UAGACGUCUUUGCUGACUGUU",
         "Inverted abasic* 2-Methoxy",
         "5-phosphate ribose* 2-Methoxy",
         "1,21 * 20,21",
         "1 * 20,21",
         "0.14",
         "5327",
         "24",
         "50.0",
         "21",
         "21"
        ],
        [
         "5",
         "EC-50 = 0.14 nM for target mRNA",
         "Real-time quantitative PCR",
         "PHD3 gene",
         "Hepa1-6 cells",
         "Lipofectamine RNAiMax",
         "CAGUCAGCAAAGACGUCUAUU",
         "UAGACGUCUUUGCUGACUGUU",
         "Inverted abasic* 2-Methoxy",
         "5-phosphate ribose* 2-Methoxy",
         "1,21 * 20,21",
         "1 * 20,21",
         "0.14",
         "5327",
         "24",
         "50.0",
         "21",
         "21"
        ],
        [
         "6",
         "EC-50 = 0.05 nM for target mRNA",
         "Real-time quantitative PCR",
         "PHD2 gene",
         "Hepa1-6 cells",
         "Lipofectamine RNAiMax",
         "CAUUGAACCCAAAUUUGAUUU",
         "AUCAAAUUUGGGUUCAAUGUU",
         "Inverted abasic* 2-Methoxy",
         "5-phosphate ribose* 2-Methoxy",
         "1,21 * 20,21",
         "1 * 20,21",
         "0.05",
         "5326",
         "24",
         "50.0",
         "21",
         "21"
        ],
        [
         "7",
         "EC-50 = 0.05 nM for target mRNA",
         "Real-time quantitative PCR",
         "PHD2 gene",
         "Hepa1-6 cells",
         "Lipofectamine RNAiMax",
         "CAUUGAACCCAAAUUUGAUUU",
         "AUCAAAUUUGGGUUCAAUGUU",
         "Inverted abasic* 2-Methoxy",
         "5-phosphate ribose* 2-Methoxy",
         "1,21 * 20,21",
         "1 * 20,21",
         "0.05",
         "5326",
         "24",
         "50.0",
         "21",
         "21"
        ],
        [
         "8",
         "EC-50 = 0.51 nM for target mRNA",
         "Real-time quantitative PCR",
         "ApoB gene",
         "Hepa1-6 cells",
         "Lipofectamine RNAiMax",
         "CAAGUGUCAUCACACUGAAUU",
         "UUCAGUGUGAUGACACUUGUU",
         "Inverted abasic* 2-Methoxy",
         "5-phosphate ribose* 2-Methoxy",
         "1,21 * 20,21",
         "1 * 20,21",
         "0.51",
         "5325",
         "24",
         "50.0",
         "21",
         "21"
        ],
        [
         "9",
         "EC-50 = 0.51 nM for target mRNA",
         "Real-time quantitative PCR",
         "ApoB gene",
         "Hepa1-6 cells",
         "Lipofectamine RNAiMax",
         "CAAGUGUCAUCACACUGAAUU",
         "UUCAGUGUGAUGACACUUGUU",
         "Inverted abasic* 2-Methoxy",
         "5-phosphate ribose* 2-Methoxy",
         "1,21 * 20,21",
         "1 * 20,21",
         "0.51",
         "5325",
         "24",
         "50.0",
         "21",
         "21"
        ],
        [
         "10",
         "EC-50 = 0.44 nM for target mRNA",
         "Real-time quantitative PCR",
         "ApoB gene",
         "Hepa1-6 cells",
         "Lipofectamine RNAiMax",
         "CUUUAACAAUUCCUGAAAUUU",
         "AUUUCAGGAAUUGUUAAAGUU",
         "Inverted abasic* 2-Methoxy",
         "5-phosphate ribose* 2-Methoxy",
         "1,21 * 20,21",
         "1 * 20,21",
         "0.44",
         "5324",
         "24",
         "50.0",
         "21",
         "21"
        ],
        [
         "11",
         "EC-50 = 0.44 nM for target mRNA",
         "Real-time quantitative PCR",
         "ApoB gene",
         "Hepa1-6 cells",
         "Lipofectamine RNAiMax",
         "CUUUAACAAUUCCUGAAAUUU",
         "AUUUCAGGAAUUGUUAAAGUU",
         "Inverted abasic* 2-Methoxy",
         "5-phosphate ribose* 2-Methoxy",
         "1,21 * 20,21",
         "1 * 20,21",
         "0.44",
         "5324",
         "24",
         "50.0",
         "21",
         "21"
        ],
        [
         "12",
         "EC-50 = 0.02 nM for target mRNA",
         "Real-time quantitative PCR",
         "SSB gene",
         "Hepa1-6 cells",
         "Lipofectamine RNAiMax",
         "AAAUCAUGGUGAAAUAAAAUU",
         "UUUUAUUUCACCAUGAUUUUU",
         "Inverted abasic* 2-Methoxy",
         "5-hydroxy ribose* 2-Methoxy",
         "1,21 * 20,21",
         "1 * 20,21",
         "0.02",
         "5323",
         "24",
         "50.0",
         "21",
         "21"
        ],
        [
         "13",
         "EC-50 = 0.02 nM for target mRNA",
         "Real-time quantitative PCR",
         "SSB gene",
         "Hepa1-6 cells",
         "Lipofectamine RNAiMax",
         "AAAUCAUGGUGAAAUAAAAUU",
         "UUUUAUUUCACCAUGAUUUUU",
         "Inverted abasic* 2-Methoxy",
         "5-hydroxy ribose* 2-Methoxy",
         "1,21 * 20,21",
         "1 * 20,21",
         "0.02",
         "5323",
         "24",
         "50.0",
         "21",
         "21"
        ],
        [
         "14",
         "EC-50 = 0.19 nM for target mRNA",
         "Real-time quantitative PCR",
         "Luciferase gene",
         "Hepa1-6 cells",
         "Lipofectamine RNAiMax",
         "AUAAGGCUAUGAAGAGAUATT",
         "UAUCUCUUCAUAGCCUUAUTT",
         "Inverted abasic* 2-Deoxy",
         "5-hydroxy ribose* 2-Deoxy",
         "1,21 * 20,21",
         "1 * 20,21",
         "0.19",
         "5322",
         "24",
         "50.0",
         "21",
         "21"
        ],
        [
         "15",
         "EC-50 = 0.19 nM for target mRNA",
         "Real-time quantitative PCR",
         "Luciferase gene",
         "Hepa1-6 cells",
         "Lipofectamine RNAiMax",
         "AUAAGGCUAUGAAGAGAUATT",
         "UAUCUCUUCAUAGCCUUAUTT",
         "Inverted abasic* 2-Deoxy",
         "5-hydroxy ribose* 2-Deoxy",
         "1,21 * 20,21",
         "1 * 20,21",
         "0.19",
         "5322",
         "24",
         "50.0",
         "21",
         "21"
        ],
        [
         "16",
         "EC-50 = 0.13 nM for target mRNA",
         "Real-time quantitative PCR",
         "PHD3 gene",
         "Hepa1-6 cells",
         "Lipofectamine RNAiMax",
         "CAGUCAGCAAAGACGUCUAUU",
         "UAGACGUCUUUGCUGACUGUU",
         "Inverted abasic* 2-Methoxy",
         "5-hydroxy ribose* 2-Methoxy",
         "1,21 * 20,21",
         "1 * 20,21",
         "0.13",
         "5321",
         "24",
         "50.0",
         "21",
         "21"
        ],
        [
         "17",
         "EC-50 = 0.13 nM for target mRNA",
         "Real-time quantitative PCR",
         "PHD3 gene",
         "Hepa1-6 cells",
         "Lipofectamine RNAiMax",
         "CAGUCAGCAAAGACGUCUAUU",
         "UAGACGUCUUUGCUGACUGUU",
         "Inverted abasic* 2-Methoxy",
         "5-hydroxy ribose* 2-Methoxy",
         "1,21 * 20,21",
         "1 * 20,21",
         "0.13",
         "5321",
         "24",
         "50.0",
         "21",
         "21"
        ],
        [
         "18",
         "EC-50 = 0.05 nM for target mRNA",
         "Real-time quantitative PCR",
         "PHD2 gene",
         "Hepa1-6 cells",
         "Lipofectamine RNAiMax",
         "CAUUGAACCCAAAUUUGAUUU",
         "AUCAAAUUUGGGUUCAAUGUU",
         "Inverted abasic* 2-Methoxy",
         "5-hydroxy ribose* 2-Methoxy",
         "1,21 * 20,21",
         "1 * 20,21",
         "0.05",
         "5320",
         "24",
         "50.0",
         "21",
         "21"
        ],
        [
         "19",
         "EC-50 = 0.05 nM for target mRNA",
         "Real-time quantitative PCR",
         "PHD2 gene",
         "Hepa1-6 cells",
         "Lipofectamine RNAiMax",
         "CAUUGAACCCAAAUUUGAUUU",
         "AUCAAAUUUGGGUUCAAUGUU",
         "Inverted abasic* 2-Methoxy",
         "5-hydroxy ribose* 2-Methoxy",
         "1,21 * 20,21",
         "1 * 20,21",
         "0.05",
         "5320",
         "24",
         "50.0",
         "21",
         "21"
        ],
        [
         "20",
         "EC-50 = 0.5 nM for target mRNA",
         "Real-time quantitative PCR",
         "ApoB gene",
         "Hepa1-6 cells",
         "Lipofectamine RNAiMax",
         "CAAGUGUCAUCACACUGAAUU",
         "UUCAGUGUGAUGACACUUGUU",
         "Inverted abasic* 2-Methoxy",
         "5-hydroxy ribose* 2-Methoxy",
         "1,21 * 20,21",
         "1 * 20,21",
         "0.5",
         "5319",
         "24",
         "50.0",
         "21",
         "21"
        ],
        [
         "21",
         "EC-50 = 0.5 nM for target mRNA",
         "Real-time quantitative PCR",
         "ApoB gene",
         "Hepa1-6 cells",
         "Lipofectamine RNAiMax",
         "CAAGUGUCAUCACACUGAAUU",
         "UUCAGUGUGAUGACACUUGUU",
         "Inverted abasic* 2-Methoxy",
         "5-hydroxy ribose* 2-Methoxy",
         "1,21 * 20,21",
         "1 * 20,21",
         "0.5",
         "5319",
         "24",
         "50.0",
         "21",
         "21"
        ],
        [
         "22",
         "EC-50 = 0.3 nM for target mRNA",
         "Real-time quantitative PCR",
         "ApoB gene",
         "Hepa1-6 cells",
         "Lipofectamine RNAiMax",
         "CUUUAACAAUUCCUGAAAUUU",
         "AUUUCAGGAAUUGUUAAAGUU",
         "Inverted abasic* 2-Methoxy",
         "5-hydroxy ribose* 2-Methoxy",
         "1,21 * 20,21",
         "1 * 20,21",
         "0.3",
         "5318",
         "24",
         "50.0",
         "21",
         "21"
        ],
        [
         "23",
         "EC-50 = 0.3 nM for target mRNA",
         "Real-time quantitative PCR",
         "ApoB gene",
         "Hepa1-6 cells",
         "Lipofectamine RNAiMax",
         "CUUUAACAAUUCCUGAAAUUU",
         "AUUUCAGGAAUUGUUAAAGUU",
         "Inverted abasic* 2-Methoxy",
         "5-hydroxy ribose* 2-Methoxy",
         "1,21 * 20,21",
         "1 * 20,21",
         "0.3",
         "5318",
         "24",
         "50.0",
         "21",
         "21"
        ],
        [
         "24",
         "40.77 percent target mRNA inhibition",
         "Real-time PCR",
         "SSB gene",
         "Hepa1-6 cells",
         "Lipofectamine RNAiMAX",
         "AAAUCAUGGUGAAAUAAAAUU",
         "UAUUUCACCAUGAUUUUU",
         "Inverted abasic* 2-Deoxy* 2-Methoxy",
         "5-phosphate ribose* Inverted abasic* 2-Methoxy* 2-Fluoro* 2-Hydroxy",
         "1,21 * 1,2,3,4,5,6,7,8,9,10,11,12,13,14,15,16,17,18,19 * 20,21",
         "1 * 1 * 1,3,4,5,6,8,9,14,15,16,17,18 * 2,7,10,12,13 * 11",
         "10.0",
         "5317",
         "24",
         "40.77",
         "21",
         "18"
        ],
        [
         "25",
         "40.77 percent target mRNA inhibition",
         "Real-time PCR",
         "SSB gene",
         "Hepa1-6 cells",
         "Lipofectamine RNAiMAX",
         "AAAUCAUGGUGAAAUAAAAUU",
         "UAUUUCACCAUGAUUUUU",
         "Inverted abasic* 2-Deoxy* 2-Methoxy",
         "5-phosphate ribose* Inverted abasic* 2-Methoxy* 2-Fluoro* 2-Hydroxy",
         "1,21 * 1,2,3,4,5,6,7,8,9,10,11,12,13,14,15,16,17,18,19 * 20,21",
         "2 * 1 * 1,3,4,5,6,8,9,14,15,16,17,18 * 2,7,10,12,13 * 11",
         "10.0",
         "5317",
         "24",
         "40.77",
         "21",
         "18"
        ],
        [
         "26",
         "42.17 percent target mRNA inhibition",
         "Real-time PCR",
         "SSB gene",
         "Hepa1-6 cells",
         "Lipofectamine RNAiMAX",
         "AAAUCAUGGUGAAAUAAAAUU",
         "TATTTCACCATGATTTUU",
         "Inverted abasic* 2-Deoxy* 2-Methoxy",
         "5-phosphate ribose* Inverted abasic* 2-Deoxy* 2-Fluoro* 2-Methoxy",
         "1,21 * 1,2,3,4,5,6,7,8,9,10,11,12,13,14,15,16,17,18,19 * 20,21",
         "1 * 1 * 1,3,4,5,6,8,9,11,14,15,16 * 2,7,10,12,13 * 17,18",
         "10.0",
         "5316",
         "24",
         "42.17",
         "21",
         "18"
        ],
        [
         "27",
         "42.17 percent target mRNA inhibition",
         "Real-time PCR",
         "SSB gene",
         "Hepa1-6 cells",
         "Lipofectamine RNAiMAX",
         "AAAUCAUGGUGAAAUAAAAUU",
         "TATTTCACCATGATTTUU",
         "Inverted abasic* 2-Deoxy* 2-Methoxy",
         "5-phosphate ribose* Inverted abasic* 2-Deoxy* 2-Fluoro* 2-Methoxy",
         "1,21 * 1,2,3,4,5,6,7,8,9,10,11,12,13,14,15,16,17,18,19 * 20,21",
         "1 * 1 * 1,3,4,5,6,8,9,11,14,15,16 * 2,7,10,12,13 * 17,18",
         "10.0",
         "5316",
         "24",
         "42.17",
         "21",
         "18"
        ],
        [
         "28",
         "44.11 percent target mRNA inhibition",
         "Real-time PCR",
         "SSB gene",
         "Hepa1-6 cells",
         "Lipofectamine RNAiMAX",
         "AAAUCAUGGUGAAAUAAAAUU",
         "UAUUUCACCAUGAUUUUU",
         "Inverted abasic* 2-Deoxy* 2-Methoxy",
         "5-phosphate ribose* Inverted abasic* 2-Hydroxy* 2-Fluoro* 2-Methoxy",
         "1,21 * 1,2,3,4,5,6,7,8,9,10,11,12,13,14,15,16,17,18,19 * 20,21",
         "1 * 1 * 1,3,4,5,6,8,9,11,14,15,16 * 2,7,10,12,13 * 17,18",
         "10.0",
         "5315",
         "24",
         "44.11",
         "21",
         "18"
        ],
        [
         "29",
         "44.11 percent target mRNA inhibition",
         "Real-time PCR",
         "SSB gene",
         "Hepa1-6 cells",
         "Lipofectamine RNAiMAX",
         "AAAUCAUGGUGAAAUAAAAUU",
         "UAUUUCACCAUGAUUUUU",
         "Inverted abasic* 2-Deoxy* 2-Methoxy",
         "5-phosphate ribose* Inverted abasic* 2-Hydroxy* 2-Fluoro* 2-Methoxy",
         "1,21 * 1,2,3,4,5,6,7,8,9,10,11,12,13,14,15,16,17,18,19 * 20,21",
         "1 * 1 * 1,3,4,5,6,8,9,11,14,15,16 * 2,7,10,12,13 * 17,18",
         "10.0",
         "5315",
         "24",
         "44.11",
         "21",
         "18"
        ],
        [
         "30",
         "65.16 percent target mRNA inhibition",
         "Real-time PCR",
         "SSB gene",
         "Hepa1-6 cells",
         "Lipofectamine RNAiMAX",
         "AAAUCAUGGUGAAAUAAAAUU",
         "UAUUUCACCAUGAUUUUU",
         "Inverted abasic* 2-Deoxy* 2-Methoxy",
         "5-phosphate ribose* Inverted abasic* 2-Fluoro* 2-Methoxy",
         "1,21 * 1,2,3,4,5,6,7,8,9,10,11,12,13,14,15,16,17,18,19 * 20,21",
         "1 * 1 * 1,3,4,5,6,8,9,11,14,15,16 * 2,7,10,12,13,17,18",
         "10.0",
         "5314",
         "24",
         "65.16",
         "21",
         "18"
        ],
        [
         "31",
         "65.16 percent target mRNA inhibition",
         "Real-time PCR",
         "SSB gene",
         "Hepa1-6 cells",
         "Lipofectamine RNAiMAX",
         "AAAUCAUGGUGAAAUAAAAUU",
         "UAUUUCACCAUGAUUUUU",
         "Inverted abasic* 2-Deoxy* 2-Methoxy",
         "5-phosphate ribose* Inverted abasic* 2-Fluoro* 2-Methoxy",
         "1,21 * 1,2,3,4,5,6,7,8,9,10,11,12,13,14,15,16,17,18,19 * 20,21",
         "2 * 1 * 1,3,4,5,6,8,9,11,14,15,16 * 2,7,10,12,13,17,18",
         "10.0",
         "5314",
         "24",
         "65.16",
         "21",
         "18"
        ],
        [
         "32",
         "60.4 percent target mRNA inhibition",
         "Real-time PCR",
         "SSB gene",
         "Hepa1-6 cells",
         "Lipofectamine RNAiMAX",
         "AAAUCAUGGUGAAAUAAAAUU",
         "UAUUUCACCAUGAUUUUU",
         "Inverted abasic* 2-Deoxy* 2-Methoxy",
         "5-phosphate ribose* Inverted abasic* 2-Fluoro* 2-Deoxy* 2-Methoxy",
         "1,21 * 1,2,3,4,5,6,7,8,9,10,11,12,13,14,15,16,17,18,19 * 20,21",
         "1 * 1 * 1,3,4,5,6,8,9,11,14,15,16 * 2,7,10,12,13 * 17,18",
         "10.0",
         "5313",
         "24",
         "60.4",
         "21",
         "18"
        ],
        [
         "33",
         "60.4 percent target mRNA inhibition",
         "Real-time PCR",
         "SSB gene",
         "Hepa1-6 cells",
         "Lipofectamine RNAiMAX",
         "AAAUCAUGGUGAAAUAAAAUU",
         "UAUUUCACCAUGAUUUUU",
         "Inverted abasic* 2-Deoxy* 2-Methoxy",
         "5-phosphate ribose* Inverted abasic* 2-Fluoro* 2-Deoxy* 2-Methoxy",
         "1,21 * 1,2,3,4,5,6,7,8,9,10,11,12,13,14,15,16,17,18,19 * 20,21",
         "1 * 1 * 1,3,4,5,6,8,9,11,14,15,16 * 2,7,10,12,13 * 17,18",
         "10.0",
         "5313",
         "24",
         "60.4",
         "21",
         "18"
        ],
        [
         "34",
         "5.72 percent target mRNA inhibition",
         "Real-time PCR",
         "SSB gene",
         "Hepa1-6 cells",
         "Lipofectamine RNAiMAX",
         "AAAUCAUGGUGAAAUAAAAUU",
         "UAUUUCACCAUGAUUUUU",
         "Inverted abasic* 2-Deoxy* 2-Methoxy",
         "5-phosphate ribose* Inverted abasic* 2-Fluoro* 2-Hydroxy* 2-Methoxy",
         "1,21 * 1,2,3,4,5,6,7,8,9,10,11,12,13,14,15,16,17,18,19 * 20,21",
         "1 * 1 * 1,3,4,5,6,8,9,11,14,15,16 * 2,7,10,12,13 * 17,18",
         "10.0",
         "5312",
         "24",
         "5.72",
         "21",
         "18"
        ],
        [
         "35",
         "5.72 percent target mRNA inhibition",
         "Real-time PCR",
         "SSB gene",
         "Hepa1-6 cells",
         "Lipofectamine RNAiMAX",
         "AAAUCAUGGUGAAAUAAAAUU",
         "UAUUUCACCAUGAUUUUU",
         "Inverted abasic* 2-Deoxy* 2-Methoxy",
         "5-phosphate ribose* Inverted abasic* 2-Fluoro* 2-Hydroxy* 2-Methoxy",
         "1,21 * 1,2,3,4,5,6,7,8,9,10,11,12,13,14,15,16,17,18,19 * 20,21",
         "1 * 1 * 1,3,4,5,6,8,9,11,14,15,16 * 2,7,10,12,13 * 17,18",
         "10.0",
         "5312",
         "24",
         "5.72",
         "21",
         "18"
        ],
        [
         "36",
         "32.24 percent target mRNA inhibition",
         "Real-time PCR",
         "SSB gene",
         "Hepa1-6 cells",
         "Lipofectamine RNAiMAX",
         "AAAUCAUGGUGAAAUAAAAUU",
         "UAUUUCACCAUGAUUUUU",
         "Inverted abasic* 2-Deoxy* 2-Methoxy",
         "5-phosphate ribose* Inverted abasic* 2-Methoxy* 2-Hydroxy",
         "1,21 * 1,2,3,4,5,6,7,8,9,10,11,12,13,14,15,16,17,18,19 * 20,21",
         "1 * 1 * 1,2,3,4,5,6,7,8,9,10,12,13,14,15,16,17,18 * 11",
         "10.0",
         "5311",
         "24",
         "32.24",
         "21",
         "18"
        ],
        [
         "37",
         "32.24 percent target mRNA inhibition",
         "Real-time PCR",
         "SSB gene",
         "Hepa1-6 cells",
         "Lipofectamine RNAiMAX",
         "AAAUCAUGGUGAAAUAAAAUU",
         "UAUUUCACCAUGAUUUUU",
         "Inverted abasic* 2-Deoxy* 2-Methoxy",
         "5-phosphate ribose* Inverted abasic* 2-Methoxy* 2-Hydroxy",
         "1,21 * 1,2,3,4,5,6,7,8,9,10,11,12,13,14,15,16,17,18,19 * 20,21",
         "2 * 1 * 1,2,3,4,5,6,7,8,9,10,12,13,14,15,16,17,18 * 11",
         "10.0",
         "5311",
         "24",
         "32.24",
         "21",
         "18"
        ],
        [
         "38",
         "64.71 percent target mRNA inhibition",
         "Real-time PCR",
         "SSB gene",
         "Hepa1-6 cells",
         "Lipofectamine RNAiMAX",
         "AAAUCAUGGUGAAAUAAAAUU",
         "UAUUUCACCAUGAUUUUU",
         "Inverted abasic* 2-Deoxy* 2-Methoxy",
         "5-phosphate ribose* Inverted abasic* 2-Fluoro* 2-Methoxy",
         "1,21 * 1,2,3,4,5,6,7,8,9,10,11,12,13,14,15,16,17,18,19 * 20,21",
         "1 * 1 * 1,2,3,4,5,6,7,8,9,10,11,12,13,14,15,16 * 17,18",
         "10.0",
         "5310",
         "24",
         "64.71",
         "21",
         "18"
        ],
        [
         "39",
         "64.71 percent target mRNA inhibition",
         "Real-time PCR",
         "SSB gene",
         "Hepa1-6 cells",
         "Lipofectamine RNAiMAX",
         "AAAUCAUGGUGAAAUAAAAUU",
         "UAUUUCACCAUGAUUUUU",
         "Inverted abasic* 2-Deoxy* 2-Methoxy",
         "5-phosphate ribose* Inverted abasic* 2-Fluoro* 2-Methoxy",
         "1,21 * 1,2,3,4,5,6,7,8,9,10,11,12,13,14,15,16,17,18,19 * 20,21",
         "1 * 1 * 1,2,3,4,5,6,7,8,9,10,11,12,13,14,15,16 * 17,18",
         "10.0",
         "5310",
         "24",
         "64.71",
         "21",
         "18"
        ],
        [
         "40",
         "26.16 percent target mRNA inhibition",
         "Real-time PCR",
         "SSB gene",
         "Hepa1-6 cells",
         "Lipofectamine RNAiMAX",
         "AAAUCAUGGUGAAAUAAAAUU",
         "TATTTCACCATGATTTUU",
         "Inverted abasic* 2-Deoxy* 2-Methoxy",
         "5-phosphate ribose* Inverted abasic* 2-Deoxy* 2-Methoxy",
         "1,21 * 1,2,3,4,5,6,7,8,9,10,11,12,13,14,15,16,17,18,19 * 20,21",
         "1 * 1 * 1,2,3,4,5,6,7,8,9,10,11,12,13,14,15,16 * 17,18",
         "10.0",
         "5309",
         "24",
         "26.16",
         "21",
         "18"
        ],
        [
         "41",
         "26.16 percent target mRNA inhibition",
         "Real-time PCR",
         "SSB gene",
         "Hepa1-6 cells",
         "Lipofectamine RNAiMAX",
         "AAAUCAUGGUGAAAUAAAAUU",
         "TATTTCACCATGATTTUU",
         "Inverted abasic* 2-Deoxy* 2-Methoxy",
         "5-phosphate ribose* Inverted abasic* 2-Deoxy* 2-Methoxy",
         "1,21 * 1,2,3,4,5,6,7,8,9,10,11,12,13,14,15,16,17,18,19 * 20,21",
         "1 * 1 * 1,2,3,4,5,6,7,8,9,10,11,12,13,14,15,16 * 17,18",
         "10.0",
         "5309",
         "24",
         "26.16",
         "21",
         "18"
        ],
        [
         "42",
         "39.8 percent target mRNA inhibition",
         "Real-time PCR",
         "SSB gene",
         "Hepa1-6 cells",
         "Lipofectamine RNAiMAX",
         "AAAUCAUGGUGAAAUAAAAUU",
         "UAUUUCACCAUGAUUUUU",
         "Inverted abasic* 2-Deoxy* 2-Methoxy",
         "5-phosphate ribose* Inverted abasic* 2-Hydroxy* 2-Methoxy",
         "1,21 * 1,2,3,4,5,6,7,8,9,10,11,12,13,14,15,16,17,18,19 * 20,21",
         "1 * 1 * 1,2,3,4,5,6,7,8,9,10,11,12,13,14,15,16 * 17,18",
         "10.0",
         "5308",
         "24",
         "39.8",
         "21",
         "18"
        ],
        [
         "43",
         "39.8 percent target mRNA inhibition",
         "Real-time PCR",
         "SSB gene",
         "Hepa1-6 cells",
         "Lipofectamine RNAiMAX",
         "AAAUCAUGGUGAAAUAAAAUU",
         "UAUUUCACCAUGAUUUUU",
         "Inverted abasic* 2-Deoxy* 2-Methoxy",
         "5-phosphate ribose* Inverted abasic* 2-Hydroxy* 2-Methoxy",
         "1,21 * 1,2,3,4,5,6,7,8,9,10,11,12,13,14,15,16,17,18,19 * 20,21",
         "1 * 1 * 1,2,3,4,5,6,7,8,9,10,11,12,13,14,15,16 * 17,18",
         "10.0",
         "5308",
         "24",
         "39.8",
         "21",
         "18"
        ],
        [
         "44",
         "87.07 percent target mRNA inhibition",
         "Real-time PCR",
         "SSB gene",
         "Hepa1-6 cells",
         "Lipofectamine RNAiMAX",
         "AAAUCAUGGUGAAAUAAAAUU",
         "UUUUAUUUCACCAUGAUUUUU",
         "Inverted abasic* 2-Deoxy* 2-Methoxy",
         "2-Methoxy* 2-Fluoro* 2-Hydroxy",
         "1,21 * 1,2,3,4,5,6,7,8,9,10,11,12,13,14,15,16,17,18,19 * 20,21",
         "1,2,3,4,6,7,8,9,11,12,17,18,19,20,21 * 5,10,13,15,16 * 14",
         "10.0",
         "5307",
         "24",
         "87.07",
         "21",
         "21"
        ],
        [
         "45",
         "87.07 percent target mRNA inhibition",
         "Real-time PCR",
         "SSB gene",
         "Hepa1-6 cells",
         "Lipofectamine RNAiMAX",
         "AAAUCAUGGUGAAAUAAAAUU",
         "UUUUAUUUCACCAUGAUUUUU",
         "Inverted abasic* 2-Deoxy* 2-Methoxy",
         "2-Methoxy* 2-Fluoro* 2-Hydroxy",
         "1,21 * 1,2,3,4,5,6,7,8,9,10,11,12,13,14,15,16,17,18,19 * 20,21",
         "1,2,3,4,6,7,8,9,11,12,17,18,19,20,21 * 5,10,13,15,16 * 15",
         "10.0",
         "5307",
         "24",
         "87.07",
         "21",
         "21"
        ],
        [
         "46",
         "74.7 percent target mRNA inhibition",
         "Real-time PCR",
         "SSB gene",
         "Hepa1-6 cells",
         "Lipofectamine RNAiMAX",
         "AAAUCAUGGUGAAAUAAAAUU",
         "TTTTATTTCACCATGATTTUU",
         "Inverted abasic* 2-Deoxy* 2-Methoxy",
         "2-Deoxy* 2-Fluoro* 2-Methoxy",
         "1,21 * 1,2,3,4,5,6,7,8,9,10,11,12,13,14,15,16,17,18,19 * 20,21",
         "1,2,3,4,6,7,8,9,11,12,14,17,18,19 * 5,10,13,15,16 * 20,21",
         "10.0",
         "5306",
         "24",
         "74.7",
         "21",
         "21"
        ],
        [
         "47",
         "74.7 percent target mRNA inhibition",
         "Real-time PCR",
         "SSB gene",
         "Hepa1-6 cells",
         "Lipofectamine RNAiMAX",
         "AAAUCAUGGUGAAAUAAAAUU",
         "TTTTATTTCACCATGATTTUU",
         "Inverted abasic* 2-Deoxy* 2-Methoxy",
         "2-Deoxy* 2-Fluoro* 2-Methoxy",
         "1,21 * 1,2,3,4,5,6,7,8,9,10,11,12,13,14,15,16,17,18,19 * 20,21",
         "1,2,3,4,6,7,8,9,11,12,14,17,18,19 * 5,10,13,15,16 * 20,21",
         "10.0",
         "5306",
         "24",
         "74.7",
         "21",
         "21"
        ],
        [
         "48",
         "93.72 percent target mRNA inhibition",
         "Real-time PCR",
         "SSB gene",
         "Hepa1-6 cells",
         "Lipofectamine RNAiMAX",
         "AAAUCAUGGUGAAAUAAAAUU",
         "UUUUAUUUCACCAUGAUUUUU",
         "Inverted abasic* 2-Deoxy* 2-Methoxy",
         "2-Hydroxy* 2-Fluoro* 2-Methoxy",
         "1,21 * 1,2,3,4,5,6,7,8,9,10,11,12,13,14,15,16,17,18,19 * 20,21",
         "1,2,3,4,6,7,8,9,11,12,14,17,18,19 * 5,10,13,15,16 * 20,21",
         "10.0",
         "5305",
         "24",
         "93.72",
         "21",
         "21"
        ],
        [
         "49",
         "93.72 percent target mRNA inhibition",
         "Real-time PCR",
         "SSB gene",
         "Hepa1-6 cells",
         "Lipofectamine RNAiMAX",
         "AAAUCAUGGUGAAAUAAAAUU",
         "UUUUAUUUCACCAUGAUUUUU",
         "Inverted abasic* 2-Deoxy* 2-Methoxy",
         "2-Hydroxy* 2-Fluoro* 2-Methoxy",
         "1,21 * 1,2,3,4,5,6,7,8,9,10,11,12,13,14,15,16,17,18,19 * 20,21",
         "1,2,3,4,6,7,8,9,11,12,14,17,18,19 * 5,10,13,15,16 * 20,21",
         "10.0",
         "5305",
         "24",
         "93.72",
         "21",
         "21"
        ]
       ],
       "shape": {
        "columns": 17,
        "rows": 4441
       }
      },
      "text/html": [
       "<div>\n",
       "<style scoped>\n",
       "    .dataframe tbody tr th:only-of-type {\n",
       "        vertical-align: middle;\n",
       "    }\n",
       "\n",
       "    .dataframe tbody tr th {\n",
       "        vertical-align: top;\n",
       "    }\n",
       "\n",
       "    .dataframe thead th {\n",
       "        text-align: right;\n",
       "    }\n",
       "</style>\n",
       "<table border=\"1\" class=\"dataframe\">\n",
       "  <thead>\n",
       "    <tr style=\"text-align: right;\">\n",
       "      <th></th>\n",
       "      <th>Efficacy</th>\n",
       "      <th>Experiment used to check activity</th>\n",
       "      <th>Target gene</th>\n",
       "      <th>Cell or Organism used</th>\n",
       "      <th>Transfection method</th>\n",
       "      <th>siRNA sense</th>\n",
       "      <th>siRNA antisense</th>\n",
       "      <th>Modification sense</th>\n",
       "      <th>Modification antisense</th>\n",
       "      <th>Position sense</th>\n",
       "      <th>Position antisense</th>\n",
       "      <th>Concentration new</th>\n",
       "      <th>id_</th>\n",
       "      <th>Duration after transfection new</th>\n",
       "      <th>Efficacy_correct</th>\n",
       "      <th>siRNA sense_length</th>\n",
       "      <th>siRNA antisense_length</th>\n",
       "    </tr>\n",
       "  </thead>\n",
       "  <tbody>\n",
       "    <tr>\n",
       "      <th>0</th>\n",
       "      <td>EC-50 = 0.02 nM for target mRNA</td>\n",
       "      <td>Real-time quantitative PCR</td>\n",
       "      <td>SSB gene</td>\n",
       "      <td>Hepa1-6 cells</td>\n",
       "      <td>Lipofectamine RNAiMax</td>\n",
       "      <td>AAAUCAUGGUGAAAUAAAAUU</td>\n",
       "      <td>UUUUAUUUCACCAUGAUUUUU</td>\n",
       "      <td>Inverted abasic* 2-Methoxy</td>\n",
       "      <td>5-phosphate ribose* 2-Methoxy</td>\n",
       "      <td>1,21 * 20,21</td>\n",
       "      <td>1 * 20,21</td>\n",
       "      <td>0.02</td>\n",
       "      <td>5329</td>\n",
       "      <td>24</td>\n",
       "      <td>50.0</td>\n",
       "      <td>21</td>\n",
       "      <td>21</td>\n",
       "    </tr>\n",
       "    <tr>\n",
       "      <th>1</th>\n",
       "      <td>EC-50 = 0.02 nM for target mRNA</td>\n",
       "      <td>Real-time quantitative PCR</td>\n",
       "      <td>SSB gene</td>\n",
       "      <td>Hepa1-6 cells</td>\n",
       "      <td>Lipofectamine RNAiMax</td>\n",
       "      <td>AAAUCAUGGUGAAAUAAAAUU</td>\n",
       "      <td>UUUUAUUUCACCAUGAUUUUU</td>\n",
       "      <td>Inverted abasic* 2-Methoxy</td>\n",
       "      <td>5-phosphate ribose* 2-Methoxy</td>\n",
       "      <td>1,21 * 20,21</td>\n",
       "      <td>1 * 20,21</td>\n",
       "      <td>0.02</td>\n",
       "      <td>5329</td>\n",
       "      <td>24</td>\n",
       "      <td>50.0</td>\n",
       "      <td>21</td>\n",
       "      <td>21</td>\n",
       "    </tr>\n",
       "    <tr>\n",
       "      <th>2</th>\n",
       "      <td>EC-50 = 0.6 nM for target mRNA</td>\n",
       "      <td>Real-time quantitative PCR</td>\n",
       "      <td>Luciferase gene</td>\n",
       "      <td>Hepa1-6 cells</td>\n",
       "      <td>Lipofectamine RNAiMax</td>\n",
       "      <td>AUAAGGCUAUGAAGAGAUATT</td>\n",
       "      <td>UAUCUCUUCAUAGCCUUAUTT</td>\n",
       "      <td>Inverted abasic* 2-Deoxy</td>\n",
       "      <td>5-phosphate ribose* 2-Deoxy</td>\n",
       "      <td>1,21 * 20,21</td>\n",
       "      <td>1 * 20,21</td>\n",
       "      <td>0.60</td>\n",
       "      <td>5328</td>\n",
       "      <td>24</td>\n",
       "      <td>50.0</td>\n",
       "      <td>21</td>\n",
       "      <td>21</td>\n",
       "    </tr>\n",
       "    <tr>\n",
       "      <th>3</th>\n",
       "      <td>EC-50 = 0.6 nM for target mRNA</td>\n",
       "      <td>Real-time quantitative PCR</td>\n",
       "      <td>Luciferase gene</td>\n",
       "      <td>Hepa1-6 cells</td>\n",
       "      <td>Lipofectamine RNAiMax</td>\n",
       "      <td>AUAAGGCUAUGAAGAGAUATT</td>\n",
       "      <td>UAUCUCUUCAUAGCCUUAUTT</td>\n",
       "      <td>Inverted abasic* 2-Deoxy</td>\n",
       "      <td>5-phosphate ribose* 2-Deoxy</td>\n",
       "      <td>1,21 * 20,21</td>\n",
       "      <td>1 * 20,21</td>\n",
       "      <td>0.60</td>\n",
       "      <td>5328</td>\n",
       "      <td>24</td>\n",
       "      <td>50.0</td>\n",
       "      <td>21</td>\n",
       "      <td>21</td>\n",
       "    </tr>\n",
       "    <tr>\n",
       "      <th>4</th>\n",
       "      <td>EC-50 = 0.14 nM for target mRNA</td>\n",
       "      <td>Real-time quantitative PCR</td>\n",
       "      <td>PHD3 gene</td>\n",
       "      <td>Hepa1-6 cells</td>\n",
       "      <td>Lipofectamine RNAiMax</td>\n",
       "      <td>CAGUCAGCAAAGACGUCUAUU</td>\n",
       "      <td>UAGACGUCUUUGCUGACUGUU</td>\n",
       "      <td>Inverted abasic* 2-Methoxy</td>\n",
       "      <td>5-phosphate ribose* 2-Methoxy</td>\n",
       "      <td>1,21 * 20,21</td>\n",
       "      <td>1 * 20,21</td>\n",
       "      <td>0.14</td>\n",
       "      <td>5327</td>\n",
       "      <td>24</td>\n",
       "      <td>50.0</td>\n",
       "      <td>21</td>\n",
       "      <td>21</td>\n",
       "    </tr>\n",
       "    <tr>\n",
       "      <th>...</th>\n",
       "      <td>...</td>\n",
       "      <td>...</td>\n",
       "      <td>...</td>\n",
       "      <td>...</td>\n",
       "      <td>...</td>\n",
       "      <td>...</td>\n",
       "      <td>...</td>\n",
       "      <td>...</td>\n",
       "      <td>...</td>\n",
       "      <td>...</td>\n",
       "      <td>...</td>\n",
       "      <td>...</td>\n",
       "      <td>...</td>\n",
       "      <td>...</td>\n",
       "      <td>...</td>\n",
       "      <td>...</td>\n",
       "      <td>...</td>\n",
       "    </tr>\n",
       "    <tr>\n",
       "      <th>4508</th>\n",
       "      <td>81.4 percent target mRNA inhibition</td>\n",
       "      <td>Luciferase reporter assay</td>\n",
       "      <td>EGFP gene</td>\n",
       "      <td>HeLa cells</td>\n",
       "      <td>Interfer (Polypus -Transfection)</td>\n",
       "      <td>GACGUAAACGGCCACAAGUUCT</td>\n",
       "      <td>ACUUGUGGCCGUUUACGUCGC</td>\n",
       "      <td>Altritol nucleic acid* 2-Deoxy</td>\n",
       "      <td>2-O-Methyl</td>\n",
       "      <td>1,2 * 22</td>\n",
       "      <td>2</td>\n",
       "      <td>10.00</td>\n",
       "      <td>5</td>\n",
       "      <td>72</td>\n",
       "      <td>81.4</td>\n",
       "      <td>22</td>\n",
       "      <td>21</td>\n",
       "    </tr>\n",
       "    <tr>\n",
       "      <th>4509</th>\n",
       "      <td>35.4 percent target mRNA inhibition</td>\n",
       "      <td>Luciferase reporter assay</td>\n",
       "      <td>EGFP gene</td>\n",
       "      <td>HeLa cells</td>\n",
       "      <td>Interfer (Polypus -Transfection)</td>\n",
       "      <td>GACGUAAACGGCCACAAGUUCT</td>\n",
       "      <td>ACUUGUGGCCGUUUACGUCGC</td>\n",
       "      <td>Hexitol nucleic acid</td>\n",
       "      <td>2-O-Methyl</td>\n",
       "      <td>5,8,14,17,22</td>\n",
       "      <td>2</td>\n",
       "      <td>10.00</td>\n",
       "      <td>4</td>\n",
       "      <td>72</td>\n",
       "      <td>35.4</td>\n",
       "      <td>22</td>\n",
       "      <td>21</td>\n",
       "    </tr>\n",
       "    <tr>\n",
       "      <th>4510</th>\n",
       "      <td>54.2 percent target mRNA inhibition</td>\n",
       "      <td>Luciferase reporter assay</td>\n",
       "      <td>EGFP gene</td>\n",
       "      <td>HeLa cells</td>\n",
       "      <td>Interfer (Polypus -Transfection)</td>\n",
       "      <td>GACGUAAACGGCCACAAGUUC</td>\n",
       "      <td>ACUUGUGGCCGUUUACGUCGC</td>\n",
       "      <td>Hexitol nucleic acid</td>\n",
       "      <td>2-O-Methyl</td>\n",
       "      <td>2,8,14,17</td>\n",
       "      <td>2</td>\n",
       "      <td>10.00</td>\n",
       "      <td>3</td>\n",
       "      <td>72</td>\n",
       "      <td>54.2</td>\n",
       "      <td>21</td>\n",
       "      <td>21</td>\n",
       "    </tr>\n",
       "    <tr>\n",
       "      <th>4511</th>\n",
       "      <td>76.8 percent target mRNA inhibition</td>\n",
       "      <td>Luciferase reporter assay</td>\n",
       "      <td>EGFP gene</td>\n",
       "      <td>HeLa cells</td>\n",
       "      <td>Interfer (Polypus -Transfection)</td>\n",
       "      <td>GACGUAAACGGCCACAAGUUC</td>\n",
       "      <td>ACUUGUGGCCGUUUACGUCGC</td>\n",
       "      <td>2-Guanidinoethyl</td>\n",
       "      <td>2-O-Methyl</td>\n",
       "      <td>18</td>\n",
       "      <td>2</td>\n",
       "      <td>10.00</td>\n",
       "      <td>2</td>\n",
       "      <td>72</td>\n",
       "      <td>76.8</td>\n",
       "      <td>21</td>\n",
       "      <td>21</td>\n",
       "    </tr>\n",
       "    <tr>\n",
       "      <th>4512</th>\n",
       "      <td>69.5 percent target mRNA inhibition</td>\n",
       "      <td>Luciferase reporter assay</td>\n",
       "      <td>EGFP gene</td>\n",
       "      <td>HeLa cells</td>\n",
       "      <td>Interfer (Polypus -Transfection)</td>\n",
       "      <td>GACGUAAACGGCCACAAGUUC</td>\n",
       "      <td>ACUUGUGGCCGUUUACGUCGC</td>\n",
       "      <td>2-Aminoethyl</td>\n",
       "      <td>2-O-Methyl</td>\n",
       "      <td>18</td>\n",
       "      <td>2</td>\n",
       "      <td>10.00</td>\n",
       "      <td>1</td>\n",
       "      <td>72</td>\n",
       "      <td>69.5</td>\n",
       "      <td>21</td>\n",
       "      <td>21</td>\n",
       "    </tr>\n",
       "  </tbody>\n",
       "</table>\n",
       "<p>4441 rows × 17 columns</p>\n",
       "</div>"
      ],
      "text/plain": [
       "                                 Efficacy Experiment used to check activity  \\\n",
       "0         EC-50 = 0.02 nM for target mRNA        Real-time quantitative PCR   \n",
       "1         EC-50 = 0.02 nM for target mRNA        Real-time quantitative PCR   \n",
       "2          EC-50 = 0.6 nM for target mRNA        Real-time quantitative PCR   \n",
       "3          EC-50 = 0.6 nM for target mRNA        Real-time quantitative PCR   \n",
       "4         EC-50 = 0.14 nM for target mRNA        Real-time quantitative PCR   \n",
       "...                                   ...                               ...   \n",
       "4508  81.4 percent target mRNA inhibition         Luciferase reporter assay   \n",
       "4509  35.4 percent target mRNA inhibition         Luciferase reporter assay   \n",
       "4510  54.2 percent target mRNA inhibition         Luciferase reporter assay   \n",
       "4511  76.8 percent target mRNA inhibition         Luciferase reporter assay   \n",
       "4512  69.5 percent target mRNA inhibition         Luciferase reporter assay   \n",
       "\n",
       "          Target gene Cell or Organism used               Transfection method  \\\n",
       "0            SSB gene         Hepa1-6 cells             Lipofectamine RNAiMax   \n",
       "1            SSB gene         Hepa1-6 cells             Lipofectamine RNAiMax   \n",
       "2     Luciferase gene         Hepa1-6 cells             Lipofectamine RNAiMax   \n",
       "3     Luciferase gene         Hepa1-6 cells             Lipofectamine RNAiMax   \n",
       "4           PHD3 gene         Hepa1-6 cells             Lipofectamine RNAiMax   \n",
       "...               ...                   ...                               ...   \n",
       "4508        EGFP gene            HeLa cells  Interfer (Polypus -Transfection)   \n",
       "4509        EGFP gene            HeLa cells  Interfer (Polypus -Transfection)   \n",
       "4510        EGFP gene            HeLa cells  Interfer (Polypus -Transfection)   \n",
       "4511        EGFP gene            HeLa cells  Interfer (Polypus -Transfection)   \n",
       "4512        EGFP gene            HeLa cells  Interfer (Polypus -Transfection)   \n",
       "\n",
       "                 siRNA sense        siRNA antisense  \\\n",
       "0      AAAUCAUGGUGAAAUAAAAUU  UUUUAUUUCACCAUGAUUUUU   \n",
       "1      AAAUCAUGGUGAAAUAAAAUU  UUUUAUUUCACCAUGAUUUUU   \n",
       "2      AUAAGGCUAUGAAGAGAUATT  UAUCUCUUCAUAGCCUUAUTT   \n",
       "3      AUAAGGCUAUGAAGAGAUATT  UAUCUCUUCAUAGCCUUAUTT   \n",
       "4      CAGUCAGCAAAGACGUCUAUU  UAGACGUCUUUGCUGACUGUU   \n",
       "...                      ...                    ...   \n",
       "4508  GACGUAAACGGCCACAAGUUCT  ACUUGUGGCCGUUUACGUCGC   \n",
       "4509  GACGUAAACGGCCACAAGUUCT  ACUUGUGGCCGUUUACGUCGC   \n",
       "4510   GACGUAAACGGCCACAAGUUC  ACUUGUGGCCGUUUACGUCGC   \n",
       "4511   GACGUAAACGGCCACAAGUUC  ACUUGUGGCCGUUUACGUCGC   \n",
       "4512   GACGUAAACGGCCACAAGUUC  ACUUGUGGCCGUUUACGUCGC   \n",
       "\n",
       "                  Modification sense         Modification antisense  \\\n",
       "0         Inverted abasic* 2-Methoxy  5-phosphate ribose* 2-Methoxy   \n",
       "1         Inverted abasic* 2-Methoxy  5-phosphate ribose* 2-Methoxy   \n",
       "2           Inverted abasic* 2-Deoxy    5-phosphate ribose* 2-Deoxy   \n",
       "3           Inverted abasic* 2-Deoxy    5-phosphate ribose* 2-Deoxy   \n",
       "4         Inverted abasic* 2-Methoxy  5-phosphate ribose* 2-Methoxy   \n",
       "...                              ...                            ...   \n",
       "4508  Altritol nucleic acid* 2-Deoxy                     2-O-Methyl   \n",
       "4509            Hexitol nucleic acid                     2-O-Methyl   \n",
       "4510            Hexitol nucleic acid                     2-O-Methyl   \n",
       "4511                2-Guanidinoethyl                     2-O-Methyl   \n",
       "4512                    2-Aminoethyl                     2-O-Methyl   \n",
       "\n",
       "     Position sense Position antisense  Concentration new   id_  \\\n",
       "0      1,21 * 20,21          1 * 20,21               0.02  5329   \n",
       "1      1,21 * 20,21          1 * 20,21               0.02  5329   \n",
       "2      1,21 * 20,21          1 * 20,21               0.60  5328   \n",
       "3      1,21 * 20,21          1 * 20,21               0.60  5328   \n",
       "4      1,21 * 20,21          1 * 20,21               0.14  5327   \n",
       "...             ...                ...                ...   ...   \n",
       "4508       1,2 * 22                  2              10.00     5   \n",
       "4509   5,8,14,17,22                  2              10.00     4   \n",
       "4510      2,8,14,17                  2              10.00     3   \n",
       "4511             18                  2              10.00     2   \n",
       "4512             18                  2              10.00     1   \n",
       "\n",
       "      Duration after transfection new  Efficacy_correct  siRNA sense_length  \\\n",
       "0                                  24              50.0                  21   \n",
       "1                                  24              50.0                  21   \n",
       "2                                  24              50.0                  21   \n",
       "3                                  24              50.0                  21   \n",
       "4                                  24              50.0                  21   \n",
       "...                               ...               ...                 ...   \n",
       "4508                               72              81.4                  22   \n",
       "4509                               72              35.4                  22   \n",
       "4510                               72              54.2                  21   \n",
       "4511                               72              76.8                  21   \n",
       "4512                               72              69.5                  21   \n",
       "\n",
       "      siRNA antisense_length  \n",
       "0                         21  \n",
       "1                         21  \n",
       "2                         21  \n",
       "3                         21  \n",
       "4                         21  \n",
       "...                      ...  \n",
       "4508                      21  \n",
       "4509                      21  \n",
       "4510                      21  \n",
       "4511                      21  \n",
       "4512                      21  \n",
       "\n",
       "[4441 rows x 17 columns]"
      ]
     },
     "execution_count": 12,
     "metadata": {},
     "output_type": "execute_result"
    }
   ],
   "source": [
    "def add_string_length_column(df, column_name, new_column_name=None):\n",
    "    \"\"\"\n",
    "    Добавляет столбец с длиной строки для указанного столбца\n",
    "    \"\"\"\n",
    "    if new_column_name is None:\n",
    "        new_column_name = f'{column_name}_length'\n",
    "    \n",
    "    # Создаем новый столбец с длиной строки\n",
    "    df[new_column_name] = df[column_name].astype(str).str.len()\n",
    "    \n",
    "    return df\n",
    "\n",
    "add_string_length_column(df_clean, 'siRNA sense')\n",
    "add_string_length_column(df_clean, 'siRNA antisense')"
   ]
  },
  {
   "cell_type": "markdown",
   "id": "0aac95bf",
   "metadata": {},
   "source": [
    "Проанализируем распределение"
   ]
  },
  {
   "cell_type": "code",
   "execution_count": 13,
   "id": "6c926a45",
   "metadata": {},
   "outputs": [
    {
     "data": {
      "image/png": "[encoded data removed]",
      "text/plain": [
       "<Figure size 800x500 with 1 Axes>"
      ]
     },
     "metadata": {},
     "output_type": "display_data"
    },
    {
     "name": "stdout",
     "output_type": "stream",
     "text": [
      "Статистика для 'siRNA sense_length':\n",
      "  Количество значений: 4441\n",
      "  Среднее: 21.54\n",
      "  Медиана: 21.00\n",
      "  Стандартное отклонение: 1.72\n"
     ]
    },
    {
     "data": {
      "image/png": "[encoded data removed]",
      "text/plain": [
       "<Figure size 800x500 with 1 Axes>"
      ]
     },
     "metadata": {},
     "output_type": "display_data"
    },
    {
     "name": "stdout",
     "output_type": "stream",
     "text": [
      "Статистика для 'siRNA antisense_length':\n",
      "  Количество значений: 4441\n",
      "  Среднее: 21.30\n",
      "  Медиана: 21.00\n",
      "  Стандартное отклонение: 1.90\n"
     ]
    }
   ],
   "source": [
    "plot_numeric_histogram(df_clean, 'siRNA sense_length')\n",
    "plot_numeric_histogram(df_clean, 'siRNA antisense_length')\n"
   ]
  },
  {
   "cell_type": "markdown",
   "id": "15c2cc9b",
   "metadata": {},
   "source": [
    "Диапазон длин соответствует нормальному для siRNA. Как правило их цепи находятся в диапазоне длин 20-25 нуклеотидов"
   ]
  },
  {
   "cell_type": "code",
   "execution_count": 14,
   "id": "2090661d",
   "metadata": {},
   "outputs": [
    {
     "data": {
      "application/vnd.microsoft.datawrangler.viewer.v0+json": {
       "columns": [
        {
         "name": "index",
         "rawType": "object",
         "type": "string"
        },
        {
         "name": "Efficacy_correct",
         "rawType": "float64",
         "type": "float"
        },
        {
         "name": "Concentration new",
         "rawType": "float64",
         "type": "float"
        },
        {
         "name": "siRNA sense_length",
         "rawType": "float64",
         "type": "float"
        },
        {
         "name": "siRNA antisense_length",
         "rawType": "float64",
         "type": "float"
        }
       ],
       "ref": "92524b39-d4df-46f5-aa79-c0c823daaf34",
       "rows": [
        [
         "Efficacy_correct",
         "1.0",
         "0.01806277584620459",
         "-0.024717139426487934",
         "0.006069890216889917"
        ],
        [
         "Concentration new",
         "0.01806277584620459",
         "1.0",
         "-0.037167916512361704",
         "-0.042991796602901686"
        ],
        [
         "siRNA sense_length",
         "-0.024717139426487934",
         "-0.037167916512361704",
         "1.0",
         "-0.20533976667761478"
        ],
        [
         "siRNA antisense_length",
         "0.006069890216889917",
         "-0.042991796602901686",
         "-0.20533976667761478",
         "1.0"
        ]
       ],
       "shape": {
        "columns": 4,
        "rows": 4
       }
      },
      "text/html": [
       "<div>\n",
       "<style scoped>\n",
       "    .dataframe tbody tr th:only-of-type {\n",
       "        vertical-align: middle;\n",
       "    }\n",
       "\n",
       "    .dataframe tbody tr th {\n",
       "        vertical-align: top;\n",
       "    }\n",
       "\n",
       "    .dataframe thead th {\n",
       "        text-align: right;\n",
       "    }\n",
       "</style>\n",
       "<table border=\"1\" class=\"dataframe\">\n",
       "  <thead>\n",
       "    <tr style=\"text-align: right;\">\n",
       "      <th></th>\n",
       "      <th>Efficacy_correct</th>\n",
       "      <th>Concentration new</th>\n",
       "      <th>siRNA sense_length</th>\n",
       "      <th>siRNA antisense_length</th>\n",
       "    </tr>\n",
       "  </thead>\n",
       "  <tbody>\n",
       "    <tr>\n",
       "      <th>Efficacy_correct</th>\n",
       "      <td>1.000000</td>\n",
       "      <td>0.018063</td>\n",
       "      <td>-0.024717</td>\n",
       "      <td>0.006070</td>\n",
       "    </tr>\n",
       "    <tr>\n",
       "      <th>Concentration new</th>\n",
       "      <td>0.018063</td>\n",
       "      <td>1.000000</td>\n",
       "      <td>-0.037168</td>\n",
       "      <td>-0.042992</td>\n",
       "    </tr>\n",
       "    <tr>\n",
       "      <th>siRNA sense_length</th>\n",
       "      <td>-0.024717</td>\n",
       "      <td>-0.037168</td>\n",
       "      <td>1.000000</td>\n",
       "      <td>-0.205340</td>\n",
       "    </tr>\n",
       "    <tr>\n",
       "      <th>siRNA antisense_length</th>\n",
       "      <td>0.006070</td>\n",
       "      <td>-0.042992</td>\n",
       "      <td>-0.205340</td>\n",
       "      <td>1.000000</td>\n",
       "    </tr>\n",
       "  </tbody>\n",
       "</table>\n",
       "</div>"
      ],
      "text/plain": [
       "                        Efficacy_correct  Concentration new  \\\n",
       "Efficacy_correct                1.000000           0.018063   \n",
       "Concentration new               0.018063           1.000000   \n",
       "siRNA sense_length             -0.024717          -0.037168   \n",
       "siRNA antisense_length          0.006070          -0.042992   \n",
       "\n",
       "                        siRNA sense_length  siRNA antisense_length  \n",
       "Efficacy_correct                 -0.024717                0.006070  \n",
       "Concentration new                -0.037168               -0.042992  \n",
       "siRNA sense_length                1.000000               -0.205340  \n",
       "siRNA antisense_length           -0.205340                1.000000  "
      ]
     },
     "execution_count": 14,
     "metadata": {},
     "output_type": "execute_result"
    }
   ],
   "source": [
    "df_clean[['Efficacy_correct', 'Concentration new', 'siRNA sense_length', 'siRNA antisense_length']].corr()"
   ]
  },
  {
   "cell_type": "code",
   "execution_count": 15,
   "id": "329b67de",
   "metadata": {},
   "outputs": [
    {
     "data": {
      "application/vnd.microsoft.datawrangler.viewer.v0+json": {
       "columns": [
        {
         "name": "index",
         "rawType": "int64",
         "type": "integer"
        },
        {
         "name": "Efficacy",
         "rawType": "object",
         "type": "string"
        },
        {
         "name": "Experiment used to check activity",
         "rawType": "object",
         "type": "string"
        },
        {
         "name": "Target gene",
         "rawType": "object",
         "type": "string"
        },
        {
         "name": "Cell or Organism used",
         "rawType": "object",
         "type": "string"
        },
        {
         "name": "Transfection method",
         "rawType": "object",
         "type": "string"
        },
        {
         "name": "siRNA sense",
         "rawType": "object",
         "type": "string"
        },
        {
         "name": "siRNA antisense",
         "rawType": "object",
         "type": "string"
        },
        {
         "name": "Modification sense",
         "rawType": "object",
         "type": "string"
        },
        {
         "name": "Modification antisense",
         "rawType": "object",
         "type": "string"
        },
        {
         "name": "Position sense",
         "rawType": "object",
         "type": "string"
        },
        {
         "name": "Position antisense",
         "rawType": "object",
         "type": "string"
        },
        {
         "name": "Concentration new",
         "rawType": "float64",
         "type": "float"
        },
        {
         "name": "id_",
         "rawType": "int64",
         "type": "integer"
        },
        {
         "name": "Duration after transfection new",
         "rawType": "int64",
         "type": "integer"
        },
        {
         "name": "Efficacy_correct",
         "rawType": "float64",
         "type": "float"
        },
        {
         "name": "siRNA sense_length",
         "rawType": "int64",
         "type": "integer"
        },
        {
         "name": "siRNA antisense_length",
         "rawType": "int64",
         "type": "integer"
        }
       ],
       "ref": "d9a75859-dee6-49d0-9133-708ed7d80bdc",
       "rows": [
        [
         "0",
         "EC-50 = 0.02 nM for target mRNA",
         "Real-time quantitative PCR",
         "SSB gene",
         "Hepa1-6 cells",
         "Lipofectamine RNAiMax",
         "AAAUCAUGGUGAAAUAAAAUU",
         "UUUUAUUUCACCAUGAUUUUU",
         "Inverted abasic* 2-Methoxy",
         "5-phosphate ribose* 2-Methoxy",
         "1,21 * 20,21",
         "1 * 20,21",
         "0.02",
         "5329",
         "24",
         "50.0",
         "21",
         "21"
        ],
        [
         "1",
         "EC-50 = 0.02 nM for target mRNA",
         "Real-time quantitative PCR",
         "SSB gene",
         "Hepa1-6 cells",
         "Lipofectamine RNAiMax",
         "AAAUCAUGGUGAAAUAAAAUU",
         "UUUUAUUUCACCAUGAUUUUU",
         "Inverted abasic* 2-Methoxy",
         "5-phosphate ribose* 2-Methoxy",
         "1,21 * 20,21",
         "1 * 20,21",
         "0.02",
         "5329",
         "24",
         "50.0",
         "21",
         "21"
        ],
        [
         "2",
         "EC-50 = 0.6 nM for target mRNA",
         "Real-time quantitative PCR",
         "Luciferase gene",
         "Hepa1-6 cells",
         "Lipofectamine RNAiMax",
         "AUAAGGCUAUGAAGAGAUATT",
         "UAUCUCUUCAUAGCCUUAUTT",
         "Inverted abasic* 2-Deoxy",
         "5-phosphate ribose* 2-Deoxy",
         "1,21 * 20,21",
         "1 * 20,21",
         "0.6",
         "5328",
         "24",
         "50.0",
         "21",
         "21"
        ],
        [
         "3",
         "EC-50 = 0.6 nM for target mRNA",
         "Real-time quantitative PCR",
         "Luciferase gene",
         "Hepa1-6 cells",
         "Lipofectamine RNAiMax",
         "AUAAGGCUAUGAAGAGAUATT",
         "UAUCUCUUCAUAGCCUUAUTT",
         "Inverted abasic* 2-Deoxy",
         "5-phosphate ribose* 2-Deoxy",
         "1,21 * 20,21",
         "1 * 20,21",
         "0.6",
         "5328",
         "24",
         "50.0",
         "21",
         "21"
        ],
        [
         "4",
         "EC-50 = 0.14 nM for target mRNA",
         "Real-time quantitative PCR",
         "PHD3 gene",
         "Hepa1-6 cells",
         "Lipofectamine RNAiMax",
         "CAGUCAGCAAAGACGUCUAUU",
         "UAGACGUCUUUGCUGACUGUU",
         "Inverted abasic* 2-Methoxy",
         "5-phosphate ribose* 2-Methoxy",
         "1,21 * 20,21",
         "1 * 20,21",
         "0.14",
         "5327",
         "24",
         "50.0",
         "21",
         "21"
        ],
        [
         "5",
         "EC-50 = 0.14 nM for target mRNA",
         "Real-time quantitative PCR",
         "PHD3 gene",
         "Hepa1-6 cells",
         "Lipofectamine RNAiMax",
         "CAGUCAGCAAAGACGUCUAUU",
         "UAGACGUCUUUGCUGACUGUU",
         "Inverted abasic* 2-Methoxy",
         "5-phosphate ribose* 2-Methoxy",
         "1,21 * 20,21",
         "1 * 20,21",
         "0.14",
         "5327",
         "24",
         "50.0",
         "21",
         "21"
        ],
        [
         "6",
         "EC-50 = 0.05 nM for target mRNA",
         "Real-time quantitative PCR",
         "PHD2 gene",
         "Hepa1-6 cells",
         "Lipofectamine RNAiMax",
         "CAUUGAACCCAAAUUUGAUUU",
         "AUCAAAUUUGGGUUCAAUGUU",
         "Inverted abasic* 2-Methoxy",
         "5-phosphate ribose* 2-Methoxy",
         "1,21 * 20,21",
         "1 * 20,21",
         "0.05",
         "5326",
         "24",
         "50.0",
         "21",
         "21"
        ],
        [
         "7",
         "EC-50 = 0.05 nM for target mRNA",
         "Real-time quantitative PCR",
         "PHD2 gene",
         "Hepa1-6 cells",
         "Lipofectamine RNAiMax",
         "CAUUGAACCCAAAUUUGAUUU",
         "AUCAAAUUUGGGUUCAAUGUU",
         "Inverted abasic* 2-Methoxy",
         "5-phosphate ribose* 2-Methoxy",
         "1,21 * 20,21",
         "1 * 20,21",
         "0.05",
         "5326",
         "24",
         "50.0",
         "21",
         "21"
        ],
        [
         "8",
         "EC-50 = 0.51 nM for target mRNA",
         "Real-time quantitative PCR",
         "ApoB gene",
         "Hepa1-6 cells",
         "Lipofectamine RNAiMax",
         "CAAGUGUCAUCACACUGAAUU",
         "UUCAGUGUGAUGACACUUGUU",
         "Inverted abasic* 2-Methoxy",
         "5-phosphate ribose* 2-Methoxy",
         "1,21 * 20,21",
         "1 * 20,21",
         "0.51",
         "5325",
         "24",
         "50.0",
         "21",
         "21"
        ],
        [
         "9",
         "EC-50 = 0.51 nM for target mRNA",
         "Real-time quantitative PCR",
         "ApoB gene",
         "Hepa1-6 cells",
         "Lipofectamine RNAiMax",
         "CAAGUGUCAUCACACUGAAUU",
         "UUCAGUGUGAUGACACUUGUU",
         "Inverted abasic* 2-Methoxy",
         "5-phosphate ribose* 2-Methoxy",
         "1,21 * 20,21",
         "1 * 20,21",
         "0.51",
         "5325",
         "24",
         "50.0",
         "21",
         "21"
        ],
        [
         "10",
         "EC-50 = 0.44 nM for target mRNA",
         "Real-time quantitative PCR",
         "ApoB gene",
         "Hepa1-6 cells",
         "Lipofectamine RNAiMax",
         "CUUUAACAAUUCCUGAAAUUU",
         "AUUUCAGGAAUUGUUAAAGUU",
         "Inverted abasic* 2-Methoxy",
         "5-phosphate ribose* 2-Methoxy",
         "1,21 * 20,21",
         "1 * 20,21",
         "0.44",
         "5324",
         "24",
         "50.0",
         "21",
         "21"
        ],
        [
         "11",
         "EC-50 = 0.44 nM for target mRNA",
         "Real-time quantitative PCR",
         "ApoB gene",
         "Hepa1-6 cells",
         "Lipofectamine RNAiMax",
         "CUUUAACAAUUCCUGAAAUUU",
         "AUUUCAGGAAUUGUUAAAGUU",
         "Inverted abasic* 2-Methoxy",
         "5-phosphate ribose* 2-Methoxy",
         "1,21 * 20,21",
         "1 * 20,21",
         "0.44",
         "5324",
         "24",
         "50.0",
         "21",
         "21"
        ],
        [
         "12",
         "EC-50 = 0.02 nM for target mRNA",
         "Real-time quantitative PCR",
         "SSB gene",
         "Hepa1-6 cells",
         "Lipofectamine RNAiMax",
         "AAAUCAUGGUGAAAUAAAAUU",
         "UUUUAUUUCACCAUGAUUUUU",
         "Inverted abasic* 2-Methoxy",
         "5-hydroxy ribose* 2-Methoxy",
         "1,21 * 20,21",
         "1 * 20,21",
         "0.02",
         "5323",
         "24",
         "50.0",
         "21",
         "21"
        ],
        [
         "13",
         "EC-50 = 0.02 nM for target mRNA",
         "Real-time quantitative PCR",
         "SSB gene",
         "Hepa1-6 cells",
         "Lipofectamine RNAiMax",
         "AAAUCAUGGUGAAAUAAAAUU",
         "UUUUAUUUCACCAUGAUUUUU",
         "Inverted abasic* 2-Methoxy",
         "5-hydroxy ribose* 2-Methoxy",
         "1,21 * 20,21",
         "1 * 20,21",
         "0.02",
         "5323",
         "24",
         "50.0",
         "21",
         "21"
        ],
        [
         "14",
         "EC-50 = 0.19 nM for target mRNA",
         "Real-time quantitative PCR",
         "Luciferase gene",
         "Hepa1-6 cells",
         "Lipofectamine RNAiMax",
         "AUAAGGCUAUGAAGAGAUATT",
         "UAUCUCUUCAUAGCCUUAUTT",
         "Inverted abasic* 2-Deoxy",
         "5-hydroxy ribose* 2-Deoxy",
         "1,21 * 20,21",
         "1 * 20,21",
         "0.19",
         "5322",
         "24",
         "50.0",
         "21",
         "21"
        ],
        [
         "15",
         "EC-50 = 0.19 nM for target mRNA",
         "Real-time quantitative PCR",
         "Luciferase gene",
         "Hepa1-6 cells",
         "Lipofectamine RNAiMax",
         "AUAAGGCUAUGAAGAGAUATT",
         "UAUCUCUUCAUAGCCUUAUTT",
         "Inverted abasic* 2-Deoxy",
         "5-hydroxy ribose* 2-Deoxy",
         "1,21 * 20,21",
         "1 * 20,21",
         "0.19",
         "5322",
         "24",
         "50.0",
         "21",
         "21"
        ],
        [
         "16",
         "EC-50 = 0.13 nM for target mRNA",
         "Real-time quantitative PCR",
         "PHD3 gene",
         "Hepa1-6 cells",
         "Lipofectamine RNAiMax",
         "CAGUCAGCAAAGACGUCUAUU",
         "UAGACGUCUUUGCUGACUGUU",
         "Inverted abasic* 2-Methoxy",
         "5-hydroxy ribose* 2-Methoxy",
         "1,21 * 20,21",
         "1 * 20,21",
         "0.13",
         "5321",
         "24",
         "50.0",
         "21",
         "21"
        ],
        [
         "17",
         "EC-50 = 0.13 nM for target mRNA",
         "Real-time quantitative PCR",
         "PHD3 gene",
         "Hepa1-6 cells",
         "Lipofectamine RNAiMax",
         "CAGUCAGCAAAGACGUCUAUU",
         "UAGACGUCUUUGCUGACUGUU",
         "Inverted abasic* 2-Methoxy",
         "5-hydroxy ribose* 2-Methoxy",
         "1,21 * 20,21",
         "1 * 20,21",
         "0.13",
         "5321",
         "24",
         "50.0",
         "21",
         "21"
        ],
        [
         "18",
         "EC-50 = 0.05 nM for target mRNA",
         "Real-time quantitative PCR",
         "PHD2 gene",
         "Hepa1-6 cells",
         "Lipofectamine RNAiMax",
         "CAUUGAACCCAAAUUUGAUUU",
         "AUCAAAUUUGGGUUCAAUGUU",
         "Inverted abasic* 2-Methoxy",
         "5-hydroxy ribose* 2-Methoxy",
         "1,21 * 20,21",
         "1 * 20,21",
         "0.05",
         "5320",
         "24",
         "50.0",
         "21",
         "21"
        ],
        [
         "19",
         "EC-50 = 0.05 nM for target mRNA",
         "Real-time quantitative PCR",
         "PHD2 gene",
         "Hepa1-6 cells",
         "Lipofectamine RNAiMax",
         "CAUUGAACCCAAAUUUGAUUU",
         "AUCAAAUUUGGGUUCAAUGUU",
         "Inverted abasic* 2-Methoxy",
         "5-hydroxy ribose* 2-Methoxy",
         "1,21 * 20,21",
         "1 * 20,21",
         "0.05",
         "5320",
         "24",
         "50.0",
         "21",
         "21"
        ],
        [
         "20",
         "EC-50 = 0.5 nM for target mRNA",
         "Real-time quantitative PCR",
         "ApoB gene",
         "Hepa1-6 cells",
         "Lipofectamine RNAiMax",
         "CAAGUGUCAUCACACUGAAUU",
         "UUCAGUGUGAUGACACUUGUU",
         "Inverted abasic* 2-Methoxy",
         "5-hydroxy ribose* 2-Methoxy",
         "1,21 * 20,21",
         "1 * 20,21",
         "0.5",
         "5319",
         "24",
         "50.0",
         "21",
         "21"
        ],
        [
         "21",
         "EC-50 = 0.5 nM for target mRNA",
         "Real-time quantitative PCR",
         "ApoB gene",
         "Hepa1-6 cells",
         "Lipofectamine RNAiMax",
         "CAAGUGUCAUCACACUGAAUU",
         "UUCAGUGUGAUGACACUUGUU",
         "Inverted abasic* 2-Methoxy",
         "5-hydroxy ribose* 2-Methoxy",
         "1,21 * 20,21",
         "1 * 20,21",
         "0.5",
         "5319",
         "24",
         "50.0",
         "21",
         "21"
        ],
        [
         "22",
         "EC-50 = 0.3 nM for target mRNA",
         "Real-time quantitative PCR",
         "ApoB gene",
         "Hepa1-6 cells",
         "Lipofectamine RNAiMax",
         "CUUUAACAAUUCCUGAAAUUU",
         "AUUUCAGGAAUUGUUAAAGUU",
         "Inverted abasic* 2-Methoxy",
         "5-hydroxy ribose* 2-Methoxy",
         "1,21 * 20,21",
         "1 * 20,21",
         "0.3",
         "5318",
         "24",
         "50.0",
         "21",
         "21"
        ],
        [
         "23",
         "EC-50 = 0.3 nM for target mRNA",
         "Real-time quantitative PCR",
         "ApoB gene",
         "Hepa1-6 cells",
         "Lipofectamine RNAiMax",
         "CUUUAACAAUUCCUGAAAUUU",
         "AUUUCAGGAAUUGUUAAAGUU",
         "Inverted abasic* 2-Methoxy",
         "5-hydroxy ribose* 2-Methoxy",
         "1,21 * 20,21",
         "1 * 20,21",
         "0.3",
         "5318",
         "24",
         "50.0",
         "21",
         "21"
        ],
        [
         "24",
         "40.77 percent target mRNA inhibition",
         "Real-time PCR",
         "SSB gene",
         "Hepa1-6 cells",
         "Lipofectamine RNAiMAX",
         "AAAUCAUGGUGAAAUAAAAUU",
         "UAUUUCACCAUGAUUUUU",
         "Inverted abasic* 2-Deoxy* 2-Methoxy",
         "5-phosphate ribose* Inverted abasic* 2-Methoxy* 2-Fluoro* 2-Hydroxy",
         "1,21 * 1,2,3,4,5,6,7,8,9,10,11,12,13,14,15,16,17,18,19 * 20,21",
         "1 * 1 * 1,3,4,5,6,8,9,14,15,16,17,18 * 2,7,10,12,13 * 11",
         "10.0",
         "5317",
         "24",
         "40.77",
         "21",
         "18"
        ],
        [
         "25",
         "40.77 percent target mRNA inhibition",
         "Real-time PCR",
         "SSB gene",
         "Hepa1-6 cells",
         "Lipofectamine RNAiMAX",
         "AAAUCAUGGUGAAAUAAAAUU",
         "UAUUUCACCAUGAUUUUU",
         "Inverted abasic* 2-Deoxy* 2-Methoxy",
         "5-phosphate ribose* Inverted abasic* 2-Methoxy* 2-Fluoro* 2-Hydroxy",
         "1,21 * 1,2,3,4,5,6,7,8,9,10,11,12,13,14,15,16,17,18,19 * 20,21",
         "2 * 1 * 1,3,4,5,6,8,9,14,15,16,17,18 * 2,7,10,12,13 * 11",
         "10.0",
         "5317",
         "24",
         "40.77",
         "21",
         "18"
        ],
        [
         "26",
         "42.17 percent target mRNA inhibition",
         "Real-time PCR",
         "SSB gene",
         "Hepa1-6 cells",
         "Lipofectamine RNAiMAX",
         "AAAUCAUGGUGAAAUAAAAUU",
         "TATTTCACCATGATTTUU",
         "Inverted abasic* 2-Deoxy* 2-Methoxy",
         "5-phosphate ribose* Inverted abasic* 2-Deoxy* 2-Fluoro* 2-Methoxy",
         "1,21 * 1,2,3,4,5,6,7,8,9,10,11,12,13,14,15,16,17,18,19 * 20,21",
         "1 * 1 * 1,3,4,5,6,8,9,11,14,15,16 * 2,7,10,12,13 * 17,18",
         "10.0",
         "5316",
         "24",
         "42.17",
         "21",
         "18"
        ],
        [
         "27",
         "42.17 percent target mRNA inhibition",
         "Real-time PCR",
         "SSB gene",
         "Hepa1-6 cells",
         "Lipofectamine RNAiMAX",
         "AAAUCAUGGUGAAAUAAAAUU",
         "TATTTCACCATGATTTUU",
         "Inverted abasic* 2-Deoxy* 2-Methoxy",
         "5-phosphate ribose* Inverted abasic* 2-Deoxy* 2-Fluoro* 2-Methoxy",
         "1,21 * 1,2,3,4,5,6,7,8,9,10,11,12,13,14,15,16,17,18,19 * 20,21",
         "1 * 1 * 1,3,4,5,6,8,9,11,14,15,16 * 2,7,10,12,13 * 17,18",
         "10.0",
         "5316",
         "24",
         "42.17",
         "21",
         "18"
        ],
        [
         "28",
         "44.11 percent target mRNA inhibition",
         "Real-time PCR",
         "SSB gene",
         "Hepa1-6 cells",
         "Lipofectamine RNAiMAX",
         "AAAUCAUGGUGAAAUAAAAUU",
         "UAUUUCACCAUGAUUUUU",
         "Inverted abasic* 2-Deoxy* 2-Methoxy",
         "5-phosphate ribose* Inverted abasic* 2-Hydroxy* 2-Fluoro* 2-Methoxy",
         "1,21 * 1,2,3,4,5,6,7,8,9,10,11,12,13,14,15,16,17,18,19 * 20,21",
         "1 * 1 * 1,3,4,5,6,8,9,11,14,15,16 * 2,7,10,12,13 * 17,18",
         "10.0",
         "5315",
         "24",
         "44.11",
         "21",
         "18"
        ],
        [
         "29",
         "44.11 percent target mRNA inhibition",
         "Real-time PCR",
         "SSB gene",
         "Hepa1-6 cells",
         "Lipofectamine RNAiMAX",
         "AAAUCAUGGUGAAAUAAAAUU",
         "UAUUUCACCAUGAUUUUU",
         "Inverted abasic* 2-Deoxy* 2-Methoxy",
         "5-phosphate ribose* Inverted abasic* 2-Hydroxy* 2-Fluoro* 2-Methoxy",
         "1,21 * 1,2,3,4,5,6,7,8,9,10,11,12,13,14,15,16,17,18,19 * 20,21",
         "1 * 1 * 1,3,4,5,6,8,9,11,14,15,16 * 2,7,10,12,13 * 17,18",
         "10.0",
         "5315",
         "24",
         "44.11",
         "21",
         "18"
        ],
        [
         "30",
         "65.16 percent target mRNA inhibition",
         "Real-time PCR",
         "SSB gene",
         "Hepa1-6 cells",
         "Lipofectamine RNAiMAX",
         "AAAUCAUGGUGAAAUAAAAUU",
         "UAUUUCACCAUGAUUUUU",
         "Inverted abasic* 2-Deoxy* 2-Methoxy",
         "5-phosphate ribose* Inverted abasic* 2-Fluoro* 2-Methoxy",
         "1,21 * 1,2,3,4,5,6,7,8,9,10,11,12,13,14,15,16,17,18,19 * 20,21",
         "1 * 1 * 1,3,4,5,6,8,9,11,14,15,16 * 2,7,10,12,13,17,18",
         "10.0",
         "5314",
         "24",
         "65.16",
         "21",
         "18"
        ],
        [
         "31",
         "65.16 percent target mRNA inhibition",
         "Real-time PCR",
         "SSB gene",
         "Hepa1-6 cells",
         "Lipofectamine RNAiMAX",
         "AAAUCAUGGUGAAAUAAAAUU",
         "UAUUUCACCAUGAUUUUU",
         "Inverted abasic* 2-Deoxy* 2-Methoxy",
         "5-phosphate ribose* Inverted abasic* 2-Fluoro* 2-Methoxy",
         "1,21 * 1,2,3,4,5,6,7,8,9,10,11,12,13,14,15,16,17,18,19 * 20,21",
         "2 * 1 * 1,3,4,5,6,8,9,11,14,15,16 * 2,7,10,12,13,17,18",
         "10.0",
         "5314",
         "24",
         "65.16",
         "21",
         "18"
        ],
        [
         "32",
         "60.4 percent target mRNA inhibition",
         "Real-time PCR",
         "SSB gene",
         "Hepa1-6 cells",
         "Lipofectamine RNAiMAX",
         "AAAUCAUGGUGAAAUAAAAUU",
         "UAUUUCACCAUGAUUUUU",
         "Inverted abasic* 2-Deoxy* 2-Methoxy",
         "5-phosphate ribose* Inverted abasic* 2-Fluoro* 2-Deoxy* 2-Methoxy",
         "1,21 * 1,2,3,4,5,6,7,8,9,10,11,12,13,14,15,16,17,18,19 * 20,21",
         "1 * 1 * 1,3,4,5,6,8,9,11,14,15,16 * 2,7,10,12,13 * 17,18",
         "10.0",
         "5313",
         "24",
         "60.4",
         "21",
         "18"
        ],
        [
         "33",
         "60.4 percent target mRNA inhibition",
         "Real-time PCR",
         "SSB gene",
         "Hepa1-6 cells",
         "Lipofectamine RNAiMAX",
         "AAAUCAUGGUGAAAUAAAAUU",
         "UAUUUCACCAUGAUUUUU",
         "Inverted abasic* 2-Deoxy* 2-Methoxy",
         "5-phosphate ribose* Inverted abasic* 2-Fluoro* 2-Deoxy* 2-Methoxy",
         "1,21 * 1,2,3,4,5,6,7,8,9,10,11,12,13,14,15,16,17,18,19 * 20,21",
         "1 * 1 * 1,3,4,5,6,8,9,11,14,15,16 * 2,7,10,12,13 * 17,18",
         "10.0",
         "5313",
         "24",
         "60.4",
         "21",
         "18"
        ],
        [
         "34",
         "5.72 percent target mRNA inhibition",
         "Real-time PCR",
         "SSB gene",
         "Hepa1-6 cells",
         "Lipofectamine RNAiMAX",
         "AAAUCAUGGUGAAAUAAAAUU",
         "UAUUUCACCAUGAUUUUU",
         "Inverted abasic* 2-Deoxy* 2-Methoxy",
         "5-phosphate ribose* Inverted abasic* 2-Fluoro* 2-Hydroxy* 2-Methoxy",
         "1,21 * 1,2,3,4,5,6,7,8,9,10,11,12,13,14,15,16,17,18,19 * 20,21",
         "1 * 1 * 1,3,4,5,6,8,9,11,14,15,16 * 2,7,10,12,13 * 17,18",
         "10.0",
         "5312",
         "24",
         "5.72",
         "21",
         "18"
        ],
        [
         "35",
         "5.72 percent target mRNA inhibition",
         "Real-time PCR",
         "SSB gene",
         "Hepa1-6 cells",
         "Lipofectamine RNAiMAX",
         "AAAUCAUGGUGAAAUAAAAUU",
         "UAUUUCACCAUGAUUUUU",
         "Inverted abasic* 2-Deoxy* 2-Methoxy",
         "5-phosphate ribose* Inverted abasic* 2-Fluoro* 2-Hydroxy* 2-Methoxy",
         "1,21 * 1,2,3,4,5,6,7,8,9,10,11,12,13,14,15,16,17,18,19 * 20,21",
         "1 * 1 * 1,3,4,5,6,8,9,11,14,15,16 * 2,7,10,12,13 * 17,18",
         "10.0",
         "5312",
         "24",
         "5.72",
         "21",
         "18"
        ],
        [
         "36",
         "32.24 percent target mRNA inhibition",
         "Real-time PCR",
         "SSB gene",
         "Hepa1-6 cells",
         "Lipofectamine RNAiMAX",
         "AAAUCAUGGUGAAAUAAAAUU",
         "UAUUUCACCAUGAUUUUU",
         "Inverted abasic* 2-Deoxy* 2-Methoxy",
         "5-phosphate ribose* Inverted abasic* 2-Methoxy* 2-Hydroxy",
         "1,21 * 1,2,3,4,5,6,7,8,9,10,11,12,13,14,15,16,17,18,19 * 20,21",
         "1 * 1 * 1,2,3,4,5,6,7,8,9,10,12,13,14,15,16,17,18 * 11",
         "10.0",
         "5311",
         "24",
         "32.24",
         "21",
         "18"
        ],
        [
         "37",
         "32.24 percent target mRNA inhibition",
         "Real-time PCR",
         "SSB gene",
         "Hepa1-6 cells",
         "Lipofectamine RNAiMAX",
         "AAAUCAUGGUGAAAUAAAAUU",
         "UAUUUCACCAUGAUUUUU",
         "Inverted abasic* 2-Deoxy* 2-Methoxy",
         "5-phosphate ribose* Inverted abasic* 2-Methoxy* 2-Hydroxy",
         "1,21 * 1,2,3,4,5,6,7,8,9,10,11,12,13,14,15,16,17,18,19 * 20,21",
         "2 * 1 * 1,2,3,4,5,6,7,8,9,10,12,13,14,15,16,17,18 * 11",
         "10.0",
         "5311",
         "24",
         "32.24",
         "21",
         "18"
        ],
        [
         "38",
         "64.71 percent target mRNA inhibition",
         "Real-time PCR",
         "SSB gene",
         "Hepa1-6 cells",
         "Lipofectamine RNAiMAX",
         "AAAUCAUGGUGAAAUAAAAUU",
         "UAUUUCACCAUGAUUUUU",
         "Inverted abasic* 2-Deoxy* 2-Methoxy",
         "5-phosphate ribose* Inverted abasic* 2-Fluoro* 2-Methoxy",
         "1,21 * 1,2,3,4,5,6,7,8,9,10,11,12,13,14,15,16,17,18,19 * 20,21",
         "1 * 1 * 1,2,3,4,5,6,7,8,9,10,11,12,13,14,15,16 * 17,18",
         "10.0",
         "5310",
         "24",
         "64.71",
         "21",
         "18"
        ],
        [
         "39",
         "64.71 percent target mRNA inhibition",
         "Real-time PCR",
         "SSB gene",
         "Hepa1-6 cells",
         "Lipofectamine RNAiMAX",
         "AAAUCAUGGUGAAAUAAAAUU",
         "UAUUUCACCAUGAUUUUU",
         "Inverted abasic* 2-Deoxy* 2-Methoxy",
         "5-phosphate ribose* Inverted abasic* 2-Fluoro* 2-Methoxy",
         "1,21 * 1,2,3,4,5,6,7,8,9,10,11,12,13,14,15,16,17,18,19 * 20,21",
         "1 * 1 * 1,2,3,4,5,6,7,8,9,10,11,12,13,14,15,16 * 17,18",
         "10.0",
         "5310",
         "24",
         "64.71",
         "21",
         "18"
        ],
        [
         "40",
         "26.16 percent target mRNA inhibition",
         "Real-time PCR",
         "SSB gene",
         "Hepa1-6 cells",
         "Lipofectamine RNAiMAX",
         "AAAUCAUGGUGAAAUAAAAUU",
         "TATTTCACCATGATTTUU",
         "Inverted abasic* 2-Deoxy* 2-Methoxy",
         "5-phosphate ribose* Inverted abasic* 2-Deoxy* 2-Methoxy",
         "1,21 * 1,2,3,4,5,6,7,8,9,10,11,12,13,14,15,16,17,18,19 * 20,21",
         "1 * 1 * 1,2,3,4,5,6,7,8,9,10,11,12,13,14,15,16 * 17,18",
         "10.0",
         "5309",
         "24",
         "26.16",
         "21",
         "18"
        ],
        [
         "41",
         "26.16 percent target mRNA inhibition",
         "Real-time PCR",
         "SSB gene",
         "Hepa1-6 cells",
         "Lipofectamine RNAiMAX",
         "AAAUCAUGGUGAAAUAAAAUU",
         "TATTTCACCATGATTTUU",
         "Inverted abasic* 2-Deoxy* 2-Methoxy",
         "5-phosphate ribose* Inverted abasic* 2-Deoxy* 2-Methoxy",
         "1,21 * 1,2,3,4,5,6,7,8,9,10,11,12,13,14,15,16,17,18,19 * 20,21",
         "1 * 1 * 1,2,3,4,5,6,7,8,9,10,11,12,13,14,15,16 * 17,18",
         "10.0",
         "5309",
         "24",
         "26.16",
         "21",
         "18"
        ],
        [
         "42",
         "39.8 percent target mRNA inhibition",
         "Real-time PCR",
         "SSB gene",
         "Hepa1-6 cells",
         "Lipofectamine RNAiMAX",
         "AAAUCAUGGUGAAAUAAAAUU",
         "UAUUUCACCAUGAUUUUU",
         "Inverted abasic* 2-Deoxy* 2-Methoxy",
         "5-phosphate ribose* Inverted abasic* 2-Hydroxy* 2-Methoxy",
         "1,21 * 1,2,3,4,5,6,7,8,9,10,11,12,13,14,15,16,17,18,19 * 20,21",
         "1 * 1 * 1,2,3,4,5,6,7,8,9,10,11,12,13,14,15,16 * 17,18",
         "10.0",
         "5308",
         "24",
         "39.8",
         "21",
         "18"
        ],
        [
         "43",
         "39.8 percent target mRNA inhibition",
         "Real-time PCR",
         "SSB gene",
         "Hepa1-6 cells",
         "Lipofectamine RNAiMAX",
         "AAAUCAUGGUGAAAUAAAAUU",
         "UAUUUCACCAUGAUUUUU",
         "Inverted abasic* 2-Deoxy* 2-Methoxy",
         "5-phosphate ribose* Inverted abasic* 2-Hydroxy* 2-Methoxy",
         "1,21 * 1,2,3,4,5,6,7,8,9,10,11,12,13,14,15,16,17,18,19 * 20,21",
         "1 * 1 * 1,2,3,4,5,6,7,8,9,10,11,12,13,14,15,16 * 17,18",
         "10.0",
         "5308",
         "24",
         "39.8",
         "21",
         "18"
        ],
        [
         "44",
         "87.07 percent target mRNA inhibition",
         "Real-time PCR",
         "SSB gene",
         "Hepa1-6 cells",
         "Lipofectamine RNAiMAX",
         "AAAUCAUGGUGAAAUAAAAUU",
         "UUUUAUUUCACCAUGAUUUUU",
         "Inverted abasic* 2-Deoxy* 2-Methoxy",
         "2-Methoxy* 2-Fluoro* 2-Hydroxy",
         "1,21 * 1,2,3,4,5,6,7,8,9,10,11,12,13,14,15,16,17,18,19 * 20,21",
         "1,2,3,4,6,7,8,9,11,12,17,18,19,20,21 * 5,10,13,15,16 * 14",
         "10.0",
         "5307",
         "24",
         "87.07",
         "21",
         "21"
        ],
        [
         "45",
         "87.07 percent target mRNA inhibition",
         "Real-time PCR",
         "SSB gene",
         "Hepa1-6 cells",
         "Lipofectamine RNAiMAX",
         "AAAUCAUGGUGAAAUAAAAUU",
         "UUUUAUUUCACCAUGAUUUUU",
         "Inverted abasic* 2-Deoxy* 2-Methoxy",
         "2-Methoxy* 2-Fluoro* 2-Hydroxy",
         "1,21 * 1,2,3,4,5,6,7,8,9,10,11,12,13,14,15,16,17,18,19 * 20,21",
         "1,2,3,4,6,7,8,9,11,12,17,18,19,20,21 * 5,10,13,15,16 * 15",
         "10.0",
         "5307",
         "24",
         "87.07",
         "21",
         "21"
        ],
        [
         "46",
         "74.7 percent target mRNA inhibition",
         "Real-time PCR",
         "SSB gene",
         "Hepa1-6 cells",
         "Lipofectamine RNAiMAX",
         "AAAUCAUGGUGAAAUAAAAUU",
         "TTTTATTTCACCATGATTTUU",
         "Inverted abasic* 2-Deoxy* 2-Methoxy",
         "2-Deoxy* 2-Fluoro* 2-Methoxy",
         "1,21 * 1,2,3,4,5,6,7,8,9,10,11,12,13,14,15,16,17,18,19 * 20,21",
         "1,2,3,4,6,7,8,9,11,12,14,17,18,19 * 5,10,13,15,16 * 20,21",
         "10.0",
         "5306",
         "24",
         "74.7",
         "21",
         "21"
        ],
        [
         "47",
         "74.7 percent target mRNA inhibition",
         "Real-time PCR",
         "SSB gene",
         "Hepa1-6 cells",
         "Lipofectamine RNAiMAX",
         "AAAUCAUGGUGAAAUAAAAUU",
         "TTTTATTTCACCATGATTTUU",
         "Inverted abasic* 2-Deoxy* 2-Methoxy",
         "2-Deoxy* 2-Fluoro* 2-Methoxy",
         "1,21 * 1,2,3,4,5,6,7,8,9,10,11,12,13,14,15,16,17,18,19 * 20,21",
         "1,2,3,4,6,7,8,9,11,12,14,17,18,19 * 5,10,13,15,16 * 20,21",
         "10.0",
         "5306",
         "24",
         "74.7",
         "21",
         "21"
        ],
        [
         "48",
         "93.72 percent target mRNA inhibition",
         "Real-time PCR",
         "SSB gene",
         "Hepa1-6 cells",
         "Lipofectamine RNAiMAX",
         "AAAUCAUGGUGAAAUAAAAUU",
         "UUUUAUUUCACCAUGAUUUUU",
         "Inverted abasic* 2-Deoxy* 2-Methoxy",
         "2-Hydroxy* 2-Fluoro* 2-Methoxy",
         "1,21 * 1,2,3,4,5,6,7,8,9,10,11,12,13,14,15,16,17,18,19 * 20,21",
         "1,2,3,4,6,7,8,9,11,12,14,17,18,19 * 5,10,13,15,16 * 20,21",
         "10.0",
         "5305",
         "24",
         "93.72",
         "21",
         "21"
        ],
        [
         "49",
         "93.72 percent target mRNA inhibition",
         "Real-time PCR",
         "SSB gene",
         "Hepa1-6 cells",
         "Lipofectamine RNAiMAX",
         "AAAUCAUGGUGAAAUAAAAUU",
         "UUUUAUUUCACCAUGAUUUUU",
         "Inverted abasic* 2-Deoxy* 2-Methoxy",
         "2-Hydroxy* 2-Fluoro* 2-Methoxy",
         "1,21 * 1,2,3,4,5,6,7,8,9,10,11,12,13,14,15,16,17,18,19 * 20,21",
         "1,2,3,4,6,7,8,9,11,12,14,17,18,19 * 5,10,13,15,16 * 20,21",
         "10.0",
         "5305",
         "24",
         "93.72",
         "21",
         "21"
        ]
       ],
       "shape": {
        "columns": 17,
        "rows": 4441
       }
      },
      "text/html": [
       "<div>\n",
       "<style scoped>\n",
       "    .dataframe tbody tr th:only-of-type {\n",
       "        vertical-align: middle;\n",
       "    }\n",
       "\n",
       "    .dataframe tbody tr th {\n",
       "        vertical-align: top;\n",
       "    }\n",
       "\n",
       "    .dataframe thead th {\n",
       "        text-align: right;\n",
       "    }\n",
       "</style>\n",
       "<table border=\"1\" class=\"dataframe\">\n",
       "  <thead>\n",
       "    <tr style=\"text-align: right;\">\n",
       "      <th></th>\n",
       "      <th>Efficacy</th>\n",
       "      <th>Experiment used to check activity</th>\n",
       "      <th>Target gene</th>\n",
       "      <th>Cell or Organism used</th>\n",
       "      <th>Transfection method</th>\n",
       "      <th>siRNA sense</th>\n",
       "      <th>siRNA antisense</th>\n",
       "      <th>Modification sense</th>\n",
       "      <th>Modification antisense</th>\n",
       "      <th>Position sense</th>\n",
       "      <th>Position antisense</th>\n",
       "      <th>Concentration new</th>\n",
       "      <th>id_</th>\n",
       "      <th>Duration after transfection new</th>\n",
       "      <th>Efficacy_correct</th>\n",
       "      <th>siRNA sense_length</th>\n",
       "      <th>siRNA antisense_length</th>\n",
       "    </tr>\n",
       "  </thead>\n",
       "  <tbody>\n",
       "    <tr>\n",
       "      <th>0</th>\n",
       "      <td>EC-50 = 0.02 nM for target mRNA</td>\n",
       "      <td>Real-time quantitative PCR</td>\n",
       "      <td>SSB gene</td>\n",
       "      <td>Hepa1-6 cells</td>\n",
       "      <td>Lipofectamine RNAiMax</td>\n",
       "      <td>AAAUCAUGGUGAAAUAAAAUU</td>\n",
       "      <td>UUUUAUUUCACCAUGAUUUUU</td>\n",
       "      <td>Inverted abasic* 2-Methoxy</td>\n",
       "      <td>5-phosphate ribose* 2-Methoxy</td>\n",
       "      <td>1,21 * 20,21</td>\n",
       "      <td>1 * 20,21</td>\n",
       "      <td>0.02</td>\n",
       "      <td>5329</td>\n",
       "      <td>24</td>\n",
       "      <td>50.0</td>\n",
       "      <td>21</td>\n",
       "      <td>21</td>\n",
       "    </tr>\n",
       "    <tr>\n",
       "      <th>1</th>\n",
       "      <td>EC-50 = 0.02 nM for target mRNA</td>\n",
       "      <td>Real-time quantitative PCR</td>\n",
       "      <td>SSB gene</td>\n",
       "      <td>Hepa1-6 cells</td>\n",
       "      <td>Lipofectamine RNAiMax</td>\n",
       "      <td>AAAUCAUGGUGAAAUAAAAUU</td>\n",
       "      <td>UUUUAUUUCACCAUGAUUUUU</td>\n",
       "      <td>Inverted abasic* 2-Methoxy</td>\n",
       "      <td>5-phosphate ribose* 2-Methoxy</td>\n",
       "      <td>1,21 * 20,21</td>\n",
       "      <td>1 * 20,21</td>\n",
       "      <td>0.02</td>\n",
       "      <td>5329</td>\n",
       "      <td>24</td>\n",
       "      <td>50.0</td>\n",
       "      <td>21</td>\n",
       "      <td>21</td>\n",
       "    </tr>\n",
       "    <tr>\n",
       "      <th>2</th>\n",
       "      <td>EC-50 = 0.6 nM for target mRNA</td>\n",
       "      <td>Real-time quantitative PCR</td>\n",
       "      <td>Luciferase gene</td>\n",
       "      <td>Hepa1-6 cells</td>\n",
       "      <td>Lipofectamine RNAiMax</td>\n",
       "      <td>AUAAGGCUAUGAAGAGAUATT</td>\n",
       "      <td>UAUCUCUUCAUAGCCUUAUTT</td>\n",
       "      <td>Inverted abasic* 2-Deoxy</td>\n",
       "      <td>5-phosphate ribose* 2-Deoxy</td>\n",
       "      <td>1,21 * 20,21</td>\n",
       "      <td>1 * 20,21</td>\n",
       "      <td>0.60</td>\n",
       "      <td>5328</td>\n",
       "      <td>24</td>\n",
       "      <td>50.0</td>\n",
       "      <td>21</td>\n",
       "      <td>21</td>\n",
       "    </tr>\n",
       "    <tr>\n",
       "      <th>3</th>\n",
       "      <td>EC-50 = 0.6 nM for target mRNA</td>\n",
       "      <td>Real-time quantitative PCR</td>\n",
       "      <td>Luciferase gene</td>\n",
       "      <td>Hepa1-6 cells</td>\n",
       "      <td>Lipofectamine RNAiMax</td>\n",
       "      <td>AUAAGGCUAUGAAGAGAUATT</td>\n",
       "      <td>UAUCUCUUCAUAGCCUUAUTT</td>\n",
       "      <td>Inverted abasic* 2-Deoxy</td>\n",
       "      <td>5-phosphate ribose* 2-Deoxy</td>\n",
       "      <td>1,21 * 20,21</td>\n",
       "      <td>1 * 20,21</td>\n",
       "      <td>0.60</td>\n",
       "      <td>5328</td>\n",
       "      <td>24</td>\n",
       "      <td>50.0</td>\n",
       "      <td>21</td>\n",
       "      <td>21</td>\n",
       "    </tr>\n",
       "    <tr>\n",
       "      <th>4</th>\n",
       "      <td>EC-50 = 0.14 nM for target mRNA</td>\n",
       "      <td>Real-time quantitative PCR</td>\n",
       "      <td>PHD3 gene</td>\n",
       "      <td>Hepa1-6 cells</td>\n",
       "      <td>Lipofectamine RNAiMax</td>\n",
       "      <td>CAGUCAGCAAAGACGUCUAUU</td>\n",
       "      <td>UAGACGUCUUUGCUGACUGUU</td>\n",
       "      <td>Inverted abasic* 2-Methoxy</td>\n",
       "      <td>5-phosphate ribose* 2-Methoxy</td>\n",
       "      <td>1,21 * 20,21</td>\n",
       "      <td>1 * 20,21</td>\n",
       "      <td>0.14</td>\n",
       "      <td>5327</td>\n",
       "      <td>24</td>\n",
       "      <td>50.0</td>\n",
       "      <td>21</td>\n",
       "      <td>21</td>\n",
       "    </tr>\n",
       "    <tr>\n",
       "      <th>...</th>\n",
       "      <td>...</td>\n",
       "      <td>...</td>\n",
       "      <td>...</td>\n",
       "      <td>...</td>\n",
       "      <td>...</td>\n",
       "      <td>...</td>\n",
       "      <td>...</td>\n",
       "      <td>...</td>\n",
       "      <td>...</td>\n",
       "      <td>...</td>\n",
       "      <td>...</td>\n",
       "      <td>...</td>\n",
       "      <td>...</td>\n",
       "      <td>...</td>\n",
       "      <td>...</td>\n",
       "      <td>...</td>\n",
       "      <td>...</td>\n",
       "    </tr>\n",
       "    <tr>\n",
       "      <th>4508</th>\n",
       "      <td>81.4 percent target mRNA inhibition</td>\n",
       "      <td>Luciferase reporter assay</td>\n",
       "      <td>EGFP gene</td>\n",
       "      <td>HeLa cells</td>\n",
       "      <td>Interfer (Polypus -Transfection)</td>\n",
       "      <td>GACGUAAACGGCCACAAGUUCT</td>\n",
       "      <td>ACUUGUGGCCGUUUACGUCGC</td>\n",
       "      <td>Altritol nucleic acid* 2-Deoxy</td>\n",
       "      <td>2-O-Methyl</td>\n",
       "      <td>1,2 * 22</td>\n",
       "      <td>2</td>\n",
       "      <td>10.00</td>\n",
       "      <td>5</td>\n",
       "      <td>72</td>\n",
       "      <td>81.4</td>\n",
       "      <td>22</td>\n",
       "      <td>21</td>\n",
       "    </tr>\n",
       "    <tr>\n",
       "      <th>4509</th>\n",
       "      <td>35.4 percent target mRNA inhibition</td>\n",
       "      <td>Luciferase reporter assay</td>\n",
       "      <td>EGFP gene</td>\n",
       "      <td>HeLa cells</td>\n",
       "      <td>Interfer (Polypus -Transfection)</td>\n",
       "      <td>GACGUAAACGGCCACAAGUUCT</td>\n",
       "      <td>ACUUGUGGCCGUUUACGUCGC</td>\n",
       "      <td>Hexitol nucleic acid</td>\n",
       "      <td>2-O-Methyl</td>\n",
       "      <td>5,8,14,17,22</td>\n",
       "      <td>2</td>\n",
       "      <td>10.00</td>\n",
       "      <td>4</td>\n",
       "      <td>72</td>\n",
       "      <td>35.4</td>\n",
       "      <td>22</td>\n",
       "      <td>21</td>\n",
       "    </tr>\n",
       "    <tr>\n",
       "      <th>4510</th>\n",
       "      <td>54.2 percent target mRNA inhibition</td>\n",
       "      <td>Luciferase reporter assay</td>\n",
       "      <td>EGFP gene</td>\n",
       "      <td>HeLa cells</td>\n",
       "      <td>Interfer (Polypus -Transfection)</td>\n",
       "      <td>GACGUAAACGGCCACAAGUUC</td>\n",
       "      <td>ACUUGUGGCCGUUUACGUCGC</td>\n",
       "      <td>Hexitol nucleic acid</td>\n",
       "      <td>2-O-Methyl</td>\n",
       "      <td>2,8,14,17</td>\n",
       "      <td>2</td>\n",
       "      <td>10.00</td>\n",
       "      <td>3</td>\n",
       "      <td>72</td>\n",
       "      <td>54.2</td>\n",
       "      <td>21</td>\n",
       "      <td>21</td>\n",
       "    </tr>\n",
       "    <tr>\n",
       "      <th>4511</th>\n",
       "      <td>76.8 percent target mRNA inhibition</td>\n",
       "      <td>Luciferase reporter assay</td>\n",
       "      <td>EGFP gene</td>\n",
       "      <td>HeLa cells</td>\n",
       "      <td>Interfer (Polypus -Transfection)</td>\n",
       "      <td>GACGUAAACGGCCACAAGUUC</td>\n",
       "      <td>ACUUGUGGCCGUUUACGUCGC</td>\n",
       "      <td>2-Guanidinoethyl</td>\n",
       "      <td>2-O-Methyl</td>\n",
       "      <td>18</td>\n",
       "      <td>2</td>\n",
       "      <td>10.00</td>\n",
       "      <td>2</td>\n",
       "      <td>72</td>\n",
       "      <td>76.8</td>\n",
       "      <td>21</td>\n",
       "      <td>21</td>\n",
       "    </tr>\n",
       "    <tr>\n",
       "      <th>4512</th>\n",
       "      <td>69.5 percent target mRNA inhibition</td>\n",
       "      <td>Luciferase reporter assay</td>\n",
       "      <td>EGFP gene</td>\n",
       "      <td>HeLa cells</td>\n",
       "      <td>Interfer (Polypus -Transfection)</td>\n",
       "      <td>GACGUAAACGGCCACAAGUUC</td>\n",
       "      <td>ACUUGUGGCCGUUUACGUCGC</td>\n",
       "      <td>2-Aminoethyl</td>\n",
       "      <td>2-O-Methyl</td>\n",
       "      <td>18</td>\n",
       "      <td>2</td>\n",
       "      <td>10.00</td>\n",
       "      <td>1</td>\n",
       "      <td>72</td>\n",
       "      <td>69.5</td>\n",
       "      <td>21</td>\n",
       "      <td>21</td>\n",
       "    </tr>\n",
       "  </tbody>\n",
       "</table>\n",
       "<p>4441 rows × 17 columns</p>\n",
       "</div>"
      ],
      "text/plain": [
       "                                 Efficacy Experiment used to check activity  \\\n",
       "0         EC-50 = 0.02 nM for target mRNA        Real-time quantitative PCR   \n",
       "1         EC-50 = 0.02 nM for target mRNA        Real-time quantitative PCR   \n",
       "2          EC-50 = 0.6 nM for target mRNA        Real-time quantitative PCR   \n",
       "3          EC-50 = 0.6 nM for target mRNA        Real-time quantitative PCR   \n",
       "4         EC-50 = 0.14 nM for target mRNA        Real-time quantitative PCR   \n",
       "...                                   ...                               ...   \n",
       "4508  81.4 percent target mRNA inhibition         Luciferase reporter assay   \n",
       "4509  35.4 percent target mRNA inhibition         Luciferase reporter assay   \n",
       "4510  54.2 percent target mRNA inhibition         Luciferase reporter assay   \n",
       "4511  76.8 percent target mRNA inhibition         Luciferase reporter assay   \n",
       "4512  69.5 percent target mRNA inhibition         Luciferase reporter assay   \n",
       "\n",
       "          Target gene Cell or Organism used               Transfection method  \\\n",
       "0            SSB gene         Hepa1-6 cells             Lipofectamine RNAiMax   \n",
       "1            SSB gene         Hepa1-6 cells             Lipofectamine RNAiMax   \n",
       "2     Luciferase gene         Hepa1-6 cells             Lipofectamine RNAiMax   \n",
       "3     Luciferase gene         Hepa1-6 cells             Lipofectamine RNAiMax   \n",
       "4           PHD3 gene         Hepa1-6 cells             Lipofectamine RNAiMax   \n",
       "...               ...                   ...                               ...   \n",
       "4508        EGFP gene            HeLa cells  Interfer (Polypus -Transfection)   \n",
       "4509        EGFP gene            HeLa cells  Interfer (Polypus -Transfection)   \n",
       "4510        EGFP gene            HeLa cells  Interfer (Polypus -Transfection)   \n",
       "4511        EGFP gene            HeLa cells  Interfer (Polypus -Transfection)   \n",
       "4512        EGFP gene            HeLa cells  Interfer (Polypus -Transfection)   \n",
       "\n",
       "                 siRNA sense        siRNA antisense  \\\n",
       "0      AAAUCAUGGUGAAAUAAAAUU  UUUUAUUUCACCAUGAUUUUU   \n",
       "1      AAAUCAUGGUGAAAUAAAAUU  UUUUAUUUCACCAUGAUUUUU   \n",
       "2      AUAAGGCUAUGAAGAGAUATT  UAUCUCUUCAUAGCCUUAUTT   \n",
       "3      AUAAGGCUAUGAAGAGAUATT  UAUCUCUUCAUAGCCUUAUTT   \n",
       "4      CAGUCAGCAAAGACGUCUAUU  UAGACGUCUUUGCUGACUGUU   \n",
       "...                      ...                    ...   \n",
       "4508  GACGUAAACGGCCACAAGUUCT  ACUUGUGGCCGUUUACGUCGC   \n",
       "4509  GACGUAAACGGCCACAAGUUCT  ACUUGUGGCCGUUUACGUCGC   \n",
       "4510   GACGUAAACGGCCACAAGUUC  ACUUGUGGCCGUUUACGUCGC   \n",
       "4511   GACGUAAACGGCCACAAGUUC  ACUUGUGGCCGUUUACGUCGC   \n",
       "4512   GACGUAAACGGCCACAAGUUC  ACUUGUGGCCGUUUACGUCGC   \n",
       "\n",
       "                  Modification sense         Modification antisense  \\\n",
       "0         Inverted abasic* 2-Methoxy  5-phosphate ribose* 2-Methoxy   \n",
       "1         Inverted abasic* 2-Methoxy  5-phosphate ribose* 2-Methoxy   \n",
       "2           Inverted abasic* 2-Deoxy    5-phosphate ribose* 2-Deoxy   \n",
       "3           Inverted abasic* 2-Deoxy    5-phosphate ribose* 2-Deoxy   \n",
       "4         Inverted abasic* 2-Methoxy  5-phosphate ribose* 2-Methoxy   \n",
       "...                              ...                            ...   \n",
       "4508  Altritol nucleic acid* 2-Deoxy                     2-O-Methyl   \n",
       "4509            Hexitol nucleic acid                     2-O-Methyl   \n",
       "4510            Hexitol nucleic acid                     2-O-Methyl   \n",
       "4511                2-Guanidinoethyl                     2-O-Methyl   \n",
       "4512                    2-Aminoethyl                     2-O-Methyl   \n",
       "\n",
       "     Position sense Position antisense  Concentration new   id_  \\\n",
       "0      1,21 * 20,21          1 * 20,21               0.02  5329   \n",
       "1      1,21 * 20,21          1 * 20,21               0.02  5329   \n",
       "2      1,21 * 20,21          1 * 20,21               0.60  5328   \n",
       "3      1,21 * 20,21          1 * 20,21               0.60  5328   \n",
       "4      1,21 * 20,21          1 * 20,21               0.14  5327   \n",
       "...             ...                ...                ...   ...   \n",
       "4508       1,2 * 22                  2              10.00     5   \n",
       "4509   5,8,14,17,22                  2              10.00     4   \n",
       "4510      2,8,14,17                  2              10.00     3   \n",
       "4511             18                  2              10.00     2   \n",
       "4512             18                  2              10.00     1   \n",
       "\n",
       "      Duration after transfection new  Efficacy_correct  siRNA sense_length  \\\n",
       "0                                  24              50.0                  21   \n",
       "1                                  24              50.0                  21   \n",
       "2                                  24              50.0                  21   \n",
       "3                                  24              50.0                  21   \n",
       "4                                  24              50.0                  21   \n",
       "...                               ...               ...                 ...   \n",
       "4508                               72              81.4                  22   \n",
       "4509                               72              35.4                  22   \n",
       "4510                               72              54.2                  21   \n",
       "4511                               72              76.8                  21   \n",
       "4512                               72              69.5                  21   \n",
       "\n",
       "      siRNA antisense_length  \n",
       "0                         21  \n",
       "1                         21  \n",
       "2                         21  \n",
       "3                         21  \n",
       "4                         21  \n",
       "...                      ...  \n",
       "4508                      21  \n",
       "4509                      21  \n",
       "4510                      21  \n",
       "4511                      21  \n",
       "4512                      21  \n",
       "\n",
       "[4441 rows x 17 columns]"
      ]
     },
     "execution_count": 15,
     "metadata": {},
     "output_type": "execute_result"
    }
   ],
   "source": [
    "df_clean"
   ]
  },
  {
   "cell_type": "markdown",
   "id": "41bd780e",
   "metadata": {},
   "source": [
    "Непрерывные величины не имеют между собой корреляций"
   ]
  },
  {
   "cell_type": "markdown",
   "id": "968f3b45",
   "metadata": {},
   "source": [
    "## Дальнейшая работа"
   ]
  },
  {
   "cell_type": "markdown",
   "id": "a28526f8",
   "metadata": {},
   "source": [
    "Подразумевается расчет GC состава сиквенсов, анализ модификаций и их количества, оценка влияния количества модификаций на эффективность, исключение выбросов в столбце эффективности и унификация значений категориальных переменных.\n",
    "Столбцы подготовлены к дальнейшей работе, пропусков нет, нанов нет"
   ]
  },
  {
   "cell_type": "markdown",
   "id": "408ac767",
   "metadata": {},
   "source": [
    "## Домашка по графикам"
   ]
  },
  {
   "cell_type": "code",
   "execution_count": 16,
   "id": "3aa334ef",
   "metadata": {},
   "outputs": [
    {
     "name": "stderr",
     "output_type": "stream",
     "text": [
      "/var/folders/hw/l7gm4y8556574kh3rvw2750m0000gn/T/ipykernel_63617/149496962.py:12: MatplotlibDeprecationWarning: The 'labels' parameter of boxplot() has been renamed 'tick_labels' since Matplotlib 3.9; support for the old name will be dropped in 3.11.\n",
      "  box_plot = plt.boxplot(data_to_plot, labels=labels, patch_artist=True)\n"
     ]
    },
    {
     "data": {
      "image/png": "[encoded data removed]",
      "text/plain": [
       "<Figure size 1000x600 with 1 Axes>"
      ]
     },
     "metadata": {},
     "output_type": "display_data"
    }
   ],
   "source": [
    "def plot_all_lengths_boxplot(df, length_columns, figsize=(10, 6)):\n",
    "    \"\"\"\n",
    "    Строит один boxplot для всех столбцов длины строк\n",
    "    \"\"\"\n",
    "    light_blue = '#87CEEB'\n",
    "    \n",
    "    # Подготовка данных для boxplot\n",
    "    data_to_plot = [df[col].dropna() for col in length_columns]\n",
    "    labels = [col.replace('_length', '') for col in length_columns]\n",
    "    \n",
    "    plt.figure(figsize=figsize)\n",
    "    box_plot = plt.boxplot(data_to_plot, labels=labels, patch_artist=True)\n",
    "    \n",
    "    # Задаем цвет для boxplot\n",
    "    for patch in box_plot['boxes']:\n",
    "        patch.set_facecolor(light_blue)\n",
    "        patch.set_alpha(0.7)\n",
    "    \n",
    "    plt.title('Распределение длин сиквенсов', fontsize=14)\n",
    "    plt.ylabel('Длина сиквенса')\n",
    "\n",
    "    plt.grid(True, alpha=0.3)\n",
    "    plt.xticks(rotation=45)\n",
    "    plt.tight_layout()\n",
    "    plt.show()\n",
    "\n",
    "\n",
    "plot_all_lengths_boxplot(df_clean, ['siRNA sense_length', 'siRNA antisense_length'])"
   ]
  },
  {
   "cell_type": "code",
   "execution_count": 17,
   "id": "621a484a",
   "metadata": {},
   "outputs": [
    {
     "data": {
      "image/png": "[encoded data removed]",
      "text/plain": [
       "<Figure size 1200x600 with 1 Axes>"
      ]
     },
     "metadata": {},
     "output_type": "display_data"
    }
   ],
   "source": [
    "def plot_all_lengths_violin(df, length_columns, figsize=(12, 6)):\n",
    "    \"\"\"\n",
    "    Строит violin plot для всех столбцов длины строк\n",
    "    \"\"\"\n",
    "    import seaborn as sns\n",
    "    \n",
    "    # Подготовка данных\n",
    "    plot_data = []\n",
    "    for col in length_columns:\n",
    "        for value in df[col].dropna():\n",
    "            plot_data.append({\n",
    "                'parameter': col.replace('_length', ''),\n",
    "                'length': value\n",
    "            })\n",
    "    \n",
    "    plot_df = pd.DataFrame(plot_data)\n",
    "    \n",
    "    plt.figure(figsize=figsize)\n",
    "    sns.violinplot(data=plot_df, x='parameter', y='length', color='#87CEEB')\n",
    "    plt.title('Распределение длин сиквенсов (Violin Plot)', fontsize=14)\n",
    "    plt.ylabel('Длина сиквенса')\n",
    "    plt.xlabel('')\n",
    "    plt.grid(True, alpha=0.3)\n",
    "    plt.xticks(rotation=45)\n",
    "    plt.tight_layout()\n",
    "    plt.show()\n",
    "\n",
    "\n",
    "plot_all_lengths_violin(df_clean, ['siRNA sense_length', 'siRNA antisense_length'])"
   ]
  },
  {
   "cell_type": "code",
   "execution_count": 18,
   "id": "2e83a7bc",
   "metadata": {},
   "outputs": [
    {
     "data": {
      "image/png": "[encoded data removed]",
      "text/plain": [
       "<Figure size 1500x1000 with 6 Axes>"
      ]
     },
     "metadata": {},
     "output_type": "display_data"
    }
   ],
   "source": [
    "def plot_all_pies_one_figure(df, columns_list, top_n=4, figsize=(15, 10)):\n",
    "    \"\"\"\n",
    "    Все pie charts на одном рисунке\n",
    "    \"\"\"\n",
    "    n = len(columns_list)\n",
    "    n_cols = min(n, 3)  \n",
    "    n_rows = (n + n_cols - 1) // n_cols\n",
    "    \n",
    "    fig, axes = plt.subplots(n_rows, n_cols, figsize=figsize)\n",
    "    \n",
    "\n",
    "    if n_rows > 1 and n_cols > 1:\n",
    "        axes = axes.flatten()\n",
    "    elif n_rows == 1 and n_cols > 1:\n",
    "        axes = axes\n",
    "    else:\n",
    "        axes = [axes]\n",
    "    \n",
    "    colors = ['#FF9999', '#66B2FF', '#99FF99', '#FFD700', '#C0C0C0']\n",
    "    \n",
    "    for i, col in enumerate(columns_list):\n",
    "        if i >= len(axes):\n",
    "            break\n",
    "            \n",
    "        if col not in df.columns:\n",
    "            axes[i].text(0.5, 0.5, f'Столбец\\n{col}\\nне найден', \n",
    "                        ha='center', va='center', transform=axes[i].transAxes)\n",
    "            axes[i].set_title(col)\n",
    "            continue\n",
    "        \n",
    "        value_counts = df[col].value_counts()\n",
    "        \n",
    "        # Обрабатываем данные\n",
    "        if len(value_counts) > top_n:\n",
    "            data = value_counts.head(top_n)\n",
    "            data['Остальные'] = value_counts[top_n:].sum()\n",
    "        else:\n",
    "            data = value_counts\n",
    "        \n",
    "        # Строим pie chart\n",
    "        axes[i].pie(data.values, labels=data.index, autopct='%1.1f%%', colors=colors[:len(data)])\n",
    "        axes[i].set_title(col)\n",
    "    \n",
    "    # Скрываем пустые subplots\n",
    "    for i in range(len(columns_list), len(axes)):\n",
    "        axes[i].set_visible(False)\n",
    "    \n",
    "    plt.tight_layout()\n",
    "    plt.show()\n",
    "\n",
    "# Использование\n",
    "plot_all_pies_one_figure(df_clean, ['Experiment used to check activity', 'Target gene', 'Cell or Organism used', 'Transfection method'])"
   ]
  },
  {
   "cell_type": "code",
   "execution_count": 19,
   "id": "cdba482c",
   "metadata": {},
   "outputs": [
    {
     "data": {
      "image/png": "[encoded data removed]",
      "text/plain": [
       "<Figure size 2000x500 with 4 Axes>"
      ]
     },
     "metadata": {},
     "output_type": "display_data"
    }
   ],
   "source": [
    "import seaborn as sns\n",
    "def simple_seaborn_plots(df, columns_list, top_n=5):\n",
    "    \"\"\"\n",
    "    Самая простая версия с seaborn\n",
    "    \"\"\"\n",
    "    n = len(columns_list)\n",
    "    fig, axes = plt.subplots(1, n, figsize=(5*n, 5))\n",
    "    \n",
    "    if n == 1:\n",
    "        axes = [axes]\n",
    "    \n",
    "    for i, col in enumerate(columns_list):\n",
    "        if col in df.columns:\n",
    "            # Ограничиваем категории\n",
    "            data = df[col].copy()\n",
    "            value_counts = data.value_counts()\n",
    "            \n",
    "            if len(value_counts) > top_n:\n",
    "                top_categories = value_counts.head(top_n).index\n",
    "                data = data.where(data.isin(top_categories), 'Остальные')\n",
    "            \n",
    "            # Countplot\n",
    "            sns.countplot(x=data, ax=axes[i], color='#87CEEB')\n",
    "            axes[i].set_title(col)\n",
    "            axes[i].tick_params(axis='x', rotation=30)\n",
    "        else:\n",
    "            axes[i].text(0.5, 0.5, 'Not found', ha='center', va='center')\n",
    "            axes[i].set_title(col)\n",
    "    \n",
    "    plt.tight_layout()\n",
    "    plt.show()\n",
    "\n",
    "# Использование\n",
    "simple_seaborn_plots(df_clean, ['Experiment used to check activity', 'Target gene', 'Cell or Organism used', 'Transfection method'])"
   ]
  },
  {
   "cell_type": "code",
   "execution_count": 20,
   "id": "0e5ed80f",
   "metadata": {},
   "outputs": [
    {
     "data": {
      "image/png": "[encoded data removed]",
      "text/plain": [
       "<Figure size 1500x1000 with 1 Axes>"
      ]
     },
     "metadata": {},
     "output_type": "display_data"
    }
   ],
   "source": [
    "fig, ax = plt.subplots(nrows=1, ncols=1, figsize = (15, 10), sharex=False, sharey=False)\n",
    "\n",
    "x = str(f'Efficacy_correct')\n",
    "\n",
    "    # Гистограмма\n",
    "variable = df_clean[x].fillna(df_clean[x].mean())\n",
    "sns.histplot(variable, kde=False, alpha = .5, bins=30, binwidth = 5)\n",
    "des = df_clean[x].describe()\n",
    "ax.axvline(des[\"25%\"], ls='--')\n",
    "ax.axvline(des[\"mean\"], ls='--')\n",
    "ax.axvline(des[\"75%\"], ls='--')\n",
    "ax.grid(False)\n",
    "\n",
    "ax.tick_params(axis='both', labelsize=23)\n",
    "    # Бокс-плот \n",
    "ax_inset = plt.gca().inset_axes([0., 0.6, 0.34, 0.4])\n",
    "\n",
    "sns.boxplot(df[f'Efficacy_correct'], ax=ax_inset, boxprops=dict(alpha=.5))\n",
    "ax_inset.set_ylim(0, 100)\n",
    "ax_inset.set_yticks(np.arange(0, 101, 20))  # 0, 20, 40, 60, 80, 100\n",
    "ax_inset.set_yticklabels(['0', '20', '40', '60', '80', '100'], fontsize=14)\n",
    "ax_inset.yaxis.set_label_position(\"right\")\n",
    "ax_inset.yaxis.tick_right()\n",
    "ax_inset.set_ylabel(f'', fontsize=19)\n",
    "ax_inset.grid(False)\n",
    "ax_inset.set_title(\"\")\n",
    "\n",
    "plt.title(f'')\n",
    "plt.xlabel('Efficacy' , fontsize=25)\n",
    "plt.ylabel('Frequency' , fontsize=25)\n",
    "\n",
    "plt.show()"
   ]
  },
  {
   "cell_type": "code",
   "execution_count": null,
   "id": "dc424433",
   "metadata": {},
   "outputs": [
    {
     "data": {
      "application/vnd.plotly.v1+json": {
       "config": {
        "plotlyServerURL": "https://plot.ly"
       },
       "data": [
        {
         "bingroup": "x",
         "hovertemplate": "variable=Efficacy_correct<br>value=%{x}<br>count=%{y}<extra></extra>",
         "legendgroup": "Efficacy_correct",
         "marker": {
          "color": "#636efa",
          "opacity": 0.7,
          "pattern": {
           "shape": ""
          }
         },
         "name": "Efficacy_correct",
         "nbinsx": 30,
         "orientation": "v",
         "showlegend": true,
         "type": "histogram",
         "x": {
          "bdata": "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",
          "dtype": "f8"
         },
         "xaxis": "x",
         "yaxis": "y"
        }
       ],
       "layout": {
        "annotations": [
         {
          "showarrow": false,
          "text": "25%",
          "x": 36.5,
          "xanchor": "left",
          "xref": "x",
          "y": 1,
          "yanchor": "top",
          "yref": "y domain"
         },
         {
          "showarrow": false,
          "text": "Среднее",
          "x": 57.209056518802065,
          "xanchor": "left",
          "xref": "x",
          "y": 1,
          "yanchor": "top",
          "yref": "y domain"
         },
         {
          "showarrow": false,
          "text": "75%",
          "x": 82.8,
          "xanchor": "left",
          "xref": "x",
          "y": 1,
          "yanchor": "top",
          "yref": "y domain"
         }
        ],
        "barmode": "relative",
        "height": 600,
        "legend": {
         "title": {
          "text": "variable"
         },
         "tracegroupgap": 0
        },
        "shapes": [
         {
          "line": {
           "color": "red",
           "dash": "dash"
          },
          "type": "line",
          "x0": 36.5,
          "x1": 36.5,
          "xref": "x",
          "y0": 0,
          "y1": 1,
          "yref": "y domain"
         },
         {
          "line": {
           "color": "green",
           "dash": "dash"
          },
          "type": "line",
          "x0": 57.209056518802065,
          "x1": 57.209056518802065,
          "xref": "x",
          "y0": 0,
          "y1": 1,
          "yref": "y domain"
         },
         {
          "line": {
           "color": "orange",
           "dash": "dash"
          },
          "type": "line",
          "x0": 82.8,
          "x1": 82.8,
          "xref": "x",
          "y0": 0,
          "y1": 1,
          "yref": "y domain"
         }
        ],
        "showlegend": true,
        "template": {
         "data": {
          "bar": [
           {
            "error_x": {
             "color": "#2a3f5f"
            },
            "error_y": {
             "color": "#2a3f5f"
            },
            "marker": {
             "line": {
              "color": "#E5ECF6",
              "width": 0.5
             },
             "pattern": {
              "fillmode": "overlay",
              "size": 10,
              "solidity": 0.2
             }
            },
            "type": "bar"
           }
          ],
          "barpolar": [
           {
            "marker": {
             "line": {
              "color": "#E5ECF6",
              "width": 0.5
             },
             "pattern": {
              "fillmode": "overlay",
              "size": 10,
              "solidity": 0.2
             }
            },
            "type": "barpolar"
           }
          ],
          "carpet": [
           {
            "aaxis": {
             "endlinecolor": "#2a3f5f",
             "gridcolor": "white",
             "linecolor": "white",
             "minorgridcolor": "white",
             "startlinecolor": "#2a3f5f"
            },
            "baxis": {
             "endlinecolor": "#2a3f5f",
             "gridcolor": "white",
             "linecolor": "white",
             "minorgridcolor": "white",
             "startlinecolor": "#2a3f5f"
            },
            "type": "carpet"
           }
          ],
          "choropleth": [
           {
            "colorbar": {
             "outlinewidth": 0,
             "ticks": ""
            },
            "type": "choropleth"
           }
          ],
          "contour": [
           {
            "colorbar": {
             "outlinewidth": 0,
             "ticks": ""
            },
            "colorscale": [
             [
              0,
              "#0d0887"
             ],
             [
              0.1111111111111111,
              "#46039f"
             ],
             [
              0.2222222222222222,
              "#7201a8"
             ],
             [
              0.3333333333333333,
              "#9c179e"
             ],
             [
              0.4444444444444444,
              "#bd3786"
             ],
             [
              0.5555555555555556,
              "#d8576b"
             ],
             [
              0.6666666666666666,
              "#ed7953"
             ],
             [
              0.7777777777777778,
              "#fb9f3a"
             ],
             [
              0.8888888888888888,
              "#fdca26"
             ],
             [
              1,
              "#f0f921"
             ]
            ],
            "type": "contour"
           }
          ],
          "contourcarpet": [
           {
            "colorbar": {
             "outlinewidth": 0,
             "ticks": ""
            },
            "type": "contourcarpet"
           }
          ],
          "heatmap": [
           {
            "colorbar": {
             "outlinewidth": 0,
             "ticks": ""
            },
            "colorscale": [
             [
              0,
              "#0d0887"
             ],
             [
              0.1111111111111111,
              "#46039f"
             ],
             [
              0.2222222222222222,
              "#7201a8"
             ],
             [
              0.3333333333333333,
              "#9c179e"
             ],
             [
              0.4444444444444444,
              "#bd3786"
             ],
             [
              0.5555555555555556,
              "#d8576b"
             ],
             [
              0.6666666666666666,
              "#ed7953"
             ],
             [
              0.7777777777777778,
              "#fb9f3a"
             ],
             [
              0.8888888888888888,
              "#fdca26"
             ],
             [
              1,
              "#f0f921"
             ]
            ],
            "type": "heatmap"
           }
          ],
          "histogram": [
           {
            "marker": {
             "pattern": {
              "fillmode": "overlay",
              "size": 10,
              "solidity": 0.2
             }
            },
            "type": "histogram"
           }
          ],
          "histogram2d": [
           {
            "colorbar": {
             "outlinewidth": 0,
             "ticks": ""
            },
            "colorscale": [
             [
              0,
              "#0d0887"
             ],
             [
              0.1111111111111111,
              "#46039f"
             ],
             [
              0.2222222222222222,
              "#7201a8"
             ],
             [
              0.3333333333333333,
              "#9c179e"
             ],
             [
              0.4444444444444444,
              "#bd3786"
             ],
             [
              0.5555555555555556,
              "#d8576b"
             ],
             [
              0.6666666666666666,
              "#ed7953"
             ],
             [
              0.7777777777777778,
              "#fb9f3a"
             ],
             [
              0.8888888888888888,
              "#fdca26"
             ],
             [
              1,
              "#f0f921"
             ]
            ],
            "type": "histogram2d"
           }
          ],
          "histogram2dcontour": [
           {
            "colorbar": {
             "outlinewidth": 0,
             "ticks": ""
            },
            "colorscale": [
             [
              0,
              "#0d0887"
             ],
             [
              0.1111111111111111,
              "#46039f"
             ],
             [
              0.2222222222222222,
              "#7201a8"
             ],
             [
              0.3333333333333333,
              "#9c179e"
             ],
             [
              0.4444444444444444,
              "#bd3786"
             ],
             [
              0.5555555555555556,
              "#d8576b"
             ],
             [
              0.6666666666666666,
              "#ed7953"
             ],
             [
              0.7777777777777778,
              "#fb9f3a"
             ],
             [
              0.8888888888888888,
              "#fdca26"
             ],
             [
              1,
              "#f0f921"
             ]
            ],
            "type": "histogram2dcontour"
           }
          ],
          "mesh3d": [
           {
            "colorbar": {
             "outlinewidth": 0,
             "ticks": ""
            },
            "type": "mesh3d"
           }
          ],
          "parcoords": [
           {
            "line": {
             "colorbar": {
              "outlinewidth": 0,
              "ticks": ""
             }
            },
            "type": "parcoords"
           }
          ],
          "pie": [
           {
            "automargin": true,
            "type": "pie"
           }
          ],
          "scatter": [
           {
            "fillpattern": {
             "fillmode": "overlay",
             "size": 10,
             "solidity": 0.2
            },
            "type": "scatter"
           }
          ],
          "scatter3d": [
           {
            "line": {
             "colorbar": {
              "outlinewidth": 0,
              "ticks": ""
             }
            },
            "marker": {
             "colorbar": {
              "outlinewidth": 0,
              "ticks": ""
             }
            },
            "type": "scatter3d"
           }
          ],
          "scattercarpet": [
           {
            "marker": {
             "colorbar": {
              "outlinewidth": 0,
              "ticks": ""
             }
            },
            "type": "scattercarpet"
           }
          ],
          "scattergeo": [
           {
            "marker": {
             "colorbar": {
              "outlinewidth": 0,
              "ticks": ""
             }
            },
            "type": "scattergeo"
           }
          ],
          "scattergl": [
           {
            "marker": {
             "colorbar": {
              "outlinewidth": 0,
              "ticks": ""
             }
            },
            "type": "scattergl"
           }
          ],
          "scattermap": [
           {
            "marker": {
             "colorbar": {
              "outlinewidth": 0,
              "ticks": ""
             }
            },
            "type": "scattermap"
           }
          ],
          "scattermapbox": [
           {
            "marker": {
             "colorbar": {
              "outlinewidth": 0,
              "ticks": ""
             }
            },
            "type": "scattermapbox"
           }
          ],
          "scatterpolar": [
           {
            "marker": {
             "colorbar": {
              "outlinewidth": 0,
              "ticks": ""
             }
            },
            "type": "scatterpolar"
           }
          ],
          "scatterpolargl": [
           {
            "marker": {
             "colorbar": {
              "outlinewidth": 0,
              "ticks": ""
             }
            },
            "type": "scatterpolargl"
           }
          ],
          "scatterternary": [
           {
            "marker": {
             "colorbar": {
              "outlinewidth": 0,
              "ticks": ""
             }
            },
            "type": "scatterternary"
           }
          ],
          "surface": [
           {
            "colorbar": {
             "outlinewidth": 0,
             "ticks": ""
            },
            "colorscale": [
             [
              0,
              "#0d0887"
             ],
             [
              0.1111111111111111,
              "#46039f"
             ],
             [
              0.2222222222222222,
              "#7201a8"
             ],
             [
              0.3333333333333333,
              "#9c179e"
             ],
             [
              0.4444444444444444,
              "#bd3786"
             ],
             [
              0.5555555555555556,
              "#d8576b"
             ],
             [
              0.6666666666666666,
              "#ed7953"
             ],
             [
              0.7777777777777778,
              "#fb9f3a"
             ],
             [
              0.8888888888888888,
              "#fdca26"
             ],
             [
              1,
              "#f0f921"
             ]
            ],
            "type": "surface"
           }
          ],
          "table": [
           {
            "cells": {
             "fill": {
              "color": "#EBF0F8"
             },
             "line": {
              "color": "white"
             }
            },
            "header": {
             "fill": {
              "color": "#C8D4E3"
             },
             "line": {
              "color": "white"
             }
            },
            "type": "table"
           }
          ]
         },
         "layout": {
          "annotationdefaults": {
           "arrowcolor": "#2a3f5f",
           "arrowhead": 0,
           "arrowwidth": 1
          },
          "autotypenumbers": "strict",
          "coloraxis": {
           "colorbar": {
            "outlinewidth": 0,
            "ticks": ""
           }
          },
          "colorscale": {
           "diverging": [
            [
             0,
             "#8e0152"
            ],
            [
             0.1,
             "#c51b7d"
            ],
            [
             0.2,
             "#de77ae"
            ],
            [
             0.3,
             "#f1b6da"
            ],
            [
             0.4,
             "#fde0ef"
            ],
            [
             0.5,
             "#f7f7f7"
            ],
            [
             0.6,
             "#e6f5d0"
            ],
            [
             0.7,
             "#b8e186"
            ],
            [
             0.8,
             "#7fbc41"
            ],
            [
             0.9,
             "#4d9221"
            ],
            [
             1,
             "#276419"
            ]
           ],
           "sequential": [
            [
             0,
             "#0d0887"
            ],
            [
             0.1111111111111111,
             "#46039f"
            ],
            [
             0.2222222222222222,
             "#7201a8"
            ],
            [
             0.3333333333333333,
             "#9c179e"
            ],
            [
             0.4444444444444444,
             "#bd3786"
            ],
            [
             0.5555555555555556,
             "#d8576b"
            ],
            [
             0.6666666666666666,
             "#ed7953"
            ],
            [
             0.7777777777777778,
             "#fb9f3a"
            ],
            [
             0.8888888888888888,
             "#fdca26"
            ],
            [
             1,
             "#f0f921"
            ]
           ],
           "sequentialminus": [
            [
             0,
             "#0d0887"
            ],
            [
             0.1111111111111111,
             "#46039f"
            ],
            [
             0.2222222222222222,
             "#7201a8"
            ],
            [
             0.3333333333333333,
             "#9c179e"
            ],
            [
             0.4444444444444444,
             "#bd3786"
            ],
            [
             0.5555555555555556,
             "#d8576b"
            ],
            [
             0.6666666666666666,
             "#ed7953"
            ],
            [
             0.7777777777777778,
             "#fb9f3a"
            ],
            [
             0.8888888888888888,
             "#fdca26"
            ],
            [
             1,
             "#f0f921"
            ]
           ]
          },
          "colorway": [
           "#636efa",
           "#EF553B",
           "#00cc96",
           "#ab63fa",
           "#FFA15A",
           "#19d3f3",
           "#FF6692",
           "#B6E880",
           "#FF97FF",
           "#FECB52"
          ],
          "font": {
           "color": "#2a3f5f"
          },
          "geo": {
           "bgcolor": "white",
           "lakecolor": "white",
           "landcolor": "#E5ECF6",
           "showlakes": true,
           "showland": true,
           "subunitcolor": "white"
          },
          "hoverlabel": {
           "align": "left"
          },
          "hovermode": "closest",
          "mapbox": {
           "style": "light"
          },
          "paper_bgcolor": "white",
          "plot_bgcolor": "#E5ECF6",
          "polar": {
           "angularaxis": {
            "gridcolor": "white",
            "linecolor": "white",
            "ticks": ""
           },
           "bgcolor": "#E5ECF6",
           "radialaxis": {
            "gridcolor": "white",
            "linecolor": "white",
            "ticks": ""
           }
          },
          "scene": {
           "xaxis": {
            "backgroundcolor": "#E5ECF6",
            "gridcolor": "white",
            "gridwidth": 2,
            "linecolor": "white",
            "showbackground": true,
            "ticks": "",
            "zerolinecolor": "white"
           },
           "yaxis": {
            "backgroundcolor": "#E5ECF6",
            "gridcolor": "white",
            "gridwidth": 2,
            "linecolor": "white",
            "showbackground": true,
            "ticks": "",
            "zerolinecolor": "white"
           },
           "zaxis": {
            "backgroundcolor": "#E5ECF6",
            "gridcolor": "white",
            "gridwidth": 2,
            "linecolor": "white",
            "showbackground": true,
            "ticks": "",
            "zerolinecolor": "white"
           }
          },
          "shapedefaults": {
           "line": {
            "color": "#2a3f5f"
           }
          },
          "ternary": {
           "aaxis": {
            "gridcolor": "white",
            "linecolor": "white",
            "ticks": ""
           },
           "baxis": {
            "gridcolor": "white",
            "linecolor": "white",
            "ticks": ""
           },
           "bgcolor": "#E5ECF6",
           "caxis": {
            "gridcolor": "white",
            "linecolor": "white",
            "ticks": ""
           }
          },
          "title": {
           "x": 0.05
          },
          "xaxis": {
           "automargin": true,
           "gridcolor": "white",
           "linecolor": "white",
           "ticks": "",
           "title": {
            "standoff": 15
           },
           "zerolinecolor": "white",
           "zerolinewidth": 2
          },
          "yaxis": {
           "automargin": true,
           "gridcolor": "white",
           "linecolor": "white",
           "ticks": "",
           "title": {
            "standoff": 15
           },
           "zerolinecolor": "white",
           "zerolinewidth": 2
          }
         }
        },
        "title": {
         "text": "Гистограмма и боксплот: Efficacy_correct"
        },
        "xaxis": {
         "anchor": "y",
         "domain": [
          0,
          1
         ],
         "title": {
          "text": "Efficacy"
         }
        },
        "yaxis": {
         "anchor": "x",
         "domain": [
          0,
          1
         ],
         "title": {
          "text": "Frequency"
         }
        }
       }
      }
     },
     "metadata": {},
     "output_type": "display_data"
    }
   ],
   "source": [
    "import plotly.express as px\n",
    "import plotly.graph_objects as go\n",
    "\n",
    "def simple_interactive_plot(df, column_name='Efficacy_correct'):\n",
    "    \"\"\"\n",
    "    Простой интерактивный график с гистограммойё\n",
    "    \"\"\"\n",
    "    # Подготовка данных\n",
    "    variable = df[column_name].fillna(df[column_name].mean())\n",
    "    \n",
    "    # Создаем фигуру с двумя subplots\n",
    "    fig = px.histogram(\n",
    "        variable, \n",
    "        nbins=30,\n",
    "        title=f'Гистограмма: {column_name}',\n",
    "        opacity=0.7\n",
    "    )\n",
    "    \n",
    "    # Добавляем вертикальные линии\n",
    "    des = variable.describe()\n",
    "    for stat, value, color, name in [\n",
    "        ('25%', des['25%'], 'red', '25%'),\n",
    "        ('mean', des['mean'], 'green', 'Среднее'),\n",
    "        ('75%', des['75%'], 'orange', '75%')\n",
    "    ]:\n",
    "        fig.add_vline(\n",
    "            x=value, \n",
    "            line_dash=\"dash\", \n",
    "            line_color=color,\n",
    "            annotation_text=name\n",
    "        )\n",
    "    \n",
    "\n",
    "    \n",
    "    fig.update_layout(\n",
    "        height=600,\n",
    "        showlegend=True,\n",
    "        xaxis_title='Efficacy',\n",
    "        yaxis_title='Frequency'\n",
    "    )\n",
    "    \n",
    "    fig.show()\n",
    "\n",
    "# Использование\n",
    "simple_interactive_plot(df_clean, 'Efficacy_correct')"
   ]
  }
 ],
 "metadata": {
  "kernelspec": {
   "display_name": "my_env",
   "language": "python",
   "name": "python3"
  },
  "language_info": {
   "codemirror_mode": {
    "name": "ipython",
    "version": 3
   },
   "file_extension": ".py",
   "mimetype": "text/x-python",
   "name": "python",
   "nbconvert_exporter": "python",
   "pygments_lexer": "ipython3",
   "version": "3.13.7"
  }
 },
 "nbformat": 4,
 "nbformat_minor": 5
}
