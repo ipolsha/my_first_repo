{
 "cells": [
  {
   "cell_type": "code",
   "execution_count": null,
   "id": "febba621",
   "metadata": {},
   "outputs": [],
   "source": [
    "import pandas as pd\n",
    "format = 'csv'\n",
    "id = '1scmkeENxadknow2rZ6H9LiG9m_BJmkBH'\n",
    "df = pd.read_csv(f'https://docs.google.com/spreadsheets/d/{id}/export?format={format}')\n",
    "df.head(10)\n",
    "id1 = '1G6m-QoLgdWbOV3rSUBOaxn1cDQKkKk1H'\n",
    "df1 = pd.read_csv(f'https://docs.google.com/spreadsheets/d/{id1}/export?format={format}').rename(columns={'SMDBid': 'SMDB_id'})\n",
    "df1.head(10)\n"
   ]
  },
  {
   "cell_type": "code",
   "execution_count": null,
   "id": "6267b1b4",
   "metadata": {},
   "outputs": [],
   "source": [
    "data = pd.merge(df, df1, on='SMDB_id')\n",
    "data = data.drop(columns=['Melting point (°C)', 'Reference Link', 'Field1_links', 'Trust', 'Efficacy_y', 'Field8_links', 'Reference'])\n",
    "\n",
    "print(data.info())"
   ]
  },
  {
   "cell_type": "code",
   "execution_count": null,
   "id": "f08b6a41",
   "metadata": {},
   "outputs": [],
   "source": [
    "string = ['Experiment used to check activity', 'Target gene', 'Cell or Organism used', 'Transfection method', 'siRNA sense', 'siRNA antisense', 'Modification sense', 'Modification antisense', 'Position sense', 'Position antisense']\n",
    "data = data.dropna(subset=string)\n",
    "data = data.convert_dtypes()\n",
    "print(data.info())"
   ]
  },
  {
   "cell_type": "code",
   "execution_count": null,
   "id": "5f57fef9",
   "metadata": {},
   "outputs": [],
   "source": [
    "data['Concentration new'] = data['Concentration'].str.split(' ').str[0].str.extract(r'^(\\d+\\.?\\d*)$', expand=False)\n",
    "data['id_'] = data['SMDB_id'].str.split('SM').str[1].str.extract(r'^(\\d+\\.?\\d*)$', expand=False)\n",
    "data['Duration after transfection new'] = data['Duration after transfection'].str.split(' ').str[0]\n",
    "\n",
    "data = data.dropna(subset=['Concentration new', 'Duration after transfection new'])\n",
    "data['Concentration new'] = data['Concentration new'].astype(float)\n",
    "data['id_'] = data['id_'].astype(int)\n",
    "data['Duration after transfection new'] = data['Duration after transfection new'].astype(int)\n",
    "data = data.drop(columns=['SMDB_id', 'Concentration', 'Duration after transfection'])"
   ]
  },
  {
   "cell_type": "code",
   "execution_count": null,
   "id": "315cd731",
   "metadata": {},
   "outputs": [],
   "source": [
    "print('Типы данных после преобразования:')\n",
    "print(data.dtypes)\n",
    "data.to_csv('new_data.csv')\n",
    "print('Датасет сохранен под именем new_data.csv')"
   ]
  }
 ],
 "metadata": {
  "language_info": {
   "name": "python"
  }
 },
 "nbformat": 4,
 "nbformat_minor": 5
}
